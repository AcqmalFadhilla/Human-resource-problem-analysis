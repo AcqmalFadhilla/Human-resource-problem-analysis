{
 "cells": [
  {
   "cell_type": "code",
   "id": "initial_id",
   "metadata": {
    "collapsed": true,
    "ExecuteTime": {
     "end_time": "2024-11-25T11:54:33.385252Z",
     "start_time": "2024-11-25T11:54:32.272159Z"
    }
   },
   "source": [
    "import pandas as pd\n",
    "import numpy as np\n",
    "import matplotlib.pyplot as plt\n",
    "import seaborn as sns\n",
    "import urllib\n",
    "from sklearn.neighbors import  KNeighborsClassifier\n",
    "from sklearn.model_selection import cross_val_score\n",
    "from sklearn.ensemble import RandomForestClassifier\n",
    "from sklearn.preprocessing import  StandardScaler\n",
    "from wandb import sklearn"
   ],
   "outputs": [],
   "execution_count": 1
  },
  {
   "metadata": {},
   "cell_type": "markdown",
   "source": "# Data understanding",
   "id": "688a52c5fc7495c5"
  },
  {
   "metadata": {},
   "cell_type": "markdown",
   "source": "## Gathering data",
   "id": "699cf0af76277c78"
  },
  {
   "metadata": {
    "ExecuteTime": {
     "end_time": "2024-11-25T11:54:35.379639Z",
     "start_time": "2024-11-25T11:54:33.399716Z"
    }
   },
   "cell_type": "code",
   "source": [
    "url = \"https://github.com/dicodingacademy/dicoding_dataset/blob/main/employee/employee_data.csv?raw=true\"\n",
    "df = pd.read_csv(url)\n",
    "df.head()"
   ],
   "id": "83e4625f4fdd56da",
   "outputs": [
    {
     "data": {
      "text/plain": [
       "   EmployeeId  Age  Attrition     BusinessTravel  DailyRate  \\\n",
       "0           1   38        NaN  Travel_Frequently       1444   \n",
       "1           2   37        1.0      Travel_Rarely       1141   \n",
       "2           3   51        1.0      Travel_Rarely       1323   \n",
       "3           4   42        0.0  Travel_Frequently        555   \n",
       "4           5   40        NaN      Travel_Rarely       1194   \n",
       "\n",
       "               Department  DistanceFromHome  Education EducationField  \\\n",
       "0         Human Resources                 1          4          Other   \n",
       "1  Research & Development                11          2        Medical   \n",
       "2  Research & Development                 4          4  Life Sciences   \n",
       "3                   Sales                26          3      Marketing   \n",
       "4  Research & Development                 2          4        Medical   \n",
       "\n",
       "   EmployeeCount  ...  RelationshipSatisfaction StandardHours  \\\n",
       "0              1  ...                         2            80   \n",
       "1              1  ...                         1            80   \n",
       "2              1  ...                         3            80   \n",
       "3              1  ...                         4            80   \n",
       "4              1  ...                         2            80   \n",
       "\n",
       "   StockOptionLevel  TotalWorkingYears  TrainingTimesLastYear WorkLifeBalance  \\\n",
       "0                 1                  7                      2               3   \n",
       "1                 0                 15                      2               1   \n",
       "2                 3                 18                      2               4   \n",
       "3                 1                 23                      2               4   \n",
       "4                 3                 20                      2               3   \n",
       "\n",
       "   YearsAtCompany YearsInCurrentRole  YearsSinceLastPromotion  \\\n",
       "0               6                  2                        1   \n",
       "1               1                  0                        0   \n",
       "2              10                  0                        2   \n",
       "3              20                  4                        4   \n",
       "4               5                  3                        0   \n",
       "\n",
       "   YearsWithCurrManager  \n",
       "0                     2  \n",
       "1                     0  \n",
       "2                     7  \n",
       "3                     8  \n",
       "4                     2  \n",
       "\n",
       "[5 rows x 35 columns]"
      ],
      "text/html": [
       "<div>\n",
       "<style scoped>\n",
       "    .dataframe tbody tr th:only-of-type {\n",
       "        vertical-align: middle;\n",
       "    }\n",
       "\n",
       "    .dataframe tbody tr th {\n",
       "        vertical-align: top;\n",
       "    }\n",
       "\n",
       "    .dataframe thead th {\n",
       "        text-align: right;\n",
       "    }\n",
       "</style>\n",
       "<table border=\"1\" class=\"dataframe\">\n",
       "  <thead>\n",
       "    <tr style=\"text-align: right;\">\n",
       "      <th></th>\n",
       "      <th>EmployeeId</th>\n",
       "      <th>Age</th>\n",
       "      <th>Attrition</th>\n",
       "      <th>BusinessTravel</th>\n",
       "      <th>DailyRate</th>\n",
       "      <th>Department</th>\n",
       "      <th>DistanceFromHome</th>\n",
       "      <th>Education</th>\n",
       "      <th>EducationField</th>\n",
       "      <th>EmployeeCount</th>\n",
       "      <th>...</th>\n",
       "      <th>RelationshipSatisfaction</th>\n",
       "      <th>StandardHours</th>\n",
       "      <th>StockOptionLevel</th>\n",
       "      <th>TotalWorkingYears</th>\n",
       "      <th>TrainingTimesLastYear</th>\n",
       "      <th>WorkLifeBalance</th>\n",
       "      <th>YearsAtCompany</th>\n",
       "      <th>YearsInCurrentRole</th>\n",
       "      <th>YearsSinceLastPromotion</th>\n",
       "      <th>YearsWithCurrManager</th>\n",
       "    </tr>\n",
       "  </thead>\n",
       "  <tbody>\n",
       "    <tr>\n",
       "      <th>0</th>\n",
       "      <td>1</td>\n",
       "      <td>38</td>\n",
       "      <td>NaN</td>\n",
       "      <td>Travel_Frequently</td>\n",
       "      <td>1444</td>\n",
       "      <td>Human Resources</td>\n",
       "      <td>1</td>\n",
       "      <td>4</td>\n",
       "      <td>Other</td>\n",
       "      <td>1</td>\n",
       "      <td>...</td>\n",
       "      <td>2</td>\n",
       "      <td>80</td>\n",
       "      <td>1</td>\n",
       "      <td>7</td>\n",
       "      <td>2</td>\n",
       "      <td>3</td>\n",
       "      <td>6</td>\n",
       "      <td>2</td>\n",
       "      <td>1</td>\n",
       "      <td>2</td>\n",
       "    </tr>\n",
       "    <tr>\n",
       "      <th>1</th>\n",
       "      <td>2</td>\n",
       "      <td>37</td>\n",
       "      <td>1.0</td>\n",
       "      <td>Travel_Rarely</td>\n",
       "      <td>1141</td>\n",
       "      <td>Research &amp; Development</td>\n",
       "      <td>11</td>\n",
       "      <td>2</td>\n",
       "      <td>Medical</td>\n",
       "      <td>1</td>\n",
       "      <td>...</td>\n",
       "      <td>1</td>\n",
       "      <td>80</td>\n",
       "      <td>0</td>\n",
       "      <td>15</td>\n",
       "      <td>2</td>\n",
       "      <td>1</td>\n",
       "      <td>1</td>\n",
       "      <td>0</td>\n",
       "      <td>0</td>\n",
       "      <td>0</td>\n",
       "    </tr>\n",
       "    <tr>\n",
       "      <th>2</th>\n",
       "      <td>3</td>\n",
       "      <td>51</td>\n",
       "      <td>1.0</td>\n",
       "      <td>Travel_Rarely</td>\n",
       "      <td>1323</td>\n",
       "      <td>Research &amp; Development</td>\n",
       "      <td>4</td>\n",
       "      <td>4</td>\n",
       "      <td>Life Sciences</td>\n",
       "      <td>1</td>\n",
       "      <td>...</td>\n",
       "      <td>3</td>\n",
       "      <td>80</td>\n",
       "      <td>3</td>\n",
       "      <td>18</td>\n",
       "      <td>2</td>\n",
       "      <td>4</td>\n",
       "      <td>10</td>\n",
       "      <td>0</td>\n",
       "      <td>2</td>\n",
       "      <td>7</td>\n",
       "    </tr>\n",
       "    <tr>\n",
       "      <th>3</th>\n",
       "      <td>4</td>\n",
       "      <td>42</td>\n",
       "      <td>0.0</td>\n",
       "      <td>Travel_Frequently</td>\n",
       "      <td>555</td>\n",
       "      <td>Sales</td>\n",
       "      <td>26</td>\n",
       "      <td>3</td>\n",
       "      <td>Marketing</td>\n",
       "      <td>1</td>\n",
       "      <td>...</td>\n",
       "      <td>4</td>\n",
       "      <td>80</td>\n",
       "      <td>1</td>\n",
       "      <td>23</td>\n",
       "      <td>2</td>\n",
       "      <td>4</td>\n",
       "      <td>20</td>\n",
       "      <td>4</td>\n",
       "      <td>4</td>\n",
       "      <td>8</td>\n",
       "    </tr>\n",
       "    <tr>\n",
       "      <th>4</th>\n",
       "      <td>5</td>\n",
       "      <td>40</td>\n",
       "      <td>NaN</td>\n",
       "      <td>Travel_Rarely</td>\n",
       "      <td>1194</td>\n",
       "      <td>Research &amp; Development</td>\n",
       "      <td>2</td>\n",
       "      <td>4</td>\n",
       "      <td>Medical</td>\n",
       "      <td>1</td>\n",
       "      <td>...</td>\n",
       "      <td>2</td>\n",
       "      <td>80</td>\n",
       "      <td>3</td>\n",
       "      <td>20</td>\n",
       "      <td>2</td>\n",
       "      <td>3</td>\n",
       "      <td>5</td>\n",
       "      <td>3</td>\n",
       "      <td>0</td>\n",
       "      <td>2</td>\n",
       "    </tr>\n",
       "  </tbody>\n",
       "</table>\n",
       "<p>5 rows × 35 columns</p>\n",
       "</div>"
      ]
     },
     "execution_count": 2,
     "metadata": {},
     "output_type": "execute_result"
    }
   ],
   "execution_count": 2
  },
  {
   "metadata": {},
   "cell_type": "markdown",
   "source": [
    "#### Insight data\n",
    "\n",
    "is got 34 columns as follows:\n",
    "\n",
    "* **EmployeeId** - Employee Identifier\n",
    "* **Attrition** - Did the employee attrition? (0=no, 1=yes)\n",
    "* **Age** - Age of the employee\n",
    "* **BusinessTravel** - Travel commitments for the job\n",
    "* **DailyRate** - Daily salary\n",
    "* **Department** - Employee Department\n",
    "* **DistanceFromHome** - Distance from work to home (in km)\n",
    "* **Education** - 1-Below College, 2-College, 3-Bachelor, 4-Master,5-Doctor\n",
    "* **EducationField** - Field of Education\n",
    "* **EnvironmentSatisfaction** - 1-Low, 2-Medium, 3-High, 4-Very High\n",
    "* **Gender** - Employee's gender\n",
    "* **HourlyRate** - Hourly salary\n",
    "* **JobInvolvement** - 1-Low, 2-Medium, 3-High, 4-Very High\n",
    "* **JobLevel** - Level of job (1 to 5)\n",
    "* **JobRole** - Job Roles\n",
    "* **JobSatisfaction** - 1-Low, 2-Medium, 3-High, 4-Very High\n",
    "* **MaritalStatus** - Marital Status\n",
    "* **MonthlyIncome** - Monthly salary\n",
    "* **MonthlyRate** - Mounthly rate\n",
    "* **NumCompaniesWorked** - Number of companies worked at\n",
    "* **Over18** - Over 18 years of age?\n",
    "* **OverTime** - Overtime?\n",
    "* **PercentSalaryHike** - The percentage increase in salary last year\n",
    "* **PerformanceRating** - 1-Low, 2-Good, 3-Excellent, 4-Outstanding\n",
    "* **RelationshipSatisfaction** - 1-Low, 2-Medium, 3-High, 4-Very High\n",
    "* **StandardHours** - Standard Hours\n",
    "* **StockOptionLevel** - Stock Option Level\n",
    "* **TotalWorkingYears** - Total years worked\n",
    "* **TrainingTimesLastYear** - Number of training attended last year\n",
    "* **WorkLifeBalance** - 1-Low, 2-Good, 3-Excellent, 4-Outstanding\n",
    "* **YearsAtCompany** - Years at Company\n",
    "* **YearsInCurrentRole** - Years in the current role\n",
    "* **YearsSinceLastPromotion** - Years since the last promotion\n",
    "* **YearsWithCurrManager** - Years with the current manager"
   ],
   "id": "6e087e4876935d99"
  },
  {
   "metadata": {},
   "cell_type": "markdown",
   "source": "## Assessing data",
   "id": "4490940648673df4"
  },
  {
   "metadata": {},
   "cell_type": "markdown",
   "source": "### Check many data",
   "id": "e39038ceae9d1d1b"
  },
  {
   "metadata": {
    "ExecuteTime": {
     "end_time": "2024-11-25T11:54:35.620969Z",
     "start_time": "2024-11-25T11:54:35.601395Z"
    }
   },
   "cell_type": "code",
   "source": "print(f\"many data:{len(df)}\")",
   "id": "6c2f1c36565824a7",
   "outputs": [
    {
     "name": "stdout",
     "output_type": "stream",
     "text": [
      "many data:1470\n"
     ]
    }
   ],
   "execution_count": 3
  },
  {
   "metadata": {},
   "cell_type": "markdown",
   "source": "### Check type data",
   "id": "2a44cbfc3bdecfc4"
  },
  {
   "metadata": {
    "ExecuteTime": {
     "end_time": "2024-11-25T11:54:35.716935Z",
     "start_time": "2024-11-25T11:54:35.690749Z"
    }
   },
   "cell_type": "code",
   "source": "df.info()",
   "id": "fc7e25ba3afc1ed6",
   "outputs": [
    {
     "name": "stdout",
     "output_type": "stream",
     "text": [
      "<class 'pandas.core.frame.DataFrame'>\n",
      "RangeIndex: 1470 entries, 0 to 1469\n",
      "Data columns (total 35 columns):\n",
      " #   Column                    Non-Null Count  Dtype  \n",
      "---  ------                    --------------  -----  \n",
      " 0   EmployeeId                1470 non-null   int64  \n",
      " 1   Age                       1470 non-null   int64  \n",
      " 2   Attrition                 1058 non-null   float64\n",
      " 3   BusinessTravel            1470 non-null   object \n",
      " 4   DailyRate                 1470 non-null   int64  \n",
      " 5   Department                1470 non-null   object \n",
      " 6   DistanceFromHome          1470 non-null   int64  \n",
      " 7   Education                 1470 non-null   int64  \n",
      " 8   EducationField            1470 non-null   object \n",
      " 9   EmployeeCount             1470 non-null   int64  \n",
      " 10  EnvironmentSatisfaction   1470 non-null   int64  \n",
      " 11  Gender                    1470 non-null   object \n",
      " 12  HourlyRate                1470 non-null   int64  \n",
      " 13  JobInvolvement            1470 non-null   int64  \n",
      " 14  JobLevel                  1470 non-null   int64  \n",
      " 15  JobRole                   1470 non-null   object \n",
      " 16  JobSatisfaction           1470 non-null   int64  \n",
      " 17  MaritalStatus             1470 non-null   object \n",
      " 18  MonthlyIncome             1470 non-null   int64  \n",
      " 19  MonthlyRate               1470 non-null   int64  \n",
      " 20  NumCompaniesWorked        1470 non-null   int64  \n",
      " 21  Over18                    1470 non-null   object \n",
      " 22  OverTime                  1470 non-null   object \n",
      " 23  PercentSalaryHike         1470 non-null   int64  \n",
      " 24  PerformanceRating         1470 non-null   int64  \n",
      " 25  RelationshipSatisfaction  1470 non-null   int64  \n",
      " 26  StandardHours             1470 non-null   int64  \n",
      " 27  StockOptionLevel          1470 non-null   int64  \n",
      " 28  TotalWorkingYears         1470 non-null   int64  \n",
      " 29  TrainingTimesLastYear     1470 non-null   int64  \n",
      " 30  WorkLifeBalance           1470 non-null   int64  \n",
      " 31  YearsAtCompany            1470 non-null   int64  \n",
      " 32  YearsInCurrentRole        1470 non-null   int64  \n",
      " 33  YearsSinceLastPromotion   1470 non-null   int64  \n",
      " 34  YearsWithCurrManager      1470 non-null   int64  \n",
      "dtypes: float64(1), int64(26), object(8)\n",
      "memory usage: 402.1+ KB\n"
     ]
    }
   ],
   "execution_count": 4
  },
  {
   "metadata": {},
   "cell_type": "markdown",
   "source": [
    "#### Insight\n",
    "Is got anomalie data type which must isn't happened\n",
    "* **EmployeeID** - string\n"
   ],
   "id": "1b8084ba908843c9"
  },
  {
   "metadata": {},
   "cell_type": "markdown",
   "source": "### Check missing value",
   "id": "a74c6d85c192cbd0"
  },
  {
   "metadata": {
    "ExecuteTime": {
     "end_time": "2024-11-25T11:54:35.879507Z",
     "start_time": "2024-11-25T11:54:35.870494Z"
    }
   },
   "cell_type": "code",
   "source": "df.isnull().sum()",
   "id": "38d378506142a94e",
   "outputs": [
    {
     "data": {
      "text/plain": [
       "EmployeeId                    0\n",
       "Age                           0\n",
       "Attrition                   412\n",
       "BusinessTravel                0\n",
       "DailyRate                     0\n",
       "Department                    0\n",
       "DistanceFromHome              0\n",
       "Education                     0\n",
       "EducationField                0\n",
       "EmployeeCount                 0\n",
       "EnvironmentSatisfaction       0\n",
       "Gender                        0\n",
       "HourlyRate                    0\n",
       "JobInvolvement                0\n",
       "JobLevel                      0\n",
       "JobRole                       0\n",
       "JobSatisfaction               0\n",
       "MaritalStatus                 0\n",
       "MonthlyIncome                 0\n",
       "MonthlyRate                   0\n",
       "NumCompaniesWorked            0\n",
       "Over18                        0\n",
       "OverTime                      0\n",
       "PercentSalaryHike             0\n",
       "PerformanceRating             0\n",
       "RelationshipSatisfaction      0\n",
       "StandardHours                 0\n",
       "StockOptionLevel              0\n",
       "TotalWorkingYears             0\n",
       "TrainingTimesLastYear         0\n",
       "WorkLifeBalance               0\n",
       "YearsAtCompany                0\n",
       "YearsInCurrentRole            0\n",
       "YearsSinceLastPromotion       0\n",
       "YearsWithCurrManager          0\n",
       "dtype: int64"
      ]
     },
     "execution_count": 5,
     "metadata": {},
     "output_type": "execute_result"
    }
   ],
   "execution_count": 5
  },
  {
   "metadata": {},
   "cell_type": "markdown",
   "source": [
    "#### Insight\n",
    "Obtained 412 null data in the Attrition column"
   ],
   "id": "c4f7cb8766ef90ed"
  },
  {
   "metadata": {},
   "cell_type": "markdown",
   "source": "### Check duplicate data",
   "id": "6e811ad223458d81"
  },
  {
   "metadata": {
    "ExecuteTime": {
     "end_time": "2024-11-25T11:54:36.039144Z",
     "start_time": "2024-11-25T11:54:36.030646Z"
    }
   },
   "cell_type": "code",
   "source": "df.duplicated().sum()",
   "id": "b4db44e0f6d98618",
   "outputs": [
    {
     "data": {
      "text/plain": [
       "0"
      ]
     },
     "execution_count": 6,
     "metadata": {},
     "output_type": "execute_result"
    }
   ],
   "execution_count": 6
  },
  {
   "metadata": {},
   "cell_type": "markdown",
   "source": [
    "#### Insight\n",
    "Is not got duplicate data"
   ],
   "id": "bdddcb8dd47a8c63"
  },
  {
   "metadata": {},
   "cell_type": "markdown",
   "source": "### Check value unique",
   "id": "af805a5ba6162a27"
  },
  {
   "metadata": {
    "ExecuteTime": {
     "end_time": "2024-11-25T11:54:36.203483Z",
     "start_time": "2024-11-25T11:54:36.194316Z"
    }
   },
   "cell_type": "code",
   "source": "print(df[\"BusinessTravel\"].value_counts())",
   "id": "ee5efc5958b83bb1",
   "outputs": [
    {
     "name": "stdout",
     "output_type": "stream",
     "text": [
      "BusinessTravel\n",
      "Travel_Rarely        1043\n",
      "Travel_Frequently     277\n",
      "Non-Travel            150\n",
      "Name: count, dtype: int64\n"
     ]
    }
   ],
   "execution_count": 7
  },
  {
   "metadata": {
    "ExecuteTime": {
     "end_time": "2024-11-25T11:54:36.278745Z",
     "start_time": "2024-11-25T11:54:36.271862Z"
    }
   },
   "cell_type": "code",
   "source": "print(df[\"Department\"].value_counts())",
   "id": "f4a5ae2767162a05",
   "outputs": [
    {
     "name": "stdout",
     "output_type": "stream",
     "text": [
      "Department\n",
      "Research & Development    961\n",
      "Sales                     446\n",
      "Human Resources            63\n",
      "Name: count, dtype: int64\n"
     ]
    }
   ],
   "execution_count": 8
  },
  {
   "metadata": {
    "ExecuteTime": {
     "end_time": "2024-11-25T11:54:36.423557Z",
     "start_time": "2024-11-25T11:54:36.413779Z"
    }
   },
   "cell_type": "code",
   "source": "print(df[\"EducationField\"].value_counts())",
   "id": "666bc9cdbc0f9806",
   "outputs": [
    {
     "name": "stdout",
     "output_type": "stream",
     "text": [
      "EducationField\n",
      "Life Sciences       606\n",
      "Medical             464\n",
      "Marketing           159\n",
      "Technical Degree    132\n",
      "Other                82\n",
      "Human Resources      27\n",
      "Name: count, dtype: int64\n"
     ]
    }
   ],
   "execution_count": 9
  },
  {
   "metadata": {
    "ExecuteTime": {
     "end_time": "2024-11-25T11:54:36.573037Z",
     "start_time": "2024-11-25T11:54:36.564014Z"
    }
   },
   "cell_type": "code",
   "source": "print(df[\"Gender\"].value_counts())",
   "id": "88815bee896c9e89",
   "outputs": [
    {
     "name": "stdout",
     "output_type": "stream",
     "text": [
      "Gender\n",
      "Male      882\n",
      "Female    588\n",
      "Name: count, dtype: int64\n"
     ]
    }
   ],
   "execution_count": 10
  },
  {
   "metadata": {
    "ExecuteTime": {
     "end_time": "2024-11-25T11:54:36.699147Z",
     "start_time": "2024-11-25T11:54:36.689843Z"
    }
   },
   "cell_type": "code",
   "source": "print(df[\"JobRole\"].value_counts())",
   "id": "1a4b3ff62f6093aa",
   "outputs": [
    {
     "name": "stdout",
     "output_type": "stream",
     "text": [
      "JobRole\n",
      "Sales Executive              326\n",
      "Research Scientist           292\n",
      "Laboratory Technician        259\n",
      "Manufacturing Director       145\n",
      "Healthcare Representative    131\n",
      "Manager                      102\n",
      "Sales Representative          83\n",
      "Research Director             80\n",
      "Human Resources               52\n",
      "Name: count, dtype: int64\n"
     ]
    }
   ],
   "execution_count": 11
  },
  {
   "metadata": {
    "ExecuteTime": {
     "end_time": "2024-11-25T11:54:36.749470Z",
     "start_time": "2024-11-25T11:54:36.744658Z"
    }
   },
   "cell_type": "code",
   "source": "print(df[\"MaritalStatus\"].value_counts())",
   "id": "c44c41a37201c983",
   "outputs": [
    {
     "name": "stdout",
     "output_type": "stream",
     "text": [
      "MaritalStatus\n",
      "Married     673\n",
      "Single      470\n",
      "Divorced    327\n",
      "Name: count, dtype: int64\n"
     ]
    }
   ],
   "execution_count": 12
  },
  {
   "metadata": {
    "ExecuteTime": {
     "end_time": "2024-11-25T11:54:36.820173Z",
     "start_time": "2024-11-25T11:54:36.814694Z"
    }
   },
   "cell_type": "code",
   "source": "print(df[\"Over18\"].value_counts())",
   "id": "d799fd1dd8f17521",
   "outputs": [
    {
     "name": "stdout",
     "output_type": "stream",
     "text": [
      "Over18\n",
      "Y    1470\n",
      "Name: count, dtype: int64\n"
     ]
    }
   ],
   "execution_count": 13
  },
  {
   "metadata": {
    "ExecuteTime": {
     "end_time": "2024-11-25T11:54:36.880643Z",
     "start_time": "2024-11-25T11:54:36.876206Z"
    }
   },
   "cell_type": "code",
   "source": "print(df[\"OverTime\"].value_counts())",
   "id": "8bac8d64238f1580",
   "outputs": [
    {
     "name": "stdout",
     "output_type": "stream",
     "text": [
      "OverTime\n",
      "No     1054\n",
      "Yes     416\n",
      "Name: count, dtype: int64\n"
     ]
    }
   ],
   "execution_count": 14
  },
  {
   "metadata": {},
   "cell_type": "markdown",
   "source": [
    "#### Insight\n",
    "all columns categorical will be changed into numerical\n",
    "* **BusinessTravel**\n",
    "* **Departement**\n",
    "* **EducationField**\n",
    "* **Gender**\n",
    "* **JobRole**\n",
    "* **MaritalStatus**\n",
    "* **Over18**\n",
    "* **OverTime**"
   ],
   "id": "779dde71f4d948b2"
  },
  {
   "metadata": {},
   "cell_type": "markdown",
   "source": "## Cleaning data",
   "id": "978f16f63d95eea4"
  },
  {
   "metadata": {},
   "cell_type": "markdown",
   "source": [
    "### To change type date\n",
    "change type data to column which has been done assessing data"
   ],
   "id": "9c69fd488cba5652"
  },
  {
   "metadata": {
    "ExecuteTime": {
     "end_time": "2024-11-25T11:54:36.943225Z",
     "start_time": "2024-11-25T11:54:36.936898Z"
    }
   },
   "cell_type": "code",
   "source": "df[\"EmployeeId\"] = df[\"EmployeeId\"].astype(str)\n",
   "id": "684356c2f46ea22b",
   "outputs": [],
   "execution_count": 15
  },
  {
   "metadata": {},
   "cell_type": "markdown",
   "source": [
    "### To change columns categorical to numeric\n",
    "changing columns categorical faceilitate for getting feature"
   ],
   "id": "e99f051d1d1a6179"
  },
  {
   "metadata": {
    "ExecuteTime": {
     "end_time": "2024-11-25T11:54:36.995125Z",
     "start_time": "2024-11-25T11:54:36.976444Z"
    }
   },
   "cell_type": "code",
   "source": "df",
   "id": "ad4f0a21a8f73f5e",
   "outputs": [
    {
     "data": {
      "text/plain": [
       "     EmployeeId  Age  Attrition     BusinessTravel  DailyRate  \\\n",
       "0             1   38        NaN  Travel_Frequently       1444   \n",
       "1             2   37        1.0      Travel_Rarely       1141   \n",
       "2             3   51        1.0      Travel_Rarely       1323   \n",
       "3             4   42        0.0  Travel_Frequently        555   \n",
       "4             5   40        NaN      Travel_Rarely       1194   \n",
       "...         ...  ...        ...                ...        ...   \n",
       "1465       1466   38        0.0      Travel_Rarely        168   \n",
       "1466       1467   50        NaN      Travel_Rarely        813   \n",
       "1467       1468   28        1.0      Travel_Rarely       1485   \n",
       "1468       1469   40        0.0         Non-Travel        458   \n",
       "1469       1470   19        1.0  Travel_Frequently        602   \n",
       "\n",
       "                  Department  DistanceFromHome  Education    EducationField  \\\n",
       "0            Human Resources                 1          4             Other   \n",
       "1     Research & Development                11          2           Medical   \n",
       "2     Research & Development                 4          4     Life Sciences   \n",
       "3                      Sales                26          3         Marketing   \n",
       "4     Research & Development                 2          4           Medical   \n",
       "...                      ...               ...        ...               ...   \n",
       "1465  Research & Development                 1          3     Life Sciences   \n",
       "1466  Research & Development                17          5     Life Sciences   \n",
       "1467  Research & Development                12          1     Life Sciences   \n",
       "1468  Research & Development                16          2     Life Sciences   \n",
       "1469                   Sales                 1          1  Technical Degree   \n",
       "\n",
       "      EmployeeCount  ...  RelationshipSatisfaction StandardHours  \\\n",
       "0                 1  ...                         2            80   \n",
       "1                 1  ...                         1            80   \n",
       "2                 1  ...                         3            80   \n",
       "3                 1  ...                         4            80   \n",
       "4                 1  ...                         2            80   \n",
       "...             ...  ...                       ...           ...   \n",
       "1465              1  ...                         4            80   \n",
       "1466              1  ...                         3            80   \n",
       "1467              1  ...                         4            80   \n",
       "1468              1  ...                         2            80   \n",
       "1469              1  ...                         1            80   \n",
       "\n",
       "      StockOptionLevel  TotalWorkingYears  TrainingTimesLastYear  \\\n",
       "0                    1                  7                      2   \n",
       "1                    0                 15                      2   \n",
       "2                    3                 18                      2   \n",
       "3                    1                 23                      2   \n",
       "4                    3                 20                      2   \n",
       "...                ...                ...                    ...   \n",
       "1465                 0                 10                      4   \n",
       "1466                 3                 19                      3   \n",
       "1467                 0                  1                      4   \n",
       "1468                 1                  6                      0   \n",
       "1469                 0                  1                      5   \n",
       "\n",
       "     WorkLifeBalance  YearsAtCompany YearsInCurrentRole  \\\n",
       "0                  3               6                  2   \n",
       "1                  1               1                  0   \n",
       "2                  4              10                  0   \n",
       "3                  4              20                  4   \n",
       "4                  3               5                  3   \n",
       "...              ...             ...                ...   \n",
       "1465               4               1                  0   \n",
       "1466               3              14                 11   \n",
       "1467               2               1                  1   \n",
       "1468               3               4                  2   \n",
       "1469               4               0                  0   \n",
       "\n",
       "      YearsSinceLastPromotion  YearsWithCurrManager  \n",
       "0                           1                     2  \n",
       "1                           0                     0  \n",
       "2                           2                     7  \n",
       "3                           4                     8  \n",
       "4                           0                     2  \n",
       "...                       ...                   ...  \n",
       "1465                        0                     0  \n",
       "1466                        1                    11  \n",
       "1467                        0                     0  \n",
       "1468                        0                     0  \n",
       "1469                        0                     0  \n",
       "\n",
       "[1470 rows x 35 columns]"
      ],
      "text/html": [
       "<div>\n",
       "<style scoped>\n",
       "    .dataframe tbody tr th:only-of-type {\n",
       "        vertical-align: middle;\n",
       "    }\n",
       "\n",
       "    .dataframe tbody tr th {\n",
       "        vertical-align: top;\n",
       "    }\n",
       "\n",
       "    .dataframe thead th {\n",
       "        text-align: right;\n",
       "    }\n",
       "</style>\n",
       "<table border=\"1\" class=\"dataframe\">\n",
       "  <thead>\n",
       "    <tr style=\"text-align: right;\">\n",
       "      <th></th>\n",
       "      <th>EmployeeId</th>\n",
       "      <th>Age</th>\n",
       "      <th>Attrition</th>\n",
       "      <th>BusinessTravel</th>\n",
       "      <th>DailyRate</th>\n",
       "      <th>Department</th>\n",
       "      <th>DistanceFromHome</th>\n",
       "      <th>Education</th>\n",
       "      <th>EducationField</th>\n",
       "      <th>EmployeeCount</th>\n",
       "      <th>...</th>\n",
       "      <th>RelationshipSatisfaction</th>\n",
       "      <th>StandardHours</th>\n",
       "      <th>StockOptionLevel</th>\n",
       "      <th>TotalWorkingYears</th>\n",
       "      <th>TrainingTimesLastYear</th>\n",
       "      <th>WorkLifeBalance</th>\n",
       "      <th>YearsAtCompany</th>\n",
       "      <th>YearsInCurrentRole</th>\n",
       "      <th>YearsSinceLastPromotion</th>\n",
       "      <th>YearsWithCurrManager</th>\n",
       "    </tr>\n",
       "  </thead>\n",
       "  <tbody>\n",
       "    <tr>\n",
       "      <th>0</th>\n",
       "      <td>1</td>\n",
       "      <td>38</td>\n",
       "      <td>NaN</td>\n",
       "      <td>Travel_Frequently</td>\n",
       "      <td>1444</td>\n",
       "      <td>Human Resources</td>\n",
       "      <td>1</td>\n",
       "      <td>4</td>\n",
       "      <td>Other</td>\n",
       "      <td>1</td>\n",
       "      <td>...</td>\n",
       "      <td>2</td>\n",
       "      <td>80</td>\n",
       "      <td>1</td>\n",
       "      <td>7</td>\n",
       "      <td>2</td>\n",
       "      <td>3</td>\n",
       "      <td>6</td>\n",
       "      <td>2</td>\n",
       "      <td>1</td>\n",
       "      <td>2</td>\n",
       "    </tr>\n",
       "    <tr>\n",
       "      <th>1</th>\n",
       "      <td>2</td>\n",
       "      <td>37</td>\n",
       "      <td>1.0</td>\n",
       "      <td>Travel_Rarely</td>\n",
       "      <td>1141</td>\n",
       "      <td>Research &amp; Development</td>\n",
       "      <td>11</td>\n",
       "      <td>2</td>\n",
       "      <td>Medical</td>\n",
       "      <td>1</td>\n",
       "      <td>...</td>\n",
       "      <td>1</td>\n",
       "      <td>80</td>\n",
       "      <td>0</td>\n",
       "      <td>15</td>\n",
       "      <td>2</td>\n",
       "      <td>1</td>\n",
       "      <td>1</td>\n",
       "      <td>0</td>\n",
       "      <td>0</td>\n",
       "      <td>0</td>\n",
       "    </tr>\n",
       "    <tr>\n",
       "      <th>2</th>\n",
       "      <td>3</td>\n",
       "      <td>51</td>\n",
       "      <td>1.0</td>\n",
       "      <td>Travel_Rarely</td>\n",
       "      <td>1323</td>\n",
       "      <td>Research &amp; Development</td>\n",
       "      <td>4</td>\n",
       "      <td>4</td>\n",
       "      <td>Life Sciences</td>\n",
       "      <td>1</td>\n",
       "      <td>...</td>\n",
       "      <td>3</td>\n",
       "      <td>80</td>\n",
       "      <td>3</td>\n",
       "      <td>18</td>\n",
       "      <td>2</td>\n",
       "      <td>4</td>\n",
       "      <td>10</td>\n",
       "      <td>0</td>\n",
       "      <td>2</td>\n",
       "      <td>7</td>\n",
       "    </tr>\n",
       "    <tr>\n",
       "      <th>3</th>\n",
       "      <td>4</td>\n",
       "      <td>42</td>\n",
       "      <td>0.0</td>\n",
       "      <td>Travel_Frequently</td>\n",
       "      <td>555</td>\n",
       "      <td>Sales</td>\n",
       "      <td>26</td>\n",
       "      <td>3</td>\n",
       "      <td>Marketing</td>\n",
       "      <td>1</td>\n",
       "      <td>...</td>\n",
       "      <td>4</td>\n",
       "      <td>80</td>\n",
       "      <td>1</td>\n",
       "      <td>23</td>\n",
       "      <td>2</td>\n",
       "      <td>4</td>\n",
       "      <td>20</td>\n",
       "      <td>4</td>\n",
       "      <td>4</td>\n",
       "      <td>8</td>\n",
       "    </tr>\n",
       "    <tr>\n",
       "      <th>4</th>\n",
       "      <td>5</td>\n",
       "      <td>40</td>\n",
       "      <td>NaN</td>\n",
       "      <td>Travel_Rarely</td>\n",
       "      <td>1194</td>\n",
       "      <td>Research &amp; Development</td>\n",
       "      <td>2</td>\n",
       "      <td>4</td>\n",
       "      <td>Medical</td>\n",
       "      <td>1</td>\n",
       "      <td>...</td>\n",
       "      <td>2</td>\n",
       "      <td>80</td>\n",
       "      <td>3</td>\n",
       "      <td>20</td>\n",
       "      <td>2</td>\n",
       "      <td>3</td>\n",
       "      <td>5</td>\n",
       "      <td>3</td>\n",
       "      <td>0</td>\n",
       "      <td>2</td>\n",
       "    </tr>\n",
       "    <tr>\n",
       "      <th>...</th>\n",
       "      <td>...</td>\n",
       "      <td>...</td>\n",
       "      <td>...</td>\n",
       "      <td>...</td>\n",
       "      <td>...</td>\n",
       "      <td>...</td>\n",
       "      <td>...</td>\n",
       "      <td>...</td>\n",
       "      <td>...</td>\n",
       "      <td>...</td>\n",
       "      <td>...</td>\n",
       "      <td>...</td>\n",
       "      <td>...</td>\n",
       "      <td>...</td>\n",
       "      <td>...</td>\n",
       "      <td>...</td>\n",
       "      <td>...</td>\n",
       "      <td>...</td>\n",
       "      <td>...</td>\n",
       "      <td>...</td>\n",
       "      <td>...</td>\n",
       "    </tr>\n",
       "    <tr>\n",
       "      <th>1465</th>\n",
       "      <td>1466</td>\n",
       "      <td>38</td>\n",
       "      <td>0.0</td>\n",
       "      <td>Travel_Rarely</td>\n",
       "      <td>168</td>\n",
       "      <td>Research &amp; Development</td>\n",
       "      <td>1</td>\n",
       "      <td>3</td>\n",
       "      <td>Life Sciences</td>\n",
       "      <td>1</td>\n",
       "      <td>...</td>\n",
       "      <td>4</td>\n",
       "      <td>80</td>\n",
       "      <td>0</td>\n",
       "      <td>10</td>\n",
       "      <td>4</td>\n",
       "      <td>4</td>\n",
       "      <td>1</td>\n",
       "      <td>0</td>\n",
       "      <td>0</td>\n",
       "      <td>0</td>\n",
       "    </tr>\n",
       "    <tr>\n",
       "      <th>1466</th>\n",
       "      <td>1467</td>\n",
       "      <td>50</td>\n",
       "      <td>NaN</td>\n",
       "      <td>Travel_Rarely</td>\n",
       "      <td>813</td>\n",
       "      <td>Research &amp; Development</td>\n",
       "      <td>17</td>\n",
       "      <td>5</td>\n",
       "      <td>Life Sciences</td>\n",
       "      <td>1</td>\n",
       "      <td>...</td>\n",
       "      <td>3</td>\n",
       "      <td>80</td>\n",
       "      <td>3</td>\n",
       "      <td>19</td>\n",
       "      <td>3</td>\n",
       "      <td>3</td>\n",
       "      <td>14</td>\n",
       "      <td>11</td>\n",
       "      <td>1</td>\n",
       "      <td>11</td>\n",
       "    </tr>\n",
       "    <tr>\n",
       "      <th>1467</th>\n",
       "      <td>1468</td>\n",
       "      <td>28</td>\n",
       "      <td>1.0</td>\n",
       "      <td>Travel_Rarely</td>\n",
       "      <td>1485</td>\n",
       "      <td>Research &amp; Development</td>\n",
       "      <td>12</td>\n",
       "      <td>1</td>\n",
       "      <td>Life Sciences</td>\n",
       "      <td>1</td>\n",
       "      <td>...</td>\n",
       "      <td>4</td>\n",
       "      <td>80</td>\n",
       "      <td>0</td>\n",
       "      <td>1</td>\n",
       "      <td>4</td>\n",
       "      <td>2</td>\n",
       "      <td>1</td>\n",
       "      <td>1</td>\n",
       "      <td>0</td>\n",
       "      <td>0</td>\n",
       "    </tr>\n",
       "    <tr>\n",
       "      <th>1468</th>\n",
       "      <td>1469</td>\n",
       "      <td>40</td>\n",
       "      <td>0.0</td>\n",
       "      <td>Non-Travel</td>\n",
       "      <td>458</td>\n",
       "      <td>Research &amp; Development</td>\n",
       "      <td>16</td>\n",
       "      <td>2</td>\n",
       "      <td>Life Sciences</td>\n",
       "      <td>1</td>\n",
       "      <td>...</td>\n",
       "      <td>2</td>\n",
       "      <td>80</td>\n",
       "      <td>1</td>\n",
       "      <td>6</td>\n",
       "      <td>0</td>\n",
       "      <td>3</td>\n",
       "      <td>4</td>\n",
       "      <td>2</td>\n",
       "      <td>0</td>\n",
       "      <td>0</td>\n",
       "    </tr>\n",
       "    <tr>\n",
       "      <th>1469</th>\n",
       "      <td>1470</td>\n",
       "      <td>19</td>\n",
       "      <td>1.0</td>\n",
       "      <td>Travel_Frequently</td>\n",
       "      <td>602</td>\n",
       "      <td>Sales</td>\n",
       "      <td>1</td>\n",
       "      <td>1</td>\n",
       "      <td>Technical Degree</td>\n",
       "      <td>1</td>\n",
       "      <td>...</td>\n",
       "      <td>1</td>\n",
       "      <td>80</td>\n",
       "      <td>0</td>\n",
       "      <td>1</td>\n",
       "      <td>5</td>\n",
       "      <td>4</td>\n",
       "      <td>0</td>\n",
       "      <td>0</td>\n",
       "      <td>0</td>\n",
       "      <td>0</td>\n",
       "    </tr>\n",
       "  </tbody>\n",
       "</table>\n",
       "<p>1470 rows × 35 columns</p>\n",
       "</div>"
      ]
     },
     "execution_count": 16,
     "metadata": {},
     "output_type": "execute_result"
    }
   ],
   "execution_count": 16
  },
  {
   "metadata": {
    "ExecuteTime": {
     "end_time": "2024-11-25T11:54:37.072842Z",
     "start_time": "2024-11-25T11:54:37.056794Z"
    }
   },
   "cell_type": "code",
   "source": [
    "df_pre = df.copy()\n",
    "# df_pre.drop(\"EmployeId\", axis=1, inplace=True)\n",
    "\n",
    "for column in df_pre.columns:\n",
    "    if column != \"EmployeeId\":\n",
    "        if df_pre[column].dtype == \"object\":\n",
    "            df_pre[column] = df_pre[column].astype(\"category\")\n",
    "            df_pre[column] = df_pre[column].cat.codes"
   ],
   "id": "4b0f505e367a69ce",
   "outputs": [],
   "execution_count": 17
  },
  {
   "metadata": {
    "ExecuteTime": {
     "end_time": "2024-11-25T11:54:37.180494Z",
     "start_time": "2024-11-25T11:54:37.153739Z"
    }
   },
   "cell_type": "code",
   "source": "df_pre.head()",
   "id": "3cbf80c5ab54996f",
   "outputs": [
    {
     "data": {
      "text/plain": [
       "  EmployeeId  Age  Attrition  BusinessTravel  DailyRate  Department  \\\n",
       "0          1   38        NaN               1       1444           0   \n",
       "1          2   37        1.0               2       1141           1   \n",
       "2          3   51        1.0               2       1323           1   \n",
       "3          4   42        0.0               1        555           2   \n",
       "4          5   40        NaN               2       1194           1   \n",
       "\n",
       "   DistanceFromHome  Education  EducationField  EmployeeCount  ...  \\\n",
       "0                 1          4               4              1  ...   \n",
       "1                11          2               3              1  ...   \n",
       "2                 4          4               1              1  ...   \n",
       "3                26          3               2              1  ...   \n",
       "4                 2          4               3              1  ...   \n",
       "\n",
       "   RelationshipSatisfaction  StandardHours  StockOptionLevel  \\\n",
       "0                         2             80                 1   \n",
       "1                         1             80                 0   \n",
       "2                         3             80                 3   \n",
       "3                         4             80                 1   \n",
       "4                         2             80                 3   \n",
       "\n",
       "   TotalWorkingYears  TrainingTimesLastYear  WorkLifeBalance  YearsAtCompany  \\\n",
       "0                  7                      2                3               6   \n",
       "1                 15                      2                1               1   \n",
       "2                 18                      2                4              10   \n",
       "3                 23                      2                4              20   \n",
       "4                 20                      2                3               5   \n",
       "\n",
       "   YearsInCurrentRole  YearsSinceLastPromotion  YearsWithCurrManager  \n",
       "0                   2                        1                     2  \n",
       "1                   0                        0                     0  \n",
       "2                   0                        2                     7  \n",
       "3                   4                        4                     8  \n",
       "4                   3                        0                     2  \n",
       "\n",
       "[5 rows x 35 columns]"
      ],
      "text/html": [
       "<div>\n",
       "<style scoped>\n",
       "    .dataframe tbody tr th:only-of-type {\n",
       "        vertical-align: middle;\n",
       "    }\n",
       "\n",
       "    .dataframe tbody tr th {\n",
       "        vertical-align: top;\n",
       "    }\n",
       "\n",
       "    .dataframe thead th {\n",
       "        text-align: right;\n",
       "    }\n",
       "</style>\n",
       "<table border=\"1\" class=\"dataframe\">\n",
       "  <thead>\n",
       "    <tr style=\"text-align: right;\">\n",
       "      <th></th>\n",
       "      <th>EmployeeId</th>\n",
       "      <th>Age</th>\n",
       "      <th>Attrition</th>\n",
       "      <th>BusinessTravel</th>\n",
       "      <th>DailyRate</th>\n",
       "      <th>Department</th>\n",
       "      <th>DistanceFromHome</th>\n",
       "      <th>Education</th>\n",
       "      <th>EducationField</th>\n",
       "      <th>EmployeeCount</th>\n",
       "      <th>...</th>\n",
       "      <th>RelationshipSatisfaction</th>\n",
       "      <th>StandardHours</th>\n",
       "      <th>StockOptionLevel</th>\n",
       "      <th>TotalWorkingYears</th>\n",
       "      <th>TrainingTimesLastYear</th>\n",
       "      <th>WorkLifeBalance</th>\n",
       "      <th>YearsAtCompany</th>\n",
       "      <th>YearsInCurrentRole</th>\n",
       "      <th>YearsSinceLastPromotion</th>\n",
       "      <th>YearsWithCurrManager</th>\n",
       "    </tr>\n",
       "  </thead>\n",
       "  <tbody>\n",
       "    <tr>\n",
       "      <th>0</th>\n",
       "      <td>1</td>\n",
       "      <td>38</td>\n",
       "      <td>NaN</td>\n",
       "      <td>1</td>\n",
       "      <td>1444</td>\n",
       "      <td>0</td>\n",
       "      <td>1</td>\n",
       "      <td>4</td>\n",
       "      <td>4</td>\n",
       "      <td>1</td>\n",
       "      <td>...</td>\n",
       "      <td>2</td>\n",
       "      <td>80</td>\n",
       "      <td>1</td>\n",
       "      <td>7</td>\n",
       "      <td>2</td>\n",
       "      <td>3</td>\n",
       "      <td>6</td>\n",
       "      <td>2</td>\n",
       "      <td>1</td>\n",
       "      <td>2</td>\n",
       "    </tr>\n",
       "    <tr>\n",
       "      <th>1</th>\n",
       "      <td>2</td>\n",
       "      <td>37</td>\n",
       "      <td>1.0</td>\n",
       "      <td>2</td>\n",
       "      <td>1141</td>\n",
       "      <td>1</td>\n",
       "      <td>11</td>\n",
       "      <td>2</td>\n",
       "      <td>3</td>\n",
       "      <td>1</td>\n",
       "      <td>...</td>\n",
       "      <td>1</td>\n",
       "      <td>80</td>\n",
       "      <td>0</td>\n",
       "      <td>15</td>\n",
       "      <td>2</td>\n",
       "      <td>1</td>\n",
       "      <td>1</td>\n",
       "      <td>0</td>\n",
       "      <td>0</td>\n",
       "      <td>0</td>\n",
       "    </tr>\n",
       "    <tr>\n",
       "      <th>2</th>\n",
       "      <td>3</td>\n",
       "      <td>51</td>\n",
       "      <td>1.0</td>\n",
       "      <td>2</td>\n",
       "      <td>1323</td>\n",
       "      <td>1</td>\n",
       "      <td>4</td>\n",
       "      <td>4</td>\n",
       "      <td>1</td>\n",
       "      <td>1</td>\n",
       "      <td>...</td>\n",
       "      <td>3</td>\n",
       "      <td>80</td>\n",
       "      <td>3</td>\n",
       "      <td>18</td>\n",
       "      <td>2</td>\n",
       "      <td>4</td>\n",
       "      <td>10</td>\n",
       "      <td>0</td>\n",
       "      <td>2</td>\n",
       "      <td>7</td>\n",
       "    </tr>\n",
       "    <tr>\n",
       "      <th>3</th>\n",
       "      <td>4</td>\n",
       "      <td>42</td>\n",
       "      <td>0.0</td>\n",
       "      <td>1</td>\n",
       "      <td>555</td>\n",
       "      <td>2</td>\n",
       "      <td>26</td>\n",
       "      <td>3</td>\n",
       "      <td>2</td>\n",
       "      <td>1</td>\n",
       "      <td>...</td>\n",
       "      <td>4</td>\n",
       "      <td>80</td>\n",
       "      <td>1</td>\n",
       "      <td>23</td>\n",
       "      <td>2</td>\n",
       "      <td>4</td>\n",
       "      <td>20</td>\n",
       "      <td>4</td>\n",
       "      <td>4</td>\n",
       "      <td>8</td>\n",
       "    </tr>\n",
       "    <tr>\n",
       "      <th>4</th>\n",
       "      <td>5</td>\n",
       "      <td>40</td>\n",
       "      <td>NaN</td>\n",
       "      <td>2</td>\n",
       "      <td>1194</td>\n",
       "      <td>1</td>\n",
       "      <td>2</td>\n",
       "      <td>4</td>\n",
       "      <td>3</td>\n",
       "      <td>1</td>\n",
       "      <td>...</td>\n",
       "      <td>2</td>\n",
       "      <td>80</td>\n",
       "      <td>3</td>\n",
       "      <td>20</td>\n",
       "      <td>2</td>\n",
       "      <td>3</td>\n",
       "      <td>5</td>\n",
       "      <td>3</td>\n",
       "      <td>0</td>\n",
       "      <td>2</td>\n",
       "    </tr>\n",
       "  </tbody>\n",
       "</table>\n",
       "<p>5 rows × 35 columns</p>\n",
       "</div>"
      ]
     },
     "execution_count": 18,
     "metadata": {},
     "output_type": "execute_result"
    }
   ],
   "execution_count": 18
  },
  {
   "metadata": {
    "ExecuteTime": {
     "end_time": "2024-11-25T11:54:37.331704Z",
     "start_time": "2024-11-25T11:54:37.325421Z"
    }
   },
   "cell_type": "code",
   "source": "print(df_pre[\"BusinessTravel\"].value_counts())",
   "id": "93351ecab9511aed",
   "outputs": [
    {
     "name": "stdout",
     "output_type": "stream",
     "text": [
      "BusinessTravel\n",
      "2    1043\n",
      "1     277\n",
      "0     150\n",
      "Name: count, dtype: int64\n"
     ]
    }
   ],
   "execution_count": 19
  },
  {
   "metadata": {
    "ExecuteTime": {
     "end_time": "2024-11-25T11:54:37.471127Z",
     "start_time": "2024-11-25T11:54:37.462634Z"
    }
   },
   "cell_type": "code",
   "source": "print(df_pre[\"Department\"].value_counts())",
   "id": "4ce81852b620debf",
   "outputs": [
    {
     "name": "stdout",
     "output_type": "stream",
     "text": [
      "Department\n",
      "1    961\n",
      "2    446\n",
      "0     63\n",
      "Name: count, dtype: int64\n"
     ]
    }
   ],
   "execution_count": 20
  },
  {
   "metadata": {
    "ExecuteTime": {
     "end_time": "2024-11-25T11:54:37.591452Z",
     "start_time": "2024-11-25T11:54:37.586550Z"
    }
   },
   "cell_type": "code",
   "source": "print(df_pre[\"EducationField\"].value_counts())",
   "id": "20591333dbc02f7d",
   "outputs": [
    {
     "name": "stdout",
     "output_type": "stream",
     "text": [
      "EducationField\n",
      "1    606\n",
      "3    464\n",
      "2    159\n",
      "5    132\n",
      "4     82\n",
      "0     27\n",
      "Name: count, dtype: int64\n"
     ]
    }
   ],
   "execution_count": 21
  },
  {
   "metadata": {
    "ExecuteTime": {
     "end_time": "2024-11-25T11:54:37.735183Z",
     "start_time": "2024-11-25T11:54:37.731561Z"
    }
   },
   "cell_type": "code",
   "source": "print(df_pre[\"Gender\"].value_counts())",
   "id": "f5d0ae98fe9e6017",
   "outputs": [
    {
     "name": "stdout",
     "output_type": "stream",
     "text": [
      "Gender\n",
      "1    882\n",
      "0    588\n",
      "Name: count, dtype: int64\n"
     ]
    }
   ],
   "execution_count": 22
  },
  {
   "metadata": {
    "ExecuteTime": {
     "end_time": "2024-11-25T11:54:37.782342Z",
     "start_time": "2024-11-25T11:54:37.776533Z"
    }
   },
   "cell_type": "code",
   "source": "print(df_pre[\"JobRole\"].value_counts())",
   "id": "16e5f76b1205fd69",
   "outputs": [
    {
     "name": "stdout",
     "output_type": "stream",
     "text": [
      "JobRole\n",
      "7    326\n",
      "6    292\n",
      "2    259\n",
      "4    145\n",
      "0    131\n",
      "3    102\n",
      "8     83\n",
      "5     80\n",
      "1     52\n",
      "Name: count, dtype: int64\n"
     ]
    }
   ],
   "execution_count": 23
  },
  {
   "metadata": {
    "ExecuteTime": {
     "end_time": "2024-11-25T11:54:37.841104Z",
     "start_time": "2024-11-25T11:54:37.827729Z"
    }
   },
   "cell_type": "code",
   "source": "print(df_pre[\"MaritalStatus\"].value_counts())",
   "id": "d3ab5abd1f185e87",
   "outputs": [
    {
     "name": "stdout",
     "output_type": "stream",
     "text": [
      "MaritalStatus\n",
      "1    673\n",
      "2    470\n",
      "0    327\n",
      "Name: count, dtype: int64\n"
     ]
    }
   ],
   "execution_count": 24
  },
  {
   "metadata": {
    "ExecuteTime": {
     "end_time": "2024-11-25T11:54:37.920655Z",
     "start_time": "2024-11-25T11:54:37.911995Z"
    }
   },
   "cell_type": "code",
   "source": "print(df_pre[\"Over18\"].value_counts())",
   "id": "339cb0c967dbf0f1",
   "outputs": [
    {
     "name": "stdout",
     "output_type": "stream",
     "text": [
      "Over18\n",
      "0    1470\n",
      "Name: count, dtype: int64\n"
     ]
    }
   ],
   "execution_count": 25
  },
  {
   "metadata": {
    "ExecuteTime": {
     "end_time": "2024-11-25T11:54:37.990853Z",
     "start_time": "2024-11-25T11:54:37.986203Z"
    }
   },
   "cell_type": "code",
   "source": "print(df_pre[\"OverTime\"].value_counts())",
   "id": "e9cc7ac77643fc0a",
   "outputs": [
    {
     "name": "stdout",
     "output_type": "stream",
     "text": [
      "OverTime\n",
      "0    1054\n",
      "1     416\n",
      "Name: count, dtype: int64\n"
     ]
    }
   ],
   "execution_count": 26
  },
  {
   "metadata": {},
   "cell_type": "markdown",
   "source": [
    "#### Insight\n",
    "explaining columns which are done changing:\n",
    "1. BusinessTravel - 0-Non-Travel, 1-Travel_Frequently, 2-Travel_Rarely\n",
    "2. Department - 0-Human Resources, 1-Research & Development, 2-sales\n",
    "3. EducationField - 0-Human Resources, 1-Life Sciences, 2-Marketing, 3-Medical, 4-Other, 5-Technical Degree\n",
    "4. Gender - 0-Female, 1-Male\n",
    "5. JobRole - 0-Healthcare Representative, 1-Human Resource, 2-Laboratory Technician, 3-Manager, 4-Manufacuring Director,5-Research Director, 6-Research Scientist, 7-Sales Excutive, 8-Sales Representative\n",
    "6. MaritalStatus - 0-Divorced, 1-Married, 2-single\n",
    "7. Over18 - 0-Y, 1-N\n",
    "8. OverTime - 0-No, 1-Yes\n",
    "\n"
   ],
   "id": "c5d17e67bc38a178"
  },
  {
   "metadata": {},
   "cell_type": "markdown",
   "source": [
    "### To handle Missing values\n",
    "because missing values is big which is not possible for dropping data, but there are many method for handling missing values which we will use one of method for it"
   ],
   "id": "22475e6f99ca699d"
  },
  {
   "metadata": {
    "ExecuteTime": {
     "end_time": "2024-11-25T11:54:38.057460Z",
     "start_time": "2024-11-25T11:54:38.048759Z"
    }
   },
   "cell_type": "code",
   "source": [
    "not_missing = df_pre[df_pre[\"Attrition\"].notnull()]\n",
    "missing = df_pre[df_pre[\"Attrition\"].isnull()]\n",
    "\n",
    "# drop columns over because we don't need\n",
    "not_missing = not_missing.drop(columns=[\"Over18\", \"EmployeeCount\", \"StandardHours\"], axis=1)\n",
    "missing = missing.drop(columns=[\"Over18\", \"EmployeeCount\", \"StandardHours\"], axis=1)"
   ],
   "id": "3829089a4be570b5",
   "outputs": [],
   "execution_count": 27
  },
  {
   "metadata": {
    "ExecuteTime": {
     "end_time": "2024-11-25T11:54:38.118939Z",
     "start_time": "2024-11-25T11:54:38.113406Z"
    }
   },
   "cell_type": "code",
   "source": "not_missing[\"Attrition\"].value_counts()",
   "id": "5cabf7c15e86140d",
   "outputs": [
    {
     "data": {
      "text/plain": [
       "Attrition\n",
       "0.0    879\n",
       "1.0    179\n",
       "Name: count, dtype: int64"
      ]
     },
     "execution_count": 28,
     "metadata": {},
     "output_type": "execute_result"
    }
   ],
   "execution_count": 28
  },
  {
   "metadata": {
    "ExecuteTime": {
     "end_time": "2024-11-25T11:54:38.135402Z",
     "start_time": "2024-11-25T11:54:38.126650Z"
    }
   },
   "cell_type": "code",
   "source": [
    "attrition_zero_df = not_missing[not_missing[\"Attrition\"] == 0].sample(n=179, random_state=42)\n",
    "attrition_one_df = not_missing[not_missing[\"Attrition\"] == 1].sample(n=179, random_state=42)\n",
    "\n",
    "df_missing = pd.concat([attrition_zero_df, attrition_one_df])"
   ],
   "id": "c5eb9bc92910267f",
   "outputs": [],
   "execution_count": 29
  },
  {
   "metadata": {
    "ExecuteTime": {
     "end_time": "2024-11-25T11:54:38.213978Z",
     "start_time": "2024-11-25T11:54:38.206421Z"
    }
   },
   "cell_type": "code",
   "source": "print(df_missing[\"Attrition\"].value_counts())",
   "id": "c80325c486354588",
   "outputs": [
    {
     "name": "stdout",
     "output_type": "stream",
     "text": [
      "Attrition\n",
      "0.0    179\n",
      "1.0    179\n",
      "Name: count, dtype: int64\n"
     ]
    }
   ],
   "execution_count": 30
  },
  {
   "metadata": {
    "ExecuteTime": {
     "end_time": "2024-11-25T11:54:38.560252Z",
     "start_time": "2024-11-25T11:54:38.340380Z"
    }
   },
   "cell_type": "code",
   "source": [
    "# initialize\n",
    "scaler = StandardScaler()\n",
    "x = df_missing.drop(\"Attrition\", axis=1)\n",
    "y = df_missing[\"Attrition\"]\n",
    "\n",
    "# Standarization feature\n",
    "X = scaler.fit_transform(x)\n",
    "\n",
    "model_random = RandomForestClassifier(n_estimators=100, random_state=42)\n",
    "model_random.fit(X, y)\n",
    "print(f\"score accuracy:{model_random.score(X, y) * 100:.2f}%\")\n"
   ],
   "id": "629d7b30360122f9",
   "outputs": [
    {
     "name": "stdout",
     "output_type": "stream",
     "text": [
      "score accuracy:100.00%\n"
     ]
    }
   ],
   "execution_count": 31
  },
  {
   "metadata": {
    "ExecuteTime": {
     "end_time": "2024-11-25T11:54:38.582265Z",
     "start_time": "2024-11-25T11:54:38.567219Z"
    }
   },
   "cell_type": "code",
   "source": [
    "# predict missing value\n",
    "predicted = model_random.predict(missing.drop(\"Attrition\", axis=1))\n",
    "\n",
    "# fill in missing value\n",
    "df_pre.loc[df_pre['Attrition'].isnull(), 'Attrition'] = predicted"
   ],
   "id": "2217a41fe542c5e5",
   "outputs": [
    {
     "name": "stderr",
     "output_type": "stream",
     "text": [
      "/Users/acqmallatief/opt/anaconda3/envs/myenv/lib/python3.10/site-packages/sklearn/base.py:486: UserWarning: X has feature names, but RandomForestClassifier was fitted without feature names\n",
      "  warnings.warn(\n"
     ]
    }
   ],
   "execution_count": 32
  },
  {
   "metadata": {
    "ExecuteTime": {
     "end_time": "2024-11-25T11:54:38.648681Z",
     "start_time": "2024-11-25T11:54:38.641614Z"
    }
   },
   "cell_type": "code",
   "source": "print(df_pre[\"Attrition\"].value_counts())",
   "id": "b1e8217bb3301d02",
   "outputs": [
    {
     "name": "stdout",
     "output_type": "stream",
     "text": [
      "Attrition\n",
      "0.0    971\n",
      "1.0    499\n",
      "Name: count, dtype: int64\n"
     ]
    }
   ],
   "execution_count": 33
  },
  {
   "metadata": {
    "ExecuteTime": {
     "end_time": "2024-11-25T11:54:38.716540Z",
     "start_time": "2024-11-25T11:54:38.710290Z"
    }
   },
   "cell_type": "code",
   "source": "print(df_pre.isnull().sum())",
   "id": "289351ee9f6de7bb",
   "outputs": [
    {
     "name": "stdout",
     "output_type": "stream",
     "text": [
      "EmployeeId                  0\n",
      "Age                         0\n",
      "Attrition                   0\n",
      "BusinessTravel              0\n",
      "DailyRate                   0\n",
      "Department                  0\n",
      "DistanceFromHome            0\n",
      "Education                   0\n",
      "EducationField              0\n",
      "EmployeeCount               0\n",
      "EnvironmentSatisfaction     0\n",
      "Gender                      0\n",
      "HourlyRate                  0\n",
      "JobInvolvement              0\n",
      "JobLevel                    0\n",
      "JobRole                     0\n",
      "JobSatisfaction             0\n",
      "MaritalStatus               0\n",
      "MonthlyIncome               0\n",
      "MonthlyRate                 0\n",
      "NumCompaniesWorked          0\n",
      "Over18                      0\n",
      "OverTime                    0\n",
      "PercentSalaryHike           0\n",
      "PerformanceRating           0\n",
      "RelationshipSatisfaction    0\n",
      "StandardHours               0\n",
      "StockOptionLevel            0\n",
      "TotalWorkingYears           0\n",
      "TrainingTimesLastYear       0\n",
      "WorkLifeBalance             0\n",
      "YearsAtCompany              0\n",
      "YearsInCurrentRole          0\n",
      "YearsSinceLastPromotion     0\n",
      "YearsWithCurrManager        0\n",
      "dtype: int64\n"
     ]
    }
   ],
   "execution_count": 34
  },
  {
   "metadata": {},
   "cell_type": "markdown",
   "source": [
    "#### Insight\n",
    "with using method predictive imputation is expected capable handling problem missing value well"
   ],
   "id": "734fe4217d12387c"
  },
  {
   "metadata": {},
   "cell_type": "markdown",
   "source": "# Data Exploratory",
   "id": "b419cedff5cdcaf9"
  },
  {
   "metadata": {},
   "cell_type": "markdown",
   "source": [
    "1. Apakah kelompok umur tertentu memiliki tingkat attrition yang lebih tinggi?\n",
    "2. Bagaimana tingkat attrition bervariasi berdasarkan gender?\n",
    "3. Departemen mana yang memiliki tingkat attrition tertinggi?\n",
    "4. Apakah tingkat attrition lebih tinggi di antara karyawan dengan gaji lebih rendah?\n",
    "5. Berapa lama rata-rata karyawan bertahan di perusahaan sebelum mereka mengalami attrition?\n",
    "6. Bagaimana tingkat attrition bervariasi berdasarkan kenaikan gaji atau bonus\n",
    "7. Bagaimana tingkat attrition dipengaruhi oleh jam kerja rata-rata?\n",
    "8. Bagaimana kita dapat memprediksi karyawan yang berpotensi keluar di masa depan?\n"
   ],
   "id": "30d678a2b0f2376c"
  },
  {
   "metadata": {
    "ExecuteTime": {
     "end_time": "2024-11-25T11:54:38.777677Z",
     "start_time": "2024-11-25T11:54:38.771940Z"
    }
   },
   "cell_type": "code",
   "source": "df_pre.drop(columns=[\"Over18\", \"EmployeeCount\", \"StandardHours\"], axis=1, inplace=True)",
   "id": "b0257405d4d9fdd8",
   "outputs": [],
   "execution_count": 35
  },
  {
   "metadata": {
    "ExecuteTime": {
     "end_time": "2024-11-25T11:54:38.838711Z",
     "start_time": "2024-11-25T11:54:38.825480Z"
    }
   },
   "cell_type": "code",
   "source": "df_pre.head()",
   "id": "9fa3e4e2781f923",
   "outputs": [
    {
     "data": {
      "text/plain": [
       "  EmployeeId  Age  Attrition  BusinessTravel  DailyRate  Department  \\\n",
       "0          1   38        0.0               1       1444           0   \n",
       "1          2   37        1.0               2       1141           1   \n",
       "2          3   51        1.0               2       1323           1   \n",
       "3          4   42        0.0               1        555           2   \n",
       "4          5   40        0.0               2       1194           1   \n",
       "\n",
       "   DistanceFromHome  Education  EducationField  EnvironmentSatisfaction  ...  \\\n",
       "0                 1          4               4                        4  ...   \n",
       "1                11          2               3                        1  ...   \n",
       "2                 4          4               1                        1  ...   \n",
       "3                26          3               2                        3  ...   \n",
       "4                 2          4               3                        3  ...   \n",
       "\n",
       "   PerformanceRating  RelationshipSatisfaction  StockOptionLevel  \\\n",
       "0                  3                         2                 1   \n",
       "1                  3                         1                 0   \n",
       "2                  3                         3                 3   \n",
       "3                  3                         4                 1   \n",
       "4                  3                         2                 3   \n",
       "\n",
       "   TotalWorkingYears  TrainingTimesLastYear  WorkLifeBalance  YearsAtCompany  \\\n",
       "0                  7                      2                3               6   \n",
       "1                 15                      2                1               1   \n",
       "2                 18                      2                4              10   \n",
       "3                 23                      2                4              20   \n",
       "4                 20                      2                3               5   \n",
       "\n",
       "   YearsInCurrentRole  YearsSinceLastPromotion  YearsWithCurrManager  \n",
       "0                   2                        1                     2  \n",
       "1                   0                        0                     0  \n",
       "2                   0                        2                     7  \n",
       "3                   4                        4                     8  \n",
       "4                   3                        0                     2  \n",
       "\n",
       "[5 rows x 32 columns]"
      ],
      "text/html": [
       "<div>\n",
       "<style scoped>\n",
       "    .dataframe tbody tr th:only-of-type {\n",
       "        vertical-align: middle;\n",
       "    }\n",
       "\n",
       "    .dataframe tbody tr th {\n",
       "        vertical-align: top;\n",
       "    }\n",
       "\n",
       "    .dataframe thead th {\n",
       "        text-align: right;\n",
       "    }\n",
       "</style>\n",
       "<table border=\"1\" class=\"dataframe\">\n",
       "  <thead>\n",
       "    <tr style=\"text-align: right;\">\n",
       "      <th></th>\n",
       "      <th>EmployeeId</th>\n",
       "      <th>Age</th>\n",
       "      <th>Attrition</th>\n",
       "      <th>BusinessTravel</th>\n",
       "      <th>DailyRate</th>\n",
       "      <th>Department</th>\n",
       "      <th>DistanceFromHome</th>\n",
       "      <th>Education</th>\n",
       "      <th>EducationField</th>\n",
       "      <th>EnvironmentSatisfaction</th>\n",
       "      <th>...</th>\n",
       "      <th>PerformanceRating</th>\n",
       "      <th>RelationshipSatisfaction</th>\n",
       "      <th>StockOptionLevel</th>\n",
       "      <th>TotalWorkingYears</th>\n",
       "      <th>TrainingTimesLastYear</th>\n",
       "      <th>WorkLifeBalance</th>\n",
       "      <th>YearsAtCompany</th>\n",
       "      <th>YearsInCurrentRole</th>\n",
       "      <th>YearsSinceLastPromotion</th>\n",
       "      <th>YearsWithCurrManager</th>\n",
       "    </tr>\n",
       "  </thead>\n",
       "  <tbody>\n",
       "    <tr>\n",
       "      <th>0</th>\n",
       "      <td>1</td>\n",
       "      <td>38</td>\n",
       "      <td>0.0</td>\n",
       "      <td>1</td>\n",
       "      <td>1444</td>\n",
       "      <td>0</td>\n",
       "      <td>1</td>\n",
       "      <td>4</td>\n",
       "      <td>4</td>\n",
       "      <td>4</td>\n",
       "      <td>...</td>\n",
       "      <td>3</td>\n",
       "      <td>2</td>\n",
       "      <td>1</td>\n",
       "      <td>7</td>\n",
       "      <td>2</td>\n",
       "      <td>3</td>\n",
       "      <td>6</td>\n",
       "      <td>2</td>\n",
       "      <td>1</td>\n",
       "      <td>2</td>\n",
       "    </tr>\n",
       "    <tr>\n",
       "      <th>1</th>\n",
       "      <td>2</td>\n",
       "      <td>37</td>\n",
       "      <td>1.0</td>\n",
       "      <td>2</td>\n",
       "      <td>1141</td>\n",
       "      <td>1</td>\n",
       "      <td>11</td>\n",
       "      <td>2</td>\n",
       "      <td>3</td>\n",
       "      <td>1</td>\n",
       "      <td>...</td>\n",
       "      <td>3</td>\n",
       "      <td>1</td>\n",
       "      <td>0</td>\n",
       "      <td>15</td>\n",
       "      <td>2</td>\n",
       "      <td>1</td>\n",
       "      <td>1</td>\n",
       "      <td>0</td>\n",
       "      <td>0</td>\n",
       "      <td>0</td>\n",
       "    </tr>\n",
       "    <tr>\n",
       "      <th>2</th>\n",
       "      <td>3</td>\n",
       "      <td>51</td>\n",
       "      <td>1.0</td>\n",
       "      <td>2</td>\n",
       "      <td>1323</td>\n",
       "      <td>1</td>\n",
       "      <td>4</td>\n",
       "      <td>4</td>\n",
       "      <td>1</td>\n",
       "      <td>1</td>\n",
       "      <td>...</td>\n",
       "      <td>3</td>\n",
       "      <td>3</td>\n",
       "      <td>3</td>\n",
       "      <td>18</td>\n",
       "      <td>2</td>\n",
       "      <td>4</td>\n",
       "      <td>10</td>\n",
       "      <td>0</td>\n",
       "      <td>2</td>\n",
       "      <td>7</td>\n",
       "    </tr>\n",
       "    <tr>\n",
       "      <th>3</th>\n",
       "      <td>4</td>\n",
       "      <td>42</td>\n",
       "      <td>0.0</td>\n",
       "      <td>1</td>\n",
       "      <td>555</td>\n",
       "      <td>2</td>\n",
       "      <td>26</td>\n",
       "      <td>3</td>\n",
       "      <td>2</td>\n",
       "      <td>3</td>\n",
       "      <td>...</td>\n",
       "      <td>3</td>\n",
       "      <td>4</td>\n",
       "      <td>1</td>\n",
       "      <td>23</td>\n",
       "      <td>2</td>\n",
       "      <td>4</td>\n",
       "      <td>20</td>\n",
       "      <td>4</td>\n",
       "      <td>4</td>\n",
       "      <td>8</td>\n",
       "    </tr>\n",
       "    <tr>\n",
       "      <th>4</th>\n",
       "      <td>5</td>\n",
       "      <td>40</td>\n",
       "      <td>0.0</td>\n",
       "      <td>2</td>\n",
       "      <td>1194</td>\n",
       "      <td>1</td>\n",
       "      <td>2</td>\n",
       "      <td>4</td>\n",
       "      <td>3</td>\n",
       "      <td>3</td>\n",
       "      <td>...</td>\n",
       "      <td>3</td>\n",
       "      <td>2</td>\n",
       "      <td>3</td>\n",
       "      <td>20</td>\n",
       "      <td>2</td>\n",
       "      <td>3</td>\n",
       "      <td>5</td>\n",
       "      <td>3</td>\n",
       "      <td>0</td>\n",
       "      <td>2</td>\n",
       "    </tr>\n",
       "  </tbody>\n",
       "</table>\n",
       "<p>5 rows × 32 columns</p>\n",
       "</div>"
      ]
     },
     "execution_count": 36,
     "metadata": {},
     "output_type": "execute_result"
    }
   ],
   "execution_count": 36
  },
  {
   "metadata": {
    "ExecuteTime": {
     "end_time": "2024-11-25T11:54:38.999169Z",
     "start_time": "2024-11-25T11:54:38.944661Z"
    }
   },
   "cell_type": "code",
   "source": "df_pre.describe()",
   "id": "3537f4d211dd7d62",
   "outputs": [
    {
     "data": {
      "text/plain": [
       "               Age    Attrition  BusinessTravel    DailyRate   Department  \\\n",
       "count  1470.000000  1470.000000     1470.000000  1470.000000  1470.000000   \n",
       "mean     36.923810     0.339456        1.607483   802.485714     1.260544   \n",
       "std       9.135373     0.473686        0.665455   403.509100     0.527792   \n",
       "min      18.000000     0.000000        0.000000   102.000000     0.000000   \n",
       "25%      30.000000     0.000000        1.000000   465.000000     1.000000   \n",
       "50%      36.000000     0.000000        2.000000   802.000000     1.000000   \n",
       "75%      43.000000     1.000000        2.000000  1157.000000     2.000000   \n",
       "max      60.000000     1.000000        2.000000  1499.000000     2.000000   \n",
       "\n",
       "       DistanceFromHome    Education  EducationField  EnvironmentSatisfaction  \\\n",
       "count       1470.000000  1470.000000     1470.000000              1470.000000   \n",
       "mean           9.192517     2.912925        2.247619                 2.721769   \n",
       "std            8.106864     1.024165        1.331369                 1.093082   \n",
       "min            1.000000     1.000000        0.000000                 1.000000   \n",
       "25%            2.000000     2.000000        1.000000                 2.000000   \n",
       "50%            7.000000     3.000000        2.000000                 3.000000   \n",
       "75%           14.000000     4.000000        3.000000                 4.000000   \n",
       "max           29.000000     5.000000        5.000000                 4.000000   \n",
       "\n",
       "            Gender  ...  PerformanceRating  RelationshipSatisfaction  \\\n",
       "count  1470.000000  ...        1470.000000               1470.000000   \n",
       "mean      0.600000  ...           3.153741                  2.712245   \n",
       "std       0.490065  ...           0.360824                  1.081209   \n",
       "min       0.000000  ...           3.000000                  1.000000   \n",
       "25%       0.000000  ...           3.000000                  2.000000   \n",
       "50%       1.000000  ...           3.000000                  3.000000   \n",
       "75%       1.000000  ...           3.000000                  4.000000   \n",
       "max       1.000000  ...           4.000000                  4.000000   \n",
       "\n",
       "       StockOptionLevel  TotalWorkingYears  TrainingTimesLastYear  \\\n",
       "count       1470.000000        1470.000000            1470.000000   \n",
       "mean           0.793878          11.279592               2.799320   \n",
       "std            0.852077           7.780782               1.289271   \n",
       "min            0.000000           0.000000               0.000000   \n",
       "25%            0.000000           6.000000               2.000000   \n",
       "50%            1.000000          10.000000               3.000000   \n",
       "75%            1.000000          15.000000               3.000000   \n",
       "max            3.000000          40.000000               6.000000   \n",
       "\n",
       "       WorkLifeBalance  YearsAtCompany  YearsInCurrentRole  \\\n",
       "count      1470.000000     1470.000000         1470.000000   \n",
       "mean          2.761224        7.008163            4.229252   \n",
       "std           0.706476        6.126525            3.623137   \n",
       "min           1.000000        0.000000            0.000000   \n",
       "25%           2.000000        3.000000            2.000000   \n",
       "50%           3.000000        5.000000            3.000000   \n",
       "75%           3.000000        9.000000            7.000000   \n",
       "max           4.000000       40.000000           18.000000   \n",
       "\n",
       "       YearsSinceLastPromotion  YearsWithCurrManager  \n",
       "count              1470.000000           1470.000000  \n",
       "mean                  2.187755              4.123129  \n",
       "std                   3.222430              3.568136  \n",
       "min                   0.000000              0.000000  \n",
       "25%                   0.000000              2.000000  \n",
       "50%                   1.000000              3.000000  \n",
       "75%                   3.000000              7.000000  \n",
       "max                  15.000000             17.000000  \n",
       "\n",
       "[8 rows x 31 columns]"
      ],
      "text/html": [
       "<div>\n",
       "<style scoped>\n",
       "    .dataframe tbody tr th:only-of-type {\n",
       "        vertical-align: middle;\n",
       "    }\n",
       "\n",
       "    .dataframe tbody tr th {\n",
       "        vertical-align: top;\n",
       "    }\n",
       "\n",
       "    .dataframe thead th {\n",
       "        text-align: right;\n",
       "    }\n",
       "</style>\n",
       "<table border=\"1\" class=\"dataframe\">\n",
       "  <thead>\n",
       "    <tr style=\"text-align: right;\">\n",
       "      <th></th>\n",
       "      <th>Age</th>\n",
       "      <th>Attrition</th>\n",
       "      <th>BusinessTravel</th>\n",
       "      <th>DailyRate</th>\n",
       "      <th>Department</th>\n",
       "      <th>DistanceFromHome</th>\n",
       "      <th>Education</th>\n",
       "      <th>EducationField</th>\n",
       "      <th>EnvironmentSatisfaction</th>\n",
       "      <th>Gender</th>\n",
       "      <th>...</th>\n",
       "      <th>PerformanceRating</th>\n",
       "      <th>RelationshipSatisfaction</th>\n",
       "      <th>StockOptionLevel</th>\n",
       "      <th>TotalWorkingYears</th>\n",
       "      <th>TrainingTimesLastYear</th>\n",
       "      <th>WorkLifeBalance</th>\n",
       "      <th>YearsAtCompany</th>\n",
       "      <th>YearsInCurrentRole</th>\n",
       "      <th>YearsSinceLastPromotion</th>\n",
       "      <th>YearsWithCurrManager</th>\n",
       "    </tr>\n",
       "  </thead>\n",
       "  <tbody>\n",
       "    <tr>\n",
       "      <th>count</th>\n",
       "      <td>1470.000000</td>\n",
       "      <td>1470.000000</td>\n",
       "      <td>1470.000000</td>\n",
       "      <td>1470.000000</td>\n",
       "      <td>1470.000000</td>\n",
       "      <td>1470.000000</td>\n",
       "      <td>1470.000000</td>\n",
       "      <td>1470.000000</td>\n",
       "      <td>1470.000000</td>\n",
       "      <td>1470.000000</td>\n",
       "      <td>...</td>\n",
       "      <td>1470.000000</td>\n",
       "      <td>1470.000000</td>\n",
       "      <td>1470.000000</td>\n",
       "      <td>1470.000000</td>\n",
       "      <td>1470.000000</td>\n",
       "      <td>1470.000000</td>\n",
       "      <td>1470.000000</td>\n",
       "      <td>1470.000000</td>\n",
       "      <td>1470.000000</td>\n",
       "      <td>1470.000000</td>\n",
       "    </tr>\n",
       "    <tr>\n",
       "      <th>mean</th>\n",
       "      <td>36.923810</td>\n",
       "      <td>0.339456</td>\n",
       "      <td>1.607483</td>\n",
       "      <td>802.485714</td>\n",
       "      <td>1.260544</td>\n",
       "      <td>9.192517</td>\n",
       "      <td>2.912925</td>\n",
       "      <td>2.247619</td>\n",
       "      <td>2.721769</td>\n",
       "      <td>0.600000</td>\n",
       "      <td>...</td>\n",
       "      <td>3.153741</td>\n",
       "      <td>2.712245</td>\n",
       "      <td>0.793878</td>\n",
       "      <td>11.279592</td>\n",
       "      <td>2.799320</td>\n",
       "      <td>2.761224</td>\n",
       "      <td>7.008163</td>\n",
       "      <td>4.229252</td>\n",
       "      <td>2.187755</td>\n",
       "      <td>4.123129</td>\n",
       "    </tr>\n",
       "    <tr>\n",
       "      <th>std</th>\n",
       "      <td>9.135373</td>\n",
       "      <td>0.473686</td>\n",
       "      <td>0.665455</td>\n",
       "      <td>403.509100</td>\n",
       "      <td>0.527792</td>\n",
       "      <td>8.106864</td>\n",
       "      <td>1.024165</td>\n",
       "      <td>1.331369</td>\n",
       "      <td>1.093082</td>\n",
       "      <td>0.490065</td>\n",
       "      <td>...</td>\n",
       "      <td>0.360824</td>\n",
       "      <td>1.081209</td>\n",
       "      <td>0.852077</td>\n",
       "      <td>7.780782</td>\n",
       "      <td>1.289271</td>\n",
       "      <td>0.706476</td>\n",
       "      <td>6.126525</td>\n",
       "      <td>3.623137</td>\n",
       "      <td>3.222430</td>\n",
       "      <td>3.568136</td>\n",
       "    </tr>\n",
       "    <tr>\n",
       "      <th>min</th>\n",
       "      <td>18.000000</td>\n",
       "      <td>0.000000</td>\n",
       "      <td>0.000000</td>\n",
       "      <td>102.000000</td>\n",
       "      <td>0.000000</td>\n",
       "      <td>1.000000</td>\n",
       "      <td>1.000000</td>\n",
       "      <td>0.000000</td>\n",
       "      <td>1.000000</td>\n",
       "      <td>0.000000</td>\n",
       "      <td>...</td>\n",
       "      <td>3.000000</td>\n",
       "      <td>1.000000</td>\n",
       "      <td>0.000000</td>\n",
       "      <td>0.000000</td>\n",
       "      <td>0.000000</td>\n",
       "      <td>1.000000</td>\n",
       "      <td>0.000000</td>\n",
       "      <td>0.000000</td>\n",
       "      <td>0.000000</td>\n",
       "      <td>0.000000</td>\n",
       "    </tr>\n",
       "    <tr>\n",
       "      <th>25%</th>\n",
       "      <td>30.000000</td>\n",
       "      <td>0.000000</td>\n",
       "      <td>1.000000</td>\n",
       "      <td>465.000000</td>\n",
       "      <td>1.000000</td>\n",
       "      <td>2.000000</td>\n",
       "      <td>2.000000</td>\n",
       "      <td>1.000000</td>\n",
       "      <td>2.000000</td>\n",
       "      <td>0.000000</td>\n",
       "      <td>...</td>\n",
       "      <td>3.000000</td>\n",
       "      <td>2.000000</td>\n",
       "      <td>0.000000</td>\n",
       "      <td>6.000000</td>\n",
       "      <td>2.000000</td>\n",
       "      <td>2.000000</td>\n",
       "      <td>3.000000</td>\n",
       "      <td>2.000000</td>\n",
       "      <td>0.000000</td>\n",
       "      <td>2.000000</td>\n",
       "    </tr>\n",
       "    <tr>\n",
       "      <th>50%</th>\n",
       "      <td>36.000000</td>\n",
       "      <td>0.000000</td>\n",
       "      <td>2.000000</td>\n",
       "      <td>802.000000</td>\n",
       "      <td>1.000000</td>\n",
       "      <td>7.000000</td>\n",
       "      <td>3.000000</td>\n",
       "      <td>2.000000</td>\n",
       "      <td>3.000000</td>\n",
       "      <td>1.000000</td>\n",
       "      <td>...</td>\n",
       "      <td>3.000000</td>\n",
       "      <td>3.000000</td>\n",
       "      <td>1.000000</td>\n",
       "      <td>10.000000</td>\n",
       "      <td>3.000000</td>\n",
       "      <td>3.000000</td>\n",
       "      <td>5.000000</td>\n",
       "      <td>3.000000</td>\n",
       "      <td>1.000000</td>\n",
       "      <td>3.000000</td>\n",
       "    </tr>\n",
       "    <tr>\n",
       "      <th>75%</th>\n",
       "      <td>43.000000</td>\n",
       "      <td>1.000000</td>\n",
       "      <td>2.000000</td>\n",
       "      <td>1157.000000</td>\n",
       "      <td>2.000000</td>\n",
       "      <td>14.000000</td>\n",
       "      <td>4.000000</td>\n",
       "      <td>3.000000</td>\n",
       "      <td>4.000000</td>\n",
       "      <td>1.000000</td>\n",
       "      <td>...</td>\n",
       "      <td>3.000000</td>\n",
       "      <td>4.000000</td>\n",
       "      <td>1.000000</td>\n",
       "      <td>15.000000</td>\n",
       "      <td>3.000000</td>\n",
       "      <td>3.000000</td>\n",
       "      <td>9.000000</td>\n",
       "      <td>7.000000</td>\n",
       "      <td>3.000000</td>\n",
       "      <td>7.000000</td>\n",
       "    </tr>\n",
       "    <tr>\n",
       "      <th>max</th>\n",
       "      <td>60.000000</td>\n",
       "      <td>1.000000</td>\n",
       "      <td>2.000000</td>\n",
       "      <td>1499.000000</td>\n",
       "      <td>2.000000</td>\n",
       "      <td>29.000000</td>\n",
       "      <td>5.000000</td>\n",
       "      <td>5.000000</td>\n",
       "      <td>4.000000</td>\n",
       "      <td>1.000000</td>\n",
       "      <td>...</td>\n",
       "      <td>4.000000</td>\n",
       "      <td>4.000000</td>\n",
       "      <td>3.000000</td>\n",
       "      <td>40.000000</td>\n",
       "      <td>6.000000</td>\n",
       "      <td>4.000000</td>\n",
       "      <td>40.000000</td>\n",
       "      <td>18.000000</td>\n",
       "      <td>15.000000</td>\n",
       "      <td>17.000000</td>\n",
       "    </tr>\n",
       "  </tbody>\n",
       "</table>\n",
       "<p>8 rows × 31 columns</p>\n",
       "</div>"
      ]
     },
     "execution_count": 37,
     "metadata": {},
     "output_type": "execute_result"
    }
   ],
   "execution_count": 37
  },
  {
   "metadata": {},
   "cell_type": "markdown",
   "source": "## Apakah kelompok umur tertentu memiliki tingkat attrition yang lebih tinggi?",
   "id": "ee81b602fa253990"
  },
  {
   "metadata": {
    "ExecuteTime": {
     "end_time": "2024-11-25T11:54:39.071486Z",
     "start_time": "2024-11-25T11:54:39.048184Z"
    }
   },
   "cell_type": "code",
   "source": [
    "def categorize_age(age):\n",
    "    if 15 <= age <= 24:\n",
    "        return \"Young Age\"\n",
    "    elif 25 <= age <= 34:\n",
    "        return \"Early worker age\"\n",
    "    elif 35 <= age <= 44:\n",
    "        return \"Middle Age\"\n",
    "    elif 45 <= age <= 54:\n",
    "        return \"Pre-retirement Age\"\n",
    "    elif age >= 55:\n",
    "        return \"Retirement Age\"\n",
    "    else:\n",
    "        return \"Other Age Group\"\n",
    "\n",
    "df_pre[\"AgeGroup\"] = df_pre[\"Age\"].apply(categorize_age)\n",
    "\n",
    "df_age_grouped = df_pre.groupby(\"AgeGroup\").agg(\n",
    "    Attrition_0=(\"Attrition\", lambda x: (x == 0).sum()),  # Hitung jumlah Attrition == 0\n",
    "    Attrition_1=(\"Attrition\", lambda x: (x == 1).sum()),  # Hitung jumlah Attrition == 1\n",
    "    ).reset_index()\n",
    "df_age_grouped"
   ],
   "id": "a7652c7460f79923",
   "outputs": [
    {
     "data": {
      "text/plain": [
       "             AgeGroup  Attrition_0  Attrition_1\n",
       "0    Early worker age          357          197\n",
       "1          Middle Age          337          168\n",
       "2  Pre-retirement Age          171           74\n",
       "3      Retirement Age           50           19\n",
       "4           Young Age           56           41"
      ],
      "text/html": [
       "<div>\n",
       "<style scoped>\n",
       "    .dataframe tbody tr th:only-of-type {\n",
       "        vertical-align: middle;\n",
       "    }\n",
       "\n",
       "    .dataframe tbody tr th {\n",
       "        vertical-align: top;\n",
       "    }\n",
       "\n",
       "    .dataframe thead th {\n",
       "        text-align: right;\n",
       "    }\n",
       "</style>\n",
       "<table border=\"1\" class=\"dataframe\">\n",
       "  <thead>\n",
       "    <tr style=\"text-align: right;\">\n",
       "      <th></th>\n",
       "      <th>AgeGroup</th>\n",
       "      <th>Attrition_0</th>\n",
       "      <th>Attrition_1</th>\n",
       "    </tr>\n",
       "  </thead>\n",
       "  <tbody>\n",
       "    <tr>\n",
       "      <th>0</th>\n",
       "      <td>Early worker age</td>\n",
       "      <td>357</td>\n",
       "      <td>197</td>\n",
       "    </tr>\n",
       "    <tr>\n",
       "      <th>1</th>\n",
       "      <td>Middle Age</td>\n",
       "      <td>337</td>\n",
       "      <td>168</td>\n",
       "    </tr>\n",
       "    <tr>\n",
       "      <th>2</th>\n",
       "      <td>Pre-retirement Age</td>\n",
       "      <td>171</td>\n",
       "      <td>74</td>\n",
       "    </tr>\n",
       "    <tr>\n",
       "      <th>3</th>\n",
       "      <td>Retirement Age</td>\n",
       "      <td>50</td>\n",
       "      <td>19</td>\n",
       "    </tr>\n",
       "    <tr>\n",
       "      <th>4</th>\n",
       "      <td>Young Age</td>\n",
       "      <td>56</td>\n",
       "      <td>41</td>\n",
       "    </tr>\n",
       "  </tbody>\n",
       "</table>\n",
       "</div>"
      ]
     },
     "execution_count": 38,
     "metadata": {},
     "output_type": "execute_result"
    }
   ],
   "execution_count": 38
  },
  {
   "metadata": {
    "ExecuteTime": {
     "end_time": "2024-11-25T11:54:39.590480Z",
     "start_time": "2024-11-25T11:54:39.555462Z"
    }
   },
   "cell_type": "code",
   "source": [
    "df_age_count = df_pre.groupby(\"AgeGroup\").agg({\"AgeGroup\": \"count\"})\n",
    "df_age_count.rename(columns={\"AgeGroup\": \"Count\"}, inplace=True)\n",
    "\n",
    "df_age = pd.merge(df_age_count, df_age_grouped, on=\"AgeGroup\", how=\"left\")\n",
    "df_age"
   ],
   "id": "92af82696c1ec6d1",
   "outputs": [
    {
     "data": {
      "text/plain": [
       "             AgeGroup  Count  Attrition_0  Attrition_1\n",
       "0    Early worker age    554          357          197\n",
       "1          Middle Age    505          337          168\n",
       "2  Pre-retirement Age    245          171           74\n",
       "3      Retirement Age     69           50           19\n",
       "4           Young Age     97           56           41"
      ],
      "text/html": [
       "<div>\n",
       "<style scoped>\n",
       "    .dataframe tbody tr th:only-of-type {\n",
       "        vertical-align: middle;\n",
       "    }\n",
       "\n",
       "    .dataframe tbody tr th {\n",
       "        vertical-align: top;\n",
       "    }\n",
       "\n",
       "    .dataframe thead th {\n",
       "        text-align: right;\n",
       "    }\n",
       "</style>\n",
       "<table border=\"1\" class=\"dataframe\">\n",
       "  <thead>\n",
       "    <tr style=\"text-align: right;\">\n",
       "      <th></th>\n",
       "      <th>AgeGroup</th>\n",
       "      <th>Count</th>\n",
       "      <th>Attrition_0</th>\n",
       "      <th>Attrition_1</th>\n",
       "    </tr>\n",
       "  </thead>\n",
       "  <tbody>\n",
       "    <tr>\n",
       "      <th>0</th>\n",
       "      <td>Early worker age</td>\n",
       "      <td>554</td>\n",
       "      <td>357</td>\n",
       "      <td>197</td>\n",
       "    </tr>\n",
       "    <tr>\n",
       "      <th>1</th>\n",
       "      <td>Middle Age</td>\n",
       "      <td>505</td>\n",
       "      <td>337</td>\n",
       "      <td>168</td>\n",
       "    </tr>\n",
       "    <tr>\n",
       "      <th>2</th>\n",
       "      <td>Pre-retirement Age</td>\n",
       "      <td>245</td>\n",
       "      <td>171</td>\n",
       "      <td>74</td>\n",
       "    </tr>\n",
       "    <tr>\n",
       "      <th>3</th>\n",
       "      <td>Retirement Age</td>\n",
       "      <td>69</td>\n",
       "      <td>50</td>\n",
       "      <td>19</td>\n",
       "    </tr>\n",
       "    <tr>\n",
       "      <th>4</th>\n",
       "      <td>Young Age</td>\n",
       "      <td>97</td>\n",
       "      <td>56</td>\n",
       "      <td>41</td>\n",
       "    </tr>\n",
       "  </tbody>\n",
       "</table>\n",
       "</div>"
      ]
     },
     "execution_count": 39,
     "metadata": {},
     "output_type": "execute_result"
    }
   ],
   "execution_count": 39
  },
  {
   "metadata": {
    "ExecuteTime": {
     "end_time": "2024-11-25T11:54:40.090412Z",
     "start_time": "2024-11-25T11:54:40.080429Z"
    }
   },
   "cell_type": "code",
   "source": "df_age.info()",
   "id": "ec189d32d03de452",
   "outputs": [
    {
     "name": "stdout",
     "output_type": "stream",
     "text": [
      "<class 'pandas.core.frame.DataFrame'>\n",
      "RangeIndex: 5 entries, 0 to 4\n",
      "Data columns (total 4 columns):\n",
      " #   Column       Non-Null Count  Dtype \n",
      "---  ------       --------------  ----- \n",
      " 0   AgeGroup     5 non-null      object\n",
      " 1   Count        5 non-null      int64 \n",
      " 2   Attrition_0  5 non-null      int64 \n",
      " 3   Attrition_1  5 non-null      int64 \n",
      "dtypes: int64(3), object(1)\n",
      "memory usage: 288.0+ bytes\n"
     ]
    }
   ],
   "execution_count": 40
  },
  {
   "metadata": {},
   "cell_type": "markdown",
   "source": "",
   "id": "e20d54e1a1ca9359"
  },
  {
   "metadata": {
    "ExecuteTime": {
     "end_time": "2024-11-25T11:54:41.367381Z",
     "start_time": "2024-11-25T11:54:40.419806Z"
    }
   },
   "cell_type": "code",
   "source": [
    "df_age_melted = df_age.melt(id_vars=\"AgeGroup\",\n",
    "                            value_vars=[\"Attrition_0\", \"Attrition_1\"],\n",
    "                            var_name=\"Attrition\",\n",
    "                            value_name=\"Value\")\n",
    "\n",
    "# Plot dengan hue\n",
    "fig, ax = plt.subplots(figsize=(15, 10))\n",
    "sns.barplot(x=\"AgeGroup\", y=\"Value\", hue=\"Attrition\", data=df_age_melted, ax=ax)\n",
    "ax.set_title(\"Attrition by Age Group\", fontsize=16)\n",
    "ax.set_xlabel(\"Age Group\", fontsize=14)\n",
    "ax.set_ylabel(\"Attrition Rate\", fontsize=14)\n",
    "ax.legend(title=\"Attrition\", fontsize=12, title_fontsize=14)\n",
    "plt.xticks(fontsize=12)\n",
    "plt.yticks(fontsize=12)\n",
    "plt.show()\n"
   ],
   "id": "2979579b728a9504",
   "outputs": [
    {
     "data": {
      "text/plain": [
       "<Figure size 1500x1000 with 1 Axes>"
      ],
      "image/png": "[encoded data removed]"
     },
     "metadata": {},
     "output_type": "display_data"
    }
   ],
   "execution_count": 41
  },
  {
   "metadata": {},
   "cell_type": "markdown",
   "source": [
    "#### Insight\n",
    "From the analysis, it is observed that employees in the early-career age group and middle-aged group tend to have higher attrition rates compared to other age groups. This indicates that younger employees and those in their mid-career stages might face challenges or dissatisfaction that leads them to leave the organization."
   ],
   "id": "4abee41ad7cd5768"
  },
  {
   "metadata": {},
   "cell_type": "markdown",
   "source": "## Bagaimana tingkat attrition bervariasi berdasarkan gender?",
   "id": "14b9952da03c5d07"
  },
  {
   "metadata": {
    "ExecuteTime": {
     "end_time": "2024-11-25T11:54:41.727453Z",
     "start_time": "2024-11-25T11:54:41.705554Z"
    }
   },
   "cell_type": "code",
   "source": [
    "df_gender = df_pre.groupby(\"Gender\").agg(\n",
    "    Attrition_0=(\"Attrition\", lambda x: (x == 0).sum()),\n",
    "    Attrition_1=(\"Attrition\", lambda x: (x == 1).sum())\n",
    ").reset_index()\n",
    "\n",
    "df_gender"
   ],
   "id": "e75c0b4372c5df78",
   "outputs": [
    {
     "data": {
      "text/plain": [
       "   Gender  Attrition_0  Attrition_1\n",
       "0       0          393          195\n",
       "1       1          578          304"
      ],
      "text/html": [
       "<div>\n",
       "<style scoped>\n",
       "    .dataframe tbody tr th:only-of-type {\n",
       "        vertical-align: middle;\n",
       "    }\n",
       "\n",
       "    .dataframe tbody tr th {\n",
       "        vertical-align: top;\n",
       "    }\n",
       "\n",
       "    .dataframe thead th {\n",
       "        text-align: right;\n",
       "    }\n",
       "</style>\n",
       "<table border=\"1\" class=\"dataframe\">\n",
       "  <thead>\n",
       "    <tr style=\"text-align: right;\">\n",
       "      <th></th>\n",
       "      <th>Gender</th>\n",
       "      <th>Attrition_0</th>\n",
       "      <th>Attrition_1</th>\n",
       "    </tr>\n",
       "  </thead>\n",
       "  <tbody>\n",
       "    <tr>\n",
       "      <th>0</th>\n",
       "      <td>0</td>\n",
       "      <td>393</td>\n",
       "      <td>195</td>\n",
       "    </tr>\n",
       "    <tr>\n",
       "      <th>1</th>\n",
       "      <td>1</td>\n",
       "      <td>578</td>\n",
       "      <td>304</td>\n",
       "    </tr>\n",
       "  </tbody>\n",
       "</table>\n",
       "</div>"
      ]
     },
     "execution_count": 42,
     "metadata": {},
     "output_type": "execute_result"
    }
   ],
   "execution_count": 42
  },
  {
   "metadata": {
    "ExecuteTime": {
     "end_time": "2024-11-25T11:54:42.333954Z",
     "start_time": "2024-11-25T11:54:41.828734Z"
    }
   },
   "cell_type": "code",
   "source": [
    "df_gender_melted = df_gender.melt(id_vars=\"Gender\",\n",
    "                                  value_vars=[\"Attrition_0\", \"Attrition_1\"],\n",
    "                                  var_name=\"Attrition\",\n",
    "                                  value_name=\"Value\")\n",
    "\n",
    "df_gender_melted.replace({\"Gender\": {0: \"Female\", 1: \"Male\"}}, inplace=True)\n",
    "\n",
    "fig, ax = plt.subplots(figsize=(15, 10))\n",
    "sns.barplot(x=\"Gender\", y=\"Value\", hue=\"Attrition\", data=df_gender_melted, ax=ax)\n",
    "ax.set_title(\"Attrition by Gender\", fontsize=16)\n",
    "ax.set_xlabel(\"Gender\", fontsize=14)\n",
    "ax.set_ylabel(\"Attrition Rate\", fontsize=14)\n",
    "ax.legend(title=\"Attrition\", fontsize=12, title_fontsize=14)\n",
    "plt.xticks(fontsize=12)\n",
    "plt.yticks(fontsize=12)\n",
    "plt.show()"
   ],
   "id": "b7471fb8163f289a",
   "outputs": [
    {
     "data": {
      "text/plain": [
       "<Figure size 1500x1000 with 1 Axes>"
      ],
      "image/png": "[encoded data removed]"
     },
     "metadata": {},
     "output_type": "display_data"
    }
   ],
   "execution_count": 43
  },
  {
   "metadata": {
    "ExecuteTime": {
     "end_time": "2024-11-25T11:54:42.627960Z",
     "start_time": "2024-11-25T11:54:42.419266Z"
    }
   },
   "cell_type": "code",
   "source": [
    "# count of the employees amount and attrition base on gender\n",
    "df_gender_ratio = df_gender.copy()\n",
    "df_gender_ratio[\"Total\"] = df_gender_ratio[\"Attrition_0\"] + df_gender_ratio[\"Attrition_1\"]\n",
    "df_gender_ratio[\"Attrition_Ratio\"] = df_gender_ratio[\"Attrition_1\"] / df_gender_ratio[\"Total\"]\n",
    "\n",
    "# Mapping gender labels\n",
    "df_gender_ratio[\"Gender\"] = df_gender_ratio[\"Gender\"].replace({0: \"Female\", 1: \"Male\"})\n",
    "\n",
    "# Visualisasi Rasio Attrition\n",
    "gender_labels = df_gender_ratio[\"Gender\"]\n",
    "attrition_ratios = df_gender_ratio[\"Attrition_Ratio\"]\n",
    "\n",
    "# Pie chart\n",
    "fig, ax = plt.subplots(figsize=(8, 8))\n",
    "ax.pie(attrition_ratios, labels=gender_labels, autopct='%1.1f%%', startangle=90, colors=[\"lightblue\", \"salmon\"])\n",
    "ax.set_title(\"Attrition Ratio by Gender\", fontsize=16)\n",
    "plt.show()"
   ],
   "id": "ba78c2e5085ed73e",
   "outputs": [
    {
     "data": {
      "text/plain": [
       "<Figure size 800x800 with 1 Axes>"
      ],
      "image/png": "[encoded data removed]"
     },
     "metadata": {},
     "output_type": "display_data"
    }
   ],
   "execution_count": 44
  },
  {
   "metadata": {},
   "cell_type": "markdown",
   "source": [
    "### Insight\n",
    "The data shows that male employees have a higher attrition rate compared to female employees. This indicates that male employees may face different challenges or dissatisfaction leading to their departure"
   ],
   "id": "db10765943994aa5"
  },
  {
   "metadata": {},
   "cell_type": "markdown",
   "source": "## Departemen mana yang memiliki tingkat attrition tertinggi?",
   "id": "97a6f7031d179fe"
  },
  {
   "metadata": {
    "ExecuteTime": {
     "end_time": "2024-11-25T11:54:42.721581Z",
     "start_time": "2024-11-25T11:54:42.658717Z"
    }
   },
   "cell_type": "code",
   "source": "df_pre.describe()",
   "id": "a7c6746c95ce268b",
   "outputs": [
    {
     "data": {
      "text/plain": [
       "               Age    Attrition  BusinessTravel    DailyRate   Department  \\\n",
       "count  1470.000000  1470.000000     1470.000000  1470.000000  1470.000000   \n",
       "mean     36.923810     0.339456        1.607483   802.485714     1.260544   \n",
       "std       9.135373     0.473686        0.665455   403.509100     0.527792   \n",
       "min      18.000000     0.000000        0.000000   102.000000     0.000000   \n",
       "25%      30.000000     0.000000        1.000000   465.000000     1.000000   \n",
       "50%      36.000000     0.000000        2.000000   802.000000     1.000000   \n",
       "75%      43.000000     1.000000        2.000000  1157.000000     2.000000   \n",
       "max      60.000000     1.000000        2.000000  1499.000000     2.000000   \n",
       "\n",
       "       DistanceFromHome    Education  EducationField  EnvironmentSatisfaction  \\\n",
       "count       1470.000000  1470.000000     1470.000000              1470.000000   \n",
       "mean           9.192517     2.912925        2.247619                 2.721769   \n",
       "std            8.106864     1.024165        1.331369                 1.093082   \n",
       "min            1.000000     1.000000        0.000000                 1.000000   \n",
       "25%            2.000000     2.000000        1.000000                 2.000000   \n",
       "50%            7.000000     3.000000        2.000000                 3.000000   \n",
       "75%           14.000000     4.000000        3.000000                 4.000000   \n",
       "max           29.000000     5.000000        5.000000                 4.000000   \n",
       "\n",
       "            Gender  ...  PerformanceRating  RelationshipSatisfaction  \\\n",
       "count  1470.000000  ...        1470.000000               1470.000000   \n",
       "mean      0.600000  ...           3.153741                  2.712245   \n",
       "std       0.490065  ...           0.360824                  1.081209   \n",
       "min       0.000000  ...           3.000000                  1.000000   \n",
       "25%       0.000000  ...           3.000000                  2.000000   \n",
       "50%       1.000000  ...           3.000000                  3.000000   \n",
       "75%       1.000000  ...           3.000000                  4.000000   \n",
       "max       1.000000  ...           4.000000                  4.000000   \n",
       "\n",
       "       StockOptionLevel  TotalWorkingYears  TrainingTimesLastYear  \\\n",
       "count       1470.000000        1470.000000            1470.000000   \n",
       "mean           0.793878          11.279592               2.799320   \n",
       "std            0.852077           7.780782               1.289271   \n",
       "min            0.000000           0.000000               0.000000   \n",
       "25%            0.000000           6.000000               2.000000   \n",
       "50%            1.000000          10.000000               3.000000   \n",
       "75%            1.000000          15.000000               3.000000   \n",
       "max            3.000000          40.000000               6.000000   \n",
       "\n",
       "       WorkLifeBalance  YearsAtCompany  YearsInCurrentRole  \\\n",
       "count      1470.000000     1470.000000         1470.000000   \n",
       "mean          2.761224        7.008163            4.229252   \n",
       "std           0.706476        6.126525            3.623137   \n",
       "min           1.000000        0.000000            0.000000   \n",
       "25%           2.000000        3.000000            2.000000   \n",
       "50%           3.000000        5.000000            3.000000   \n",
       "75%           3.000000        9.000000            7.000000   \n",
       "max           4.000000       40.000000           18.000000   \n",
       "\n",
       "       YearsSinceLastPromotion  YearsWithCurrManager  \n",
       "count              1470.000000           1470.000000  \n",
       "mean                  2.187755              4.123129  \n",
       "std                   3.222430              3.568136  \n",
       "min                   0.000000              0.000000  \n",
       "25%                   0.000000              2.000000  \n",
       "50%                   1.000000              3.000000  \n",
       "75%                   3.000000              7.000000  \n",
       "max                  15.000000             17.000000  \n",
       "\n",
       "[8 rows x 31 columns]"
      ],
      "text/html": [
       "<div>\n",
       "<style scoped>\n",
       "    .dataframe tbody tr th:only-of-type {\n",
       "        vertical-align: middle;\n",
       "    }\n",
       "\n",
       "    .dataframe tbody tr th {\n",
       "        vertical-align: top;\n",
       "    }\n",
       "\n",
       "    .dataframe thead th {\n",
       "        text-align: right;\n",
       "    }\n",
       "</style>\n",
       "<table border=\"1\" class=\"dataframe\">\n",
       "  <thead>\n",
       "    <tr style=\"text-align: right;\">\n",
       "      <th></th>\n",
       "      <th>Age</th>\n",
       "      <th>Attrition</th>\n",
       "      <th>BusinessTravel</th>\n",
       "      <th>DailyRate</th>\n",
       "      <th>Department</th>\n",
       "      <th>DistanceFromHome</th>\n",
       "      <th>Education</th>\n",
       "      <th>EducationField</th>\n",
       "      <th>EnvironmentSatisfaction</th>\n",
       "      <th>Gender</th>\n",
       "      <th>...</th>\n",
       "      <th>PerformanceRating</th>\n",
       "      <th>RelationshipSatisfaction</th>\n",
       "      <th>StockOptionLevel</th>\n",
       "      <th>TotalWorkingYears</th>\n",
       "      <th>TrainingTimesLastYear</th>\n",
       "      <th>WorkLifeBalance</th>\n",
       "      <th>YearsAtCompany</th>\n",
       "      <th>YearsInCurrentRole</th>\n",
       "      <th>YearsSinceLastPromotion</th>\n",
       "      <th>YearsWithCurrManager</th>\n",
       "    </tr>\n",
       "  </thead>\n",
       "  <tbody>\n",
       "    <tr>\n",
       "      <th>count</th>\n",
       "      <td>1470.000000</td>\n",
       "      <td>1470.000000</td>\n",
       "      <td>1470.000000</td>\n",
       "      <td>1470.000000</td>\n",
       "      <td>1470.000000</td>\n",
       "      <td>1470.000000</td>\n",
       "      <td>1470.000000</td>\n",
       "      <td>1470.000000</td>\n",
       "      <td>1470.000000</td>\n",
       "      <td>1470.000000</td>\n",
       "      <td>...</td>\n",
       "      <td>1470.000000</td>\n",
       "      <td>1470.000000</td>\n",
       "      <td>1470.000000</td>\n",
       "      <td>1470.000000</td>\n",
       "      <td>1470.000000</td>\n",
       "      <td>1470.000000</td>\n",
       "      <td>1470.000000</td>\n",
       "      <td>1470.000000</td>\n",
       "      <td>1470.000000</td>\n",
       "      <td>1470.000000</td>\n",
       "    </tr>\n",
       "    <tr>\n",
       "      <th>mean</th>\n",
       "      <td>36.923810</td>\n",
       "      <td>0.339456</td>\n",
       "      <td>1.607483</td>\n",
       "      <td>802.485714</td>\n",
       "      <td>1.260544</td>\n",
       "      <td>9.192517</td>\n",
       "      <td>2.912925</td>\n",
       "      <td>2.247619</td>\n",
       "      <td>2.721769</td>\n",
       "      <td>0.600000</td>\n",
       "      <td>...</td>\n",
       "      <td>3.153741</td>\n",
       "      <td>2.712245</td>\n",
       "      <td>0.793878</td>\n",
       "      <td>11.279592</td>\n",
       "      <td>2.799320</td>\n",
       "      <td>2.761224</td>\n",
       "      <td>7.008163</td>\n",
       "      <td>4.229252</td>\n",
       "      <td>2.187755</td>\n",
       "      <td>4.123129</td>\n",
       "    </tr>\n",
       "    <tr>\n",
       "      <th>std</th>\n",
       "      <td>9.135373</td>\n",
       "      <td>0.473686</td>\n",
       "      <td>0.665455</td>\n",
       "      <td>403.509100</td>\n",
       "      <td>0.527792</td>\n",
       "      <td>8.106864</td>\n",
       "      <td>1.024165</td>\n",
       "      <td>1.331369</td>\n",
       "      <td>1.093082</td>\n",
       "      <td>0.490065</td>\n",
       "      <td>...</td>\n",
       "      <td>0.360824</td>\n",
       "      <td>1.081209</td>\n",
       "      <td>0.852077</td>\n",
       "      <td>7.780782</td>\n",
       "      <td>1.289271</td>\n",
       "      <td>0.706476</td>\n",
       "      <td>6.126525</td>\n",
       "      <td>3.623137</td>\n",
       "      <td>3.222430</td>\n",
       "      <td>3.568136</td>\n",
       "    </tr>\n",
       "    <tr>\n",
       "      <th>min</th>\n",
       "      <td>18.000000</td>\n",
       "      <td>0.000000</td>\n",
       "      <td>0.000000</td>\n",
       "      <td>102.000000</td>\n",
       "      <td>0.000000</td>\n",
       "      <td>1.000000</td>\n",
       "      <td>1.000000</td>\n",
       "      <td>0.000000</td>\n",
       "      <td>1.000000</td>\n",
       "      <td>0.000000</td>\n",
       "      <td>...</td>\n",
       "      <td>3.000000</td>\n",
       "      <td>1.000000</td>\n",
       "      <td>0.000000</td>\n",
       "      <td>0.000000</td>\n",
       "      <td>0.000000</td>\n",
       "      <td>1.000000</td>\n",
       "      <td>0.000000</td>\n",
       "      <td>0.000000</td>\n",
       "      <td>0.000000</td>\n",
       "      <td>0.000000</td>\n",
       "    </tr>\n",
       "    <tr>\n",
       "      <th>25%</th>\n",
       "      <td>30.000000</td>\n",
       "      <td>0.000000</td>\n",
       "      <td>1.000000</td>\n",
       "      <td>465.000000</td>\n",
       "      <td>1.000000</td>\n",
       "      <td>2.000000</td>\n",
       "      <td>2.000000</td>\n",
       "      <td>1.000000</td>\n",
       "      <td>2.000000</td>\n",
       "      <td>0.000000</td>\n",
       "      <td>...</td>\n",
       "      <td>3.000000</td>\n",
       "      <td>2.000000</td>\n",
       "      <td>0.000000</td>\n",
       "      <td>6.000000</td>\n",
       "      <td>2.000000</td>\n",
       "      <td>2.000000</td>\n",
       "      <td>3.000000</td>\n",
       "      <td>2.000000</td>\n",
       "      <td>0.000000</td>\n",
       "      <td>2.000000</td>\n",
       "    </tr>\n",
       "    <tr>\n",
       "      <th>50%</th>\n",
       "      <td>36.000000</td>\n",
       "      <td>0.000000</td>\n",
       "      <td>2.000000</td>\n",
       "      <td>802.000000</td>\n",
       "      <td>1.000000</td>\n",
       "      <td>7.000000</td>\n",
       "      <td>3.000000</td>\n",
       "      <td>2.000000</td>\n",
       "      <td>3.000000</td>\n",
       "      <td>1.000000</td>\n",
       "      <td>...</td>\n",
       "      <td>3.000000</td>\n",
       "      <td>3.000000</td>\n",
       "      <td>1.000000</td>\n",
       "      <td>10.000000</td>\n",
       "      <td>3.000000</td>\n",
       "      <td>3.000000</td>\n",
       "      <td>5.000000</td>\n",
       "      <td>3.000000</td>\n",
       "      <td>1.000000</td>\n",
       "      <td>3.000000</td>\n",
       "    </tr>\n",
       "    <tr>\n",
       "      <th>75%</th>\n",
       "      <td>43.000000</td>\n",
       "      <td>1.000000</td>\n",
       "      <td>2.000000</td>\n",
       "      <td>1157.000000</td>\n",
       "      <td>2.000000</td>\n",
       "      <td>14.000000</td>\n",
       "      <td>4.000000</td>\n",
       "      <td>3.000000</td>\n",
       "      <td>4.000000</td>\n",
       "      <td>1.000000</td>\n",
       "      <td>...</td>\n",
       "      <td>3.000000</td>\n",
       "      <td>4.000000</td>\n",
       "      <td>1.000000</td>\n",
       "      <td>15.000000</td>\n",
       "      <td>3.000000</td>\n",
       "      <td>3.000000</td>\n",
       "      <td>9.000000</td>\n",
       "      <td>7.000000</td>\n",
       "      <td>3.000000</td>\n",
       "      <td>7.000000</td>\n",
       "    </tr>\n",
       "    <tr>\n",
       "      <th>max</th>\n",
       "      <td>60.000000</td>\n",
       "      <td>1.000000</td>\n",
       "      <td>2.000000</td>\n",
       "      <td>1499.000000</td>\n",
       "      <td>2.000000</td>\n",
       "      <td>29.000000</td>\n",
       "      <td>5.000000</td>\n",
       "      <td>5.000000</td>\n",
       "      <td>4.000000</td>\n",
       "      <td>1.000000</td>\n",
       "      <td>...</td>\n",
       "      <td>4.000000</td>\n",
       "      <td>4.000000</td>\n",
       "      <td>3.000000</td>\n",
       "      <td>40.000000</td>\n",
       "      <td>6.000000</td>\n",
       "      <td>4.000000</td>\n",
       "      <td>40.000000</td>\n",
       "      <td>18.000000</td>\n",
       "      <td>15.000000</td>\n",
       "      <td>17.000000</td>\n",
       "    </tr>\n",
       "  </tbody>\n",
       "</table>\n",
       "<p>8 rows × 31 columns</p>\n",
       "</div>"
      ]
     },
     "execution_count": 45,
     "metadata": {},
     "output_type": "execute_result"
    }
   ],
   "execution_count": 45
  },
  {
   "metadata": {
    "ExecuteTime": {
     "end_time": "2024-11-25T11:54:42.859435Z",
     "start_time": "2024-11-25T11:54:42.837302Z"
    }
   },
   "cell_type": "code",
   "source": [
    "df_department = df_pre.groupby(\"Department\").agg(\n",
    "    Attrition_0=(\"Attrition\", lambda x: (x == 0).sum()),\n",
    "    Attrition_1=(\"Attrition\", lambda x: (x == 1).sum()),\n",
    "    Dailyrate=(\"DailyRate\", \"mean\"),\n",
    "    Monthlyrate=(\"MonthlyRate\", \"mean\"),\n",
    "    YearsAtCompany=(\"YearsAtCompany\", \"mean\"),\n",
    "    TotalWorkingYears=(\"TotalWorkingYears\", \"mean\"),\n",
    "    OverTime=(\"OverTime\", \"mean\"),\n",
    ").reset_index()\n",
    "\n",
    "df_department\n"
   ],
   "id": "d3b4d3d0c3366260",
   "outputs": [
    {
     "data": {
      "text/plain": [
       "   Department  Attrition_0  Attrition_1   Dailyrate   Monthlyrate  \\\n",
       "0           0           39           24  751.539683  13492.984127   \n",
       "1           1          645          316  806.851197  14284.865765   \n",
       "2           2          287          159  800.275785  14489.793722   \n",
       "\n",
       "   YearsAtCompany  TotalWorkingYears  OverTime  \n",
       "0        7.238095          11.555556  0.269841  \n",
       "1        6.864724          11.342352  0.281998  \n",
       "2        7.284753          11.105381  0.286996  "
      ],
      "text/html": [
       "<div>\n",
       "<style scoped>\n",
       "    .dataframe tbody tr th:only-of-type {\n",
       "        vertical-align: middle;\n",
       "    }\n",
       "\n",
       "    .dataframe tbody tr th {\n",
       "        vertical-align: top;\n",
       "    }\n",
       "\n",
       "    .dataframe thead th {\n",
       "        text-align: right;\n",
       "    }\n",
       "</style>\n",
       "<table border=\"1\" class=\"dataframe\">\n",
       "  <thead>\n",
       "    <tr style=\"text-align: right;\">\n",
       "      <th></th>\n",
       "      <th>Department</th>\n",
       "      <th>Attrition_0</th>\n",
       "      <th>Attrition_1</th>\n",
       "      <th>Dailyrate</th>\n",
       "      <th>Monthlyrate</th>\n",
       "      <th>YearsAtCompany</th>\n",
       "      <th>TotalWorkingYears</th>\n",
       "      <th>OverTime</th>\n",
       "    </tr>\n",
       "  </thead>\n",
       "  <tbody>\n",
       "    <tr>\n",
       "      <th>0</th>\n",
       "      <td>0</td>\n",
       "      <td>39</td>\n",
       "      <td>24</td>\n",
       "      <td>751.539683</td>\n",
       "      <td>13492.984127</td>\n",
       "      <td>7.238095</td>\n",
       "      <td>11.555556</td>\n",
       "      <td>0.269841</td>\n",
       "    </tr>\n",
       "    <tr>\n",
       "      <th>1</th>\n",
       "      <td>1</td>\n",
       "      <td>645</td>\n",
       "      <td>316</td>\n",
       "      <td>806.851197</td>\n",
       "      <td>14284.865765</td>\n",
       "      <td>6.864724</td>\n",
       "      <td>11.342352</td>\n",
       "      <td>0.281998</td>\n",
       "    </tr>\n",
       "    <tr>\n",
       "      <th>2</th>\n",
       "      <td>2</td>\n",
       "      <td>287</td>\n",
       "      <td>159</td>\n",
       "      <td>800.275785</td>\n",
       "      <td>14489.793722</td>\n",
       "      <td>7.284753</td>\n",
       "      <td>11.105381</td>\n",
       "      <td>0.286996</td>\n",
       "    </tr>\n",
       "  </tbody>\n",
       "</table>\n",
       "</div>"
      ]
     },
     "execution_count": 46,
     "metadata": {},
     "output_type": "execute_result"
    }
   ],
   "execution_count": 46
  },
  {
   "metadata": {
    "ExecuteTime": {
     "end_time": "2024-11-25T11:54:43.425239Z",
     "start_time": "2024-11-25T11:54:42.913755Z"
    }
   },
   "cell_type": "code",
   "source": [
    "fig, ax = plt.subplots(figsize=(15, 10))\n",
    "sns.heatmap(df_department.corr(numeric_only=True), annot=True, cmap=\"coolwarm\", ax=ax)\n",
    "plt.show()"
   ],
   "id": "d4319a5303dfe377",
   "outputs": [
    {
     "data": {
      "text/plain": [
       "<Figure size 1500x1000 with 2 Axes>"
      ],
      "image/png": "[encoded data removed]"
     },
     "metadata": {},
     "output_type": "display_data"
    }
   ],
   "execution_count": 47
  },
  {
   "metadata": {},
   "cell_type": "markdown",
   "source": [
    "#### Insight\n",
    "The data shows that there is no significant correlation between Years at Company and Total Working Years with the decision to leave (attrition). This suggests that the length of tenure or overall career experience does not strongly influence employees' decisions to stay or leave the organization."
   ],
   "id": "6654df38d58a1dc7"
  },
  {
   "metadata": {
    "ExecuteTime": {
     "end_time": "2024-11-25T11:54:43.486141Z",
     "start_time": "2024-11-25T11:54:43.481097Z"
    }
   },
   "cell_type": "code",
   "source": [
    "df_department.replace({\"Department\" :{0 : \"Human Resource\", 1 : \"Research & Development\", 2 : \"sales\"}}, inplace=True)\n",
    "df_department.drop(columns=[\"YearsAtCompany\", \"TotalWorkingYears\"], inplace=True)"
   ],
   "id": "6736c40041d8b183",
   "outputs": [],
   "execution_count": 48
  },
  {
   "metadata": {
    "ExecuteTime": {
     "end_time": "2024-11-25T11:54:43.920352Z",
     "start_time": "2024-11-25T11:54:43.545484Z"
    }
   },
   "cell_type": "code",
   "source": [
    "df_department_melted = df_department.melt(id_vars=\"Department\",\n",
    "                                          value_vars=[\"Attrition_0\", \"Attrition_1\"],\n",
    "                                          var_name=\"Attrition\",\n",
    "                                          value_name=\"Value\")\n",
    "\n",
    "fig, ax = plt.subplots(figsize=(15, 10))\n",
    "sns.barplot(x=\"Department\", y=\"Value\", hue=\"Attrition\", data=df_department_melted, ax=ax)\n",
    "ax.set_title(\"Attrition by Department\", fontsize=16)\n",
    "ax.set_xlabel(\"Department\", fontsize=14)\n",
    "ax.set_ylabel(\"Attrition Rate\", fontsize=14)\n",
    "ax.legend(title=\"Attrition\", fontsize=12, title_fontsize=14)\n",
    "plt.show()"
   ],
   "id": "375479749fa90f12",
   "outputs": [
    {
     "data": {
      "text/plain": [
       "<Figure size 1500x1000 with 1 Axes>"
      ],
      "image/png": "[encoded data removed]"
     },
     "metadata": {},
     "output_type": "display_data"
    }
   ],
   "execution_count": 49
  },
  {
   "metadata": {
    "ExecuteTime": {
     "end_time": "2024-11-25T11:54:44.057992Z",
     "start_time": "2024-11-25T11:54:43.927811Z"
    }
   },
   "cell_type": "code",
   "source": [
    "# count of the employees amount each department and attrition base on department\n",
    "df_department_ratio = df_department.copy()\n",
    "df_department_ratio[\"Total\"] = df_department_ratio[\"Attrition_0\"] + df_department_ratio[\"Attrition_1\"]\n",
    "df_department_ratio[\"Attrition_Ratio\"] = df_department_ratio[\"Attrition_1\"] / df_department_ratio[\"Total\"]\n",
    "\n",
    "# Mapping department\n",
    "df_department_ratio[\"Department\"] = df_department_ratio[\"Department\"].replace({0: \"Human Resource\", 1: \"Research & Development\", 2: \"sales\"})\n",
    "\n",
    "# Visualisasi Ratio Attrition\n",
    "department_labels = df_department_ratio[\"Department\"]\n",
    "attrition_ratios = df_department_ratio[\"Attrition_Ratio\"]\n",
    "\n",
    "# Pie Chart\n",
    "fig, ax = plt.subplots(figsize=(8, 8))\n",
    "ax.pie(attrition_ratios, labels=department_labels, autopct='%1.1f%%', startangle=90, colors=[\"lightblue\", \"salmon\"])\n",
    "ax.set_title(\"Attrition Ratio by Department\", fontsize=16)\n",
    "plt.show()\n",
    "\n"
   ],
   "id": "8b054f257fc6b702",
   "outputs": [
    {
     "data": {
      "text/plain": [
       "<Figure size 800x800 with 1 Axes>"
      ],
      "image/png": "[encoded data removed]"
     },
     "metadata": {},
     "output_type": "display_data"
    }
   ],
   "execution_count": 50
  },
  {
   "metadata": {},
   "cell_type": "markdown",
   "source": [
    "#### Insight\n",
    "The data shows that the Research & Development department has slightly lower attrition compared to the Human Resources and Sales departments. However, the differences are relatively small."
   ],
   "id": "66062e073c6e012f"
  },
  {
   "metadata": {},
   "cell_type": "markdown",
   "source": "## Apakah tingkat attrition lebih tinggi di antara karyawan dengan gaji lebih rendah?",
   "id": "2f4785dd81fa0e33"
  },
  {
   "metadata": {
    "ExecuteTime": {
     "end_time": "2024-11-25T11:54:44.118259Z",
     "start_time": "2024-11-25T11:54:44.111182Z"
    }
   },
   "cell_type": "code",
   "source": "df_pre[\"MonthlyIncome\"].describe()",
   "id": "87c5b5d3a3c76ac9",
   "outputs": [
    {
     "data": {
      "text/plain": [
       "count     1470.000000\n",
       "mean      6502.931293\n",
       "std       4707.956783\n",
       "min       1009.000000\n",
       "25%       2911.000000\n",
       "50%       4919.000000\n",
       "75%       8379.000000\n",
       "max      19999.000000\n",
       "Name: MonthlyIncome, dtype: float64"
      ]
     },
     "execution_count": 51,
     "metadata": {},
     "output_type": "execute_result"
    }
   ],
   "execution_count": 51
  },
  {
   "metadata": {
    "ExecuteTime": {
     "end_time": "2024-11-25T11:54:44.550152Z",
     "start_time": "2024-11-25T11:54:44.214506Z"
    }
   },
   "cell_type": "code",
   "source": "df_pre[\"MonthlyIncome\"].hist(bins=20)",
   "id": "1023da92681ca9a",
   "outputs": [
    {
     "data": {
      "text/plain": [
       "<Axes: >"
      ]
     },
     "execution_count": 52,
     "metadata": {},
     "output_type": "execute_result"
    },
    {
     "data": {
      "text/plain": [
       "<Figure size 640x480 with 1 Axes>"
      ],
      "image/png": "[encoded data removed]"
     },
     "metadata": {},
     "output_type": "display_data"
    }
   ],
   "execution_count": 52
  },
  {
   "metadata": {
    "ExecuteTime": {
     "end_time": "2024-11-25T11:54:44.638706Z",
     "start_time": "2024-11-25T11:54:44.616988Z"
    }
   },
   "cell_type": "code",
   "source": [
    "def categorize_salary(salary):\n",
    "    if salary <= 7500:\n",
    "        return \"Low Salary\"\n",
    "    elif salary <= 15000:\n",
    "        return \"Medium Salary\"\n",
    "    else:\n",
    "        return \"High Salary\"\n",
    "\n",
    "\n",
    "df_pre[\"SalaryGroup\"] = df_pre[\"MonthlyIncome\"].apply(categorize_salary)\n",
    "df_salary_grouped = df_pre.groupby(\"SalaryGroup\").agg(\n",
    "    Attrition_0=(\"Attrition\", lambda x: (x == 0).sum()),\n",
    "    Attrition_1=(\"Attrition\", lambda x: (x == 1).sum()),\n",
    "    TotalWorkingYears=(\"TotalWorkingYears\", \"mean\"),\n",
    ").reset_index()\n",
    "\n",
    "df_salary_grouped"
   ],
   "id": "d6ade5182eccd9f",
   "outputs": [
    {
     "data": {
      "text/plain": [
       "     SalaryGroup  Attrition_0  Attrition_1  TotalWorkingYears\n",
       "0    High Salary          102           31          25.601504\n",
       "1     Low Salary          684          375           8.200189\n",
       "2  Medium Salary          185           93          16.158273"
      ],
      "text/html": [
       "<div>\n",
       "<style scoped>\n",
       "    .dataframe tbody tr th:only-of-type {\n",
       "        vertical-align: middle;\n",
       "    }\n",
       "\n",
       "    .dataframe tbody tr th {\n",
       "        vertical-align: top;\n",
       "    }\n",
       "\n",
       "    .dataframe thead th {\n",
       "        text-align: right;\n",
       "    }\n",
       "</style>\n",
       "<table border=\"1\" class=\"dataframe\">\n",
       "  <thead>\n",
       "    <tr style=\"text-align: right;\">\n",
       "      <th></th>\n",
       "      <th>SalaryGroup</th>\n",
       "      <th>Attrition_0</th>\n",
       "      <th>Attrition_1</th>\n",
       "      <th>TotalWorkingYears</th>\n",
       "    </tr>\n",
       "  </thead>\n",
       "  <tbody>\n",
       "    <tr>\n",
       "      <th>0</th>\n",
       "      <td>High Salary</td>\n",
       "      <td>102</td>\n",
       "      <td>31</td>\n",
       "      <td>25.601504</td>\n",
       "    </tr>\n",
       "    <tr>\n",
       "      <th>1</th>\n",
       "      <td>Low Salary</td>\n",
       "      <td>684</td>\n",
       "      <td>375</td>\n",
       "      <td>8.200189</td>\n",
       "    </tr>\n",
       "    <tr>\n",
       "      <th>2</th>\n",
       "      <td>Medium Salary</td>\n",
       "      <td>185</td>\n",
       "      <td>93</td>\n",
       "      <td>16.158273</td>\n",
       "    </tr>\n",
       "  </tbody>\n",
       "</table>\n",
       "</div>"
      ]
     },
     "execution_count": 53,
     "metadata": {},
     "output_type": "execute_result"
    }
   ],
   "execution_count": 53
  },
  {
   "metadata": {
    "ExecuteTime": {
     "end_time": "2024-11-25T11:54:45.098221Z",
     "start_time": "2024-11-25T11:54:44.707045Z"
    }
   },
   "cell_type": "code",
   "source": [
    "df_salary_melted = df_salary_grouped.melt(id_vars=\"SalaryGroup\",\n",
    "                                          value_vars=[\"Attrition_0\", \"Attrition_1\"],\n",
    "                                          var_name=\"Attrition\",\n",
    "                                          value_name=\"Value\")\n",
    "\n",
    "fig, ax = plt.subplots(figsize=(15, 10))\n",
    "sns.barplot(x=\"SalaryGroup\", y=\"Value\", hue=\"Attrition\", data=df_salary_melted, ax=ax)\n",
    "ax.set_title(\"Attrition by Salary Group\", fontsize=16)\n",
    "ax.set_xlabel(\"Salary Group\", fontsize=14)\n",
    "ax.set_ylabel(\"Attrition Rate\", fontsize=14)\n",
    "plt.show()"
   ],
   "id": "425546c56fd7f641",
   "outputs": [
    {
     "data": {
      "text/plain": [
       "<Figure size 1500x1000 with 1 Axes>"
      ],
      "image/png": "[encoded data removed]"
     },
     "metadata": {},
     "output_type": "display_data"
    }
   ],
   "execution_count": 54
  },
  {
   "metadata": {
    "ExecuteTime": {
     "end_time": "2024-11-25T11:54:45.271024Z",
     "start_time": "2024-11-25T11:54:45.143097Z"
    }
   },
   "cell_type": "code",
   "source": [
    "# Count of group salary and attrition base on group salary\n",
    "df_salary_ratio = df_salary_grouped.copy()\n",
    "df_salary_ratio[\"Total\"] = df_salary_ratio[\"Attrition_0\"] + df_salary_ratio[\"Attrition_1\"]\n",
    "df_salary_ratio[\"Attrition_Ratio\"] = df_salary_ratio[\"Attrition_1\"] / df_salary_ratio[\"Total\"]\n",
    "\n",
    "# Visualisasi ratio attrition\n",
    "salary_labels = df_salary_ratio[\"SalaryGroup\"]\n",
    "attrition_ratios = df_salary_ratio[\"Attrition_Ratio\"]\n",
    "\n",
    "# Pie Chart\n",
    "fig, ax = plt.subplots(figsize=(8, 8))\n",
    "ax.pie(attrition_ratios, labels=salary_labels, autopct='%1.1f%%', startangle=90, colors=[\"lightblue\", \"salmon\"])\n",
    "ax.set_title(\"Attrition Ratio by Salary Group\", fontsize=16)\n",
    "plt.show()"
   ],
   "id": "e86f9cdd7353e10f",
   "outputs": [
    {
     "data": {
      "text/plain": [
       "<Figure size 800x800 with 1 Axes>"
      ],
      "image/png": "[encoded data removed]"
     },
     "metadata": {},
     "output_type": "display_data"
    }
   ],
   "execution_count": 55
  },
  {
   "metadata": {},
   "cell_type": "markdown",
   "source": [
    "#### Insight\n",
    "The data indicates that employees with low salaries have a higher likelihood of leaving (attrition) compared to those with medium or high salaries."
   ],
   "id": "b2cb7903fc94eb8c"
  },
  {
   "metadata": {},
   "cell_type": "markdown",
   "source": "## Berapa lama rata-rata karyawan bertahan di perusahaan sebelum mereka mengalami attrition?",
   "id": "1635fa294073bf04"
  },
  {
   "metadata": {
    "ExecuteTime": {
     "end_time": "2024-11-25T11:54:45.288220Z",
     "start_time": "2024-11-25T11:54:45.278910Z"
    }
   },
   "cell_type": "code",
   "source": "df_pre[\"YearsAtCompany\"].describe()",
   "id": "8aa7952684937766",
   "outputs": [
    {
     "data": {
      "text/plain": [
       "count    1470.000000\n",
       "mean        7.008163\n",
       "std         6.126525\n",
       "min         0.000000\n",
       "25%         3.000000\n",
       "50%         5.000000\n",
       "75%         9.000000\n",
       "max        40.000000\n",
       "Name: YearsAtCompany, dtype: float64"
      ]
     },
     "execution_count": 56,
     "metadata": {},
     "output_type": "execute_result"
    }
   ],
   "execution_count": 56
  },
  {
   "metadata": {
    "ExecuteTime": {
     "end_time": "2024-11-25T11:54:45.885490Z",
     "start_time": "2024-11-25T11:54:45.505965Z"
    }
   },
   "cell_type": "code",
   "source": "df_pre[\"YearsAtCompany\"].hist(bins=10)",
   "id": "4ba040828c8ca1c3",
   "outputs": [
    {
     "data": {
      "text/plain": [
       "<Axes: >"
      ]
     },
     "execution_count": 57,
     "metadata": {},
     "output_type": "execute_result"
    },
    {
     "data": {
      "text/plain": [
       "<Figure size 640x480 with 1 Axes>"
      ],
      "image/png": "[encoded data removed]"
     },
     "metadata": {},
     "output_type": "display_data"
    }
   ],
   "execution_count": 57
  },
  {
   "metadata": {
    "ExecuteTime": {
     "end_time": "2024-11-25T11:54:46.116731Z",
     "start_time": "2024-11-25T11:54:46.108251Z"
    }
   },
   "cell_type": "code",
   "source": "df_pre[\"TotalWorkingYears\"].describe()",
   "id": "7cdbc4ec2ad4f183",
   "outputs": [
    {
     "data": {
      "text/plain": [
       "count    1470.000000\n",
       "mean       11.279592\n",
       "std         7.780782\n",
       "min         0.000000\n",
       "25%         6.000000\n",
       "50%        10.000000\n",
       "75%        15.000000\n",
       "max        40.000000\n",
       "Name: TotalWorkingYears, dtype: float64"
      ]
     },
     "execution_count": 58,
     "metadata": {},
     "output_type": "execute_result"
    }
   ],
   "execution_count": 58
  },
  {
   "metadata": {
    "ExecuteTime": {
     "end_time": "2024-11-25T11:54:46.485097Z",
     "start_time": "2024-11-25T11:54:46.156520Z"
    }
   },
   "cell_type": "code",
   "source": "df_pre[\"TotalWorkingYears\"].hist(bins=10)",
   "id": "adf3c869ee3616a8",
   "outputs": [
    {
     "data": {
      "text/plain": [
       "<Axes: >"
      ]
     },
     "execution_count": 59,
     "metadata": {},
     "output_type": "execute_result"
    },
    {
     "data": {
      "text/plain": [
       "<Figure size 640x480 with 1 Axes>"
      ],
      "image/png": "[encoded data removed]"
     },
     "metadata": {},
     "output_type": "display_data"
    }
   ],
   "execution_count": 59
  },
  {
   "metadata": {
    "ExecuteTime": {
     "end_time": "2024-11-25T11:54:46.545550Z",
     "start_time": "2024-11-25T11:54:46.538225Z"
    }
   },
   "cell_type": "code",
   "source": [
    "def categorize_experience(years):\n",
    "    if years <= 1:\n",
    "        return \"Fresh Graduate\"\n",
    "    elif years <= 3:\n",
    "        return \"Junior Employee\"\n",
    "    elif years <= 5:\n",
    "        return \"Mid-level Employee\"\n",
    "    else:\n",
    "        return \"Senior Employee\"\n",
    "\n",
    "def categorize_stay(stay):\n",
    "    if stay <= 5:\n",
    "        return \"Short Stay\"\n",
    "    elif stay <= 10:\n",
    "        return \"Medium Stay\"\n",
    "    else:\n",
    "        return \"Long Stay\"\n",
    "\n",
    "df_pre[\"StayGroup\"] = df_pre[\"YearsAtCompany\"].apply(categorize_stay)\n",
    "df_pre[\"ExperienceGroup\"] = df_pre[\"TotalWorkingYears\"].apply(categorize_experience)"
   ],
   "id": "5e6fb513ed2715b3",
   "outputs": [],
   "execution_count": 60
  },
  {
   "metadata": {
    "ExecuteTime": {
     "end_time": "2024-11-25T11:54:46.620368Z",
     "start_time": "2024-11-25T11:54:46.605060Z"
    }
   },
   "cell_type": "code",
   "source": [
    "df_stay_grouped = df_pre.groupby(\"StayGroup\").agg(\n",
    "    Attrition_0=(\"Attrition\", lambda x: (x == 0).sum()),\n",
    "    Attrition_1=(\"Attrition\", lambda x: (x == 1).sum()),\n",
    "    TotalWorkingYears=(\"TotalWorkingYears\", \"mean\"),\n",
    ").reset_index()\n",
    "\n",
    "df_stay_grouped"
   ],
   "id": "77cabf2b65f54365",
   "outputs": [
    {
     "data": {
      "text/plain": [
       "     StayGroup  Attrition_0  Attrition_1  TotalWorkingYears\n",
       "0    Long Stay          168           78          20.243902\n",
       "1  Medium Stay          298          150          11.486607\n",
       "2   Short Stay          505          271           8.318299"
      ],
      "text/html": [
       "<div>\n",
       "<style scoped>\n",
       "    .dataframe tbody tr th:only-of-type {\n",
       "        vertical-align: middle;\n",
       "    }\n",
       "\n",
       "    .dataframe tbody tr th {\n",
       "        vertical-align: top;\n",
       "    }\n",
       "\n",
       "    .dataframe thead th {\n",
       "        text-align: right;\n",
       "    }\n",
       "</style>\n",
       "<table border=\"1\" class=\"dataframe\">\n",
       "  <thead>\n",
       "    <tr style=\"text-align: right;\">\n",
       "      <th></th>\n",
       "      <th>StayGroup</th>\n",
       "      <th>Attrition_0</th>\n",
       "      <th>Attrition_1</th>\n",
       "      <th>TotalWorkingYears</th>\n",
       "    </tr>\n",
       "  </thead>\n",
       "  <tbody>\n",
       "    <tr>\n",
       "      <th>0</th>\n",
       "      <td>Long Stay</td>\n",
       "      <td>168</td>\n",
       "      <td>78</td>\n",
       "      <td>20.243902</td>\n",
       "    </tr>\n",
       "    <tr>\n",
       "      <th>1</th>\n",
       "      <td>Medium Stay</td>\n",
       "      <td>298</td>\n",
       "      <td>150</td>\n",
       "      <td>11.486607</td>\n",
       "    </tr>\n",
       "    <tr>\n",
       "      <th>2</th>\n",
       "      <td>Short Stay</td>\n",
       "      <td>505</td>\n",
       "      <td>271</td>\n",
       "      <td>8.318299</td>\n",
       "    </tr>\n",
       "  </tbody>\n",
       "</table>\n",
       "</div>"
      ]
     },
     "execution_count": 61,
     "metadata": {},
     "output_type": "execute_result"
    }
   ],
   "execution_count": 61
  },
  {
   "metadata": {
    "ExecuteTime": {
     "end_time": "2024-11-25T11:54:46.741370Z",
     "start_time": "2024-11-25T11:54:46.729406Z"
    }
   },
   "cell_type": "code",
   "source": [
    "df_experience_grouped = df_pre.groupby(\"ExperienceGroup\").agg(\n",
    "    Attrition_0=(\"Attrition\", lambda x: (x == 0).sum()),\n",
    "    Attrition_1=(\"Attrition\", lambda x: (x == 1).sum()),\n",
    "    YearsAtCompany=(\"YearsAtCompany\", \"mean\"),\n",
    ").reset_index()\n",
    "\n",
    "df_experience_grouped"
   ],
   "id": "a733ec48e2cff50f",
   "outputs": [
    {
     "data": {
      "text/plain": [
       "      ExperienceGroup  Attrition_0  Attrition_1  YearsAtCompany\n",
       "0      Fresh Graduate           60           32        0.836957\n",
       "1     Junior Employee           53           20        2.123288\n",
       "2  Mid-level Employee           96           55        3.423841\n",
       "3     Senior Employee          762          392        8.278163"
      ],
      "text/html": [
       "<div>\n",
       "<style scoped>\n",
       "    .dataframe tbody tr th:only-of-type {\n",
       "        vertical-align: middle;\n",
       "    }\n",
       "\n",
       "    .dataframe tbody tr th {\n",
       "        vertical-align: top;\n",
       "    }\n",
       "\n",
       "    .dataframe thead th {\n",
       "        text-align: right;\n",
       "    }\n",
       "</style>\n",
       "<table border=\"1\" class=\"dataframe\">\n",
       "  <thead>\n",
       "    <tr style=\"text-align: right;\">\n",
       "      <th></th>\n",
       "      <th>ExperienceGroup</th>\n",
       "      <th>Attrition_0</th>\n",
       "      <th>Attrition_1</th>\n",
       "      <th>YearsAtCompany</th>\n",
       "    </tr>\n",
       "  </thead>\n",
       "  <tbody>\n",
       "    <tr>\n",
       "      <th>0</th>\n",
       "      <td>Fresh Graduate</td>\n",
       "      <td>60</td>\n",
       "      <td>32</td>\n",
       "      <td>0.836957</td>\n",
       "    </tr>\n",
       "    <tr>\n",
       "      <th>1</th>\n",
       "      <td>Junior Employee</td>\n",
       "      <td>53</td>\n",
       "      <td>20</td>\n",
       "      <td>2.123288</td>\n",
       "    </tr>\n",
       "    <tr>\n",
       "      <th>2</th>\n",
       "      <td>Mid-level Employee</td>\n",
       "      <td>96</td>\n",
       "      <td>55</td>\n",
       "      <td>3.423841</td>\n",
       "    </tr>\n",
       "    <tr>\n",
       "      <th>3</th>\n",
       "      <td>Senior Employee</td>\n",
       "      <td>762</td>\n",
       "      <td>392</td>\n",
       "      <td>8.278163</td>\n",
       "    </tr>\n",
       "  </tbody>\n",
       "</table>\n",
       "</div>"
      ]
     },
     "execution_count": 62,
     "metadata": {},
     "output_type": "execute_result"
    }
   ],
   "execution_count": 62
  },
  {
   "metadata": {
    "ExecuteTime": {
     "end_time": "2024-11-25T11:54:47.580294Z",
     "start_time": "2024-11-25T11:54:46.829569Z"
    }
   },
   "cell_type": "code",
   "source": [
    "df_stay_melted = df_stay_grouped.melt(id_vars=\"StayGroup\",\n",
    "                                      value_vars=[\"Attrition_0\", \"Attrition_1\"],\n",
    "                                      var_name=\"Attrition\",\n",
    "                                      value_name=\"Value\")\n",
    "\n",
    "df_experience_melted = df_experience_grouped.melt(id_vars=\"ExperienceGroup\",\n",
    "                                                  value_vars=[\"Attrition_0\", \"Attrition_1\"],\n",
    "                                                  var_name=\"Attrition\",\n",
    "                                                  value_name=\"Value\")\n",
    "\n",
    "fig, (ax1, ax2) = plt.subplots(figsize=(15, 15), ncols=1, nrows=2)\n",
    "sns.barplot(x=\"StayGroup\", y=\"Value\", hue=\"Attrition\", data=df_stay_melted, ax=ax1)\n",
    "ax1.set_title(\"Attrition by Stay Group\", fontsize=16)\n",
    "ax1.set_xlabel(\"Stay Group\", fontsize=14)\n",
    "ax1.set_ylabel(\"Attrition Rate\", fontsize=14)\n",
    "\n",
    "sns.barplot(x=\"ExperienceGroup\", y=\"Value\", hue=\"Attrition\", data=df_experience_melted, ax=ax2)\n",
    "ax2.set_title(\"Attrition by Experience Group\", fontsize=16)\n",
    "ax2.set_xlabel(\"Experience Group\", fontsize=14)\n",
    "ax2.set_ylabel(\"Attrition Rate\", fontsize=14)\n",
    "plt.show()"
   ],
   "id": "b6346d8147b99f61",
   "outputs": [
    {
     "data": {
      "text/plain": [
       "<Figure size 1500x1500 with 2 Axes>"
      ],
      "image/png": "[encoded data removed]"
     },
     "metadata": {},
     "output_type": "display_data"
    }
   ],
   "execution_count": 63
  },
  {
   "metadata": {
    "ExecuteTime": {
     "end_time": "2024-11-25T11:54:47.977844Z",
     "start_time": "2024-11-25T11:54:47.656567Z"
    }
   },
   "cell_type": "code",
   "source": [
    "# Count of experience group and attrition\n",
    "df_experience_ratio = df_experience_grouped.copy()\n",
    "df_experience_ratio[\"Total\"] = df_experience_ratio[\"Attrition_0\"] + df_experience_ratio[\"Attrition_1\"]\n",
    "df_experience_ratio[\"Attrition_Ratio\"] = df_experience_ratio[\"Attrition_1\"] / df_experience_ratio[\"Total\"]\n",
    "\n",
    "# Count of stay and attrition\n",
    "df_stay_ratio = df_stay_grouped.copy()\n",
    "df_stay_ratio[\"Total\"] = df_stay_ratio[\"Attrition_0\"] + df_stay_ratio[\"Attrition_1\"]\n",
    "df_stay_ratio[\"Attrition_Ratio\"] = df_stay_ratio[\"Attrition_1\"] / df_stay_ratio[\"Total\"]\n",
    "\n",
    "\n",
    "\n",
    "# Visualisasi ratio attrition\n",
    "experience_labels = df_experience_ratio[\"ExperienceGroup\"]\n",
    "stay_labels = df_stay_ratio[\"StayGroup\"]\n",
    "experience_ratios = df_experience_ratio[\"Attrition_Ratio\"]\n",
    "stay_ratios = df_stay_ratio[\"Attrition_Ratio\"]\n",
    "\n",
    "# Pie chart\n",
    "fig, (ax1, ax2) = plt.subplots(figsize=(15, 15), ncols=2, nrows=1)\n",
    "ax1.pie(stay_ratios, labels=stay_labels, autopct='%1.1f%%', startangle=90, colors=[\"lightblue\", \"lightblue\", \"salmon\"])\n",
    "ax1.set_title(\"Attrition Ratio by Stay Group\", fontsize=16)\n",
    "\n",
    "ax2.pie(experience_ratios, labels=experience_labels, autopct='%1.1f%%', startangle=90, colors=[ \"salmon\", \"lightblue\", \"lightblue\", \"lightblue\"])\n",
    "ax2.set_title(\"Attrition Ratio by Experience Group\", fontsize=16)\n",
    "plt.show()"
   ],
   "id": "b7450f005bcc0278",
   "outputs": [
    {
     "data": {
      "text/plain": [
       "<Figure size 1500x1500 with 2 Axes>"
      ],
      "image/png": "[encoded data removed]"
     },
     "metadata": {},
     "output_type": "display_data"
    }
   ],
   "execution_count": 64
  },
  {
   "metadata": {},
   "cell_type": "markdown",
   "source": [
    "#### Insight\n",
    "The data indicates that employees with short stay(tenure less than 5 years) and fresh graduates(experience less than 1 year) are more likely to leave (experience attrition) compared to other groups.\n",
    "- to explain stay group:\n",
    "1. Short Stay less than 5 years\n",
    "2. Medium Stay less than 10 years\n",
    "3. Long Stay more than 10 years\n",
    "\n",
    "- to explain experience group:\n",
    "1. Fresh Graduate has experiencing less than 1 year\n",
    "2. Junior Employee has experiencing less than 3 years\n",
    "3. Mid-level Employee has experiencing less than 5 years\n",
    "4. Senior Employee has experiencing more than 5 years\n"
   ],
   "id": "62a0f00299829333"
  },
  {
   "metadata": {},
   "cell_type": "markdown",
   "source": "## Bagaimana tingkat attrition bervariasi berdasarkan kenaikan gaji",
   "id": "e0edca0ca954c28b"
  },
  {
   "metadata": {
    "ExecuteTime": {
     "end_time": "2024-11-25T11:54:48.072845Z",
     "start_time": "2024-11-25T11:54:48.057538Z"
    }
   },
   "cell_type": "code",
   "source": "df_pre[\"PercentSalaryHike\"].describe()",
   "id": "96ef59028abde0cd",
   "outputs": [
    {
     "data": {
      "text/plain": [
       "count    1470.000000\n",
       "mean       15.209524\n",
       "std         3.659938\n",
       "min        11.000000\n",
       "25%        12.000000\n",
       "50%        14.000000\n",
       "75%        18.000000\n",
       "max        25.000000\n",
       "Name: PercentSalaryHike, dtype: float64"
      ]
     },
     "execution_count": 65,
     "metadata": {},
     "output_type": "execute_result"
    }
   ],
   "execution_count": 65
  },
  {
   "metadata": {
    "ExecuteTime": {
     "end_time": "2024-11-25T11:54:48.426568Z",
     "start_time": "2024-11-25T11:54:48.147406Z"
    }
   },
   "cell_type": "code",
   "source": "df_pre[\"PercentSalaryHike\"].hist(bins=10)",
   "id": "9d06a3309ea5cf40",
   "outputs": [
    {
     "data": {
      "text/plain": [
       "<Axes: >"
      ]
     },
     "execution_count": 66,
     "metadata": {},
     "output_type": "execute_result"
    },
    {
     "data": {
      "text/plain": [
       "<Figure size 640x480 with 1 Axes>"
      ],
      "image/png": "[encoded data removed]"
     },
     "metadata": {},
     "output_type": "display_data"
    }
   ],
   "execution_count": 66
  },
  {
   "metadata": {
    "ExecuteTime": {
     "end_time": "2024-11-25T11:54:48.533421Z",
     "start_time": "2024-11-25T11:54:48.514725Z"
    }
   },
   "cell_type": "code",
   "source": "df_pre.info()",
   "id": "21905e697bf07688",
   "outputs": [
    {
     "name": "stdout",
     "output_type": "stream",
     "text": [
      "<class 'pandas.core.frame.DataFrame'>\n",
      "RangeIndex: 1470 entries, 0 to 1469\n",
      "Data columns (total 36 columns):\n",
      " #   Column                    Non-Null Count  Dtype  \n",
      "---  ------                    --------------  -----  \n",
      " 0   EmployeeId                1470 non-null   object \n",
      " 1   Age                       1470 non-null   int64  \n",
      " 2   Attrition                 1470 non-null   float64\n",
      " 3   BusinessTravel            1470 non-null   int8   \n",
      " 4   DailyRate                 1470 non-null   int64  \n",
      " 5   Department                1470 non-null   int8   \n",
      " 6   DistanceFromHome          1470 non-null   int64  \n",
      " 7   Education                 1470 non-null   int64  \n",
      " 8   EducationField            1470 non-null   int8   \n",
      " 9   EnvironmentSatisfaction   1470 non-null   int64  \n",
      " 10  Gender                    1470 non-null   int8   \n",
      " 11  HourlyRate                1470 non-null   int64  \n",
      " 12  JobInvolvement            1470 non-null   int64  \n",
      " 13  JobLevel                  1470 non-null   int64  \n",
      " 14  JobRole                   1470 non-null   int8   \n",
      " 15  JobSatisfaction           1470 non-null   int64  \n",
      " 16  MaritalStatus             1470 non-null   int8   \n",
      " 17  MonthlyIncome             1470 non-null   int64  \n",
      " 18  MonthlyRate               1470 non-null   int64  \n",
      " 19  NumCompaniesWorked        1470 non-null   int64  \n",
      " 20  OverTime                  1470 non-null   int8   \n",
      " 21  PercentSalaryHike         1470 non-null   int64  \n",
      " 22  PerformanceRating         1470 non-null   int64  \n",
      " 23  RelationshipSatisfaction  1470 non-null   int64  \n",
      " 24  StockOptionLevel          1470 non-null   int64  \n",
      " 25  TotalWorkingYears         1470 non-null   int64  \n",
      " 26  TrainingTimesLastYear     1470 non-null   int64  \n",
      " 27  WorkLifeBalance           1470 non-null   int64  \n",
      " 28  YearsAtCompany            1470 non-null   int64  \n",
      " 29  YearsInCurrentRole        1470 non-null   int64  \n",
      " 30  YearsSinceLastPromotion   1470 non-null   int64  \n",
      " 31  YearsWithCurrManager      1470 non-null   int64  \n",
      " 32  AgeGroup                  1470 non-null   object \n",
      " 33  SalaryGroup               1470 non-null   object \n",
      " 34  StayGroup                 1470 non-null   object \n",
      " 35  ExperienceGroup           1470 non-null   object \n",
      "dtypes: float64(1), int64(23), int8(7), object(5)\n",
      "memory usage: 343.2+ KB\n"
     ]
    }
   ],
   "execution_count": 67
  },
  {
   "metadata": {
    "ExecuteTime": {
     "end_time": "2024-11-25T11:55:28.785607Z",
     "start_time": "2024-11-25T11:55:28.618967Z"
    }
   },
   "cell_type": "code",
   "source": "df_pre.head()",
   "id": "40da76c0b7b76253",
   "outputs": [
    {
     "data": {
      "text/plain": [
       "  EmployeeId  Age  Attrition  BusinessTravel  DailyRate  Department  \\\n",
       "0          1   38        0.0               1       1444           0   \n",
       "1          2   37        1.0               2       1141           1   \n",
       "2          3   51        1.0               2       1323           1   \n",
       "3          4   42        0.0               1        555           2   \n",
       "4          5   40        0.0               2       1194           1   \n",
       "\n",
       "   DistanceFromHome  Education  EducationField  EnvironmentSatisfaction  ...  \\\n",
       "0                 1          4               4                        4  ...   \n",
       "1                11          2               3                        1  ...   \n",
       "2                 4          4               1                        1  ...   \n",
       "3                26          3               2                        3  ...   \n",
       "4                 2          4               3                        3  ...   \n",
       "\n",
       "   TrainingTimesLastYear  WorkLifeBalance  YearsAtCompany  YearsInCurrentRole  \\\n",
       "0                      2                3               6                   2   \n",
       "1                      2                1               1                   0   \n",
       "2                      2                4              10                   0   \n",
       "3                      2                4              20                   4   \n",
       "4                      2                3               5                   3   \n",
       "\n",
       "   YearsSinceLastPromotion  YearsWithCurrManager            AgeGroup  \\\n",
       "0                        1                     2          Middle Age   \n",
       "1                        0                     0          Middle Age   \n",
       "2                        2                     7  Pre-retirement Age   \n",
       "3                        4                     8          Middle Age   \n",
       "4                        0                     2          Middle Age   \n",
       "\n",
       "     SalaryGroup    StayGroup  ExperienceGroup  \n",
       "0     Low Salary  Medium Stay  Senior Employee  \n",
       "1     Low Salary   Short Stay  Senior Employee  \n",
       "2     Low Salary  Medium Stay  Senior Employee  \n",
       "3  Medium Salary    Long Stay  Senior Employee  \n",
       "4     Low Salary   Short Stay  Senior Employee  \n",
       "\n",
       "[5 rows x 36 columns]"
      ],
      "text/html": [
       "<div>\n",
       "<style scoped>\n",
       "    .dataframe tbody tr th:only-of-type {\n",
       "        vertical-align: middle;\n",
       "    }\n",
       "\n",
       "    .dataframe tbody tr th {\n",
       "        vertical-align: top;\n",
       "    }\n",
       "\n",
       "    .dataframe thead th {\n",
       "        text-align: right;\n",
       "    }\n",
       "</style>\n",
       "<table border=\"1\" class=\"dataframe\">\n",
       "  <thead>\n",
       "    <tr style=\"text-align: right;\">\n",
       "      <th></th>\n",
       "      <th>EmployeeId</th>\n",
       "      <th>Age</th>\n",
       "      <th>Attrition</th>\n",
       "      <th>BusinessTravel</th>\n",
       "      <th>DailyRate</th>\n",
       "      <th>Department</th>\n",
       "      <th>DistanceFromHome</th>\n",
       "      <th>Education</th>\n",
       "      <th>EducationField</th>\n",
       "      <th>EnvironmentSatisfaction</th>\n",
       "      <th>...</th>\n",
       "      <th>TrainingTimesLastYear</th>\n",
       "      <th>WorkLifeBalance</th>\n",
       "      <th>YearsAtCompany</th>\n",
       "      <th>YearsInCurrentRole</th>\n",
       "      <th>YearsSinceLastPromotion</th>\n",
       "      <th>YearsWithCurrManager</th>\n",
       "      <th>AgeGroup</th>\n",
       "      <th>SalaryGroup</th>\n",
       "      <th>StayGroup</th>\n",
       "      <th>ExperienceGroup</th>\n",
       "    </tr>\n",
       "  </thead>\n",
       "  <tbody>\n",
       "    <tr>\n",
       "      <th>0</th>\n",
       "      <td>1</td>\n",
       "      <td>38</td>\n",
       "      <td>0.0</td>\n",
       "      <td>1</td>\n",
       "      <td>1444</td>\n",
       "      <td>0</td>\n",
       "      <td>1</td>\n",
       "      <td>4</td>\n",
       "      <td>4</td>\n",
       "      <td>4</td>\n",
       "      <td>...</td>\n",
       "      <td>2</td>\n",
       "      <td>3</td>\n",
       "      <td>6</td>\n",
       "      <td>2</td>\n",
       "      <td>1</td>\n",
       "      <td>2</td>\n",
       "      <td>Middle Age</td>\n",
       "      <td>Low Salary</td>\n",
       "      <td>Medium Stay</td>\n",
       "      <td>Senior Employee</td>\n",
       "    </tr>\n",
       "    <tr>\n",
       "      <th>1</th>\n",
       "      <td>2</td>\n",
       "      <td>37</td>\n",
       "      <td>1.0</td>\n",
       "      <td>2</td>\n",
       "      <td>1141</td>\n",
       "      <td>1</td>\n",
       "      <td>11</td>\n",
       "      <td>2</td>\n",
       "      <td>3</td>\n",
       "      <td>1</td>\n",
       "      <td>...</td>\n",
       "      <td>2</td>\n",
       "      <td>1</td>\n",
       "      <td>1</td>\n",
       "      <td>0</td>\n",
       "      <td>0</td>\n",
       "      <td>0</td>\n",
       "      <td>Middle Age</td>\n",
       "      <td>Low Salary</td>\n",
       "      <td>Short Stay</td>\n",
       "      <td>Senior Employee</td>\n",
       "    </tr>\n",
       "    <tr>\n",
       "      <th>2</th>\n",
       "      <td>3</td>\n",
       "      <td>51</td>\n",
       "      <td>1.0</td>\n",
       "      <td>2</td>\n",
       "      <td>1323</td>\n",
       "      <td>1</td>\n",
       "      <td>4</td>\n",
       "      <td>4</td>\n",
       "      <td>1</td>\n",
       "      <td>1</td>\n",
       "      <td>...</td>\n",
       "      <td>2</td>\n",
       "      <td>4</td>\n",
       "      <td>10</td>\n",
       "      <td>0</td>\n",
       "      <td>2</td>\n",
       "      <td>7</td>\n",
       "      <td>Pre-retirement Age</td>\n",
       "      <td>Low Salary</td>\n",
       "      <td>Medium Stay</td>\n",
       "      <td>Senior Employee</td>\n",
       "    </tr>\n",
       "    <tr>\n",
       "      <th>3</th>\n",
       "      <td>4</td>\n",
       "      <td>42</td>\n",
       "      <td>0.0</td>\n",
       "      <td>1</td>\n",
       "      <td>555</td>\n",
       "      <td>2</td>\n",
       "      <td>26</td>\n",
       "      <td>3</td>\n",
       "      <td>2</td>\n",
       "      <td>3</td>\n",
       "      <td>...</td>\n",
       "      <td>2</td>\n",
       "      <td>4</td>\n",
       "      <td>20</td>\n",
       "      <td>4</td>\n",
       "      <td>4</td>\n",
       "      <td>8</td>\n",
       "      <td>Middle Age</td>\n",
       "      <td>Medium Salary</td>\n",
       "      <td>Long Stay</td>\n",
       "      <td>Senior Employee</td>\n",
       "    </tr>\n",
       "    <tr>\n",
       "      <th>4</th>\n",
       "      <td>5</td>\n",
       "      <td>40</td>\n",
       "      <td>0.0</td>\n",
       "      <td>2</td>\n",
       "      <td>1194</td>\n",
       "      <td>1</td>\n",
       "      <td>2</td>\n",
       "      <td>4</td>\n",
       "      <td>3</td>\n",
       "      <td>3</td>\n",
       "      <td>...</td>\n",
       "      <td>2</td>\n",
       "      <td>3</td>\n",
       "      <td>5</td>\n",
       "      <td>3</td>\n",
       "      <td>0</td>\n",
       "      <td>2</td>\n",
       "      <td>Middle Age</td>\n",
       "      <td>Low Salary</td>\n",
       "      <td>Short Stay</td>\n",
       "      <td>Senior Employee</td>\n",
       "    </tr>\n",
       "  </tbody>\n",
       "</table>\n",
       "<p>5 rows × 36 columns</p>\n",
       "</div>"
      ]
     },
     "execution_count": 70,
     "metadata": {},
     "output_type": "execute_result"
    }
   ],
   "execution_count": 70
  },
  {
   "metadata": {
    "ExecuteTime": {
     "end_time": "2024-11-26T06:52:01.829014Z",
     "start_time": "2024-11-26T06:52:01.761359Z"
    }
   },
   "cell_type": "code",
   "source": [
    "df_pre[\"SalaryHike\"] = df_pre[\"MonthlyIncome\"] * (df_pre[\"PercentSalaryHike\"] / 100)\n",
    "df_pre[[\"EmployeeId\", \"Attrition\", \"SalaryHike\"]]"
   ],
   "id": "cd1680a590394faa",
   "outputs": [
    {
     "data": {
      "text/plain": [
       "     EmployeeId  Attrition  SalaryHike\n",
       "0             1        0.0      329.01\n",
       "1             2        1.0      716.55\n",
       "2             3        1.0      295.32\n",
       "3             4        0.0     1893.50\n",
       "4             5        0.0      280.14\n",
       "...         ...        ...         ...\n",
       "1465       1466        0.0     1100.54\n",
       "1466       1467        0.0     1990.35\n",
       "1467       1468        1.0      276.65\n",
       "1468       1469        0.0      567.04\n",
       "1469       1470        1.0      488.25\n",
       "\n",
       "[1470 rows x 3 columns]"
      ],
      "text/html": [
       "<div>\n",
       "<style scoped>\n",
       "    .dataframe tbody tr th:only-of-type {\n",
       "        vertical-align: middle;\n",
       "    }\n",
       "\n",
       "    .dataframe tbody tr th {\n",
       "        vertical-align: top;\n",
       "    }\n",
       "\n",
       "    .dataframe thead th {\n",
       "        text-align: right;\n",
       "    }\n",
       "</style>\n",
       "<table border=\"1\" class=\"dataframe\">\n",
       "  <thead>\n",
       "    <tr style=\"text-align: right;\">\n",
       "      <th></th>\n",
       "      <th>EmployeeId</th>\n",
       "      <th>Attrition</th>\n",
       "      <th>SalaryHike</th>\n",
       "    </tr>\n",
       "  </thead>\n",
       "  <tbody>\n",
       "    <tr>\n",
       "      <th>0</th>\n",
       "      <td>1</td>\n",
       "      <td>0.0</td>\n",
       "      <td>329.01</td>\n",
       "    </tr>\n",
       "    <tr>\n",
       "      <th>1</th>\n",
       "      <td>2</td>\n",
       "      <td>1.0</td>\n",
       "      <td>716.55</td>\n",
       "    </tr>\n",
       "    <tr>\n",
       "      <th>2</th>\n",
       "      <td>3</td>\n",
       "      <td>1.0</td>\n",
       "      <td>295.32</td>\n",
       "    </tr>\n",
       "    <tr>\n",
       "      <th>3</th>\n",
       "      <td>4</td>\n",
       "      <td>0.0</td>\n",
       "      <td>1893.50</td>\n",
       "    </tr>\n",
       "    <tr>\n",
       "      <th>4</th>\n",
       "      <td>5</td>\n",
       "      <td>0.0</td>\n",
       "      <td>280.14</td>\n",
       "    </tr>\n",
       "    <tr>\n",
       "      <th>...</th>\n",
       "      <td>...</td>\n",
       "      <td>...</td>\n",
       "      <td>...</td>\n",
       "    </tr>\n",
       "    <tr>\n",
       "      <th>1465</th>\n",
       "      <td>1466</td>\n",
       "      <td>0.0</td>\n",
       "      <td>1100.54</td>\n",
       "    </tr>\n",
       "    <tr>\n",
       "      <th>1466</th>\n",
       "      <td>1467</td>\n",
       "      <td>0.0</td>\n",
       "      <td>1990.35</td>\n",
       "    </tr>\n",
       "    <tr>\n",
       "      <th>1467</th>\n",
       "      <td>1468</td>\n",
       "      <td>1.0</td>\n",
       "      <td>276.65</td>\n",
       "    </tr>\n",
       "    <tr>\n",
       "      <th>1468</th>\n",
       "      <td>1469</td>\n",
       "      <td>0.0</td>\n",
       "      <td>567.04</td>\n",
       "    </tr>\n",
       "    <tr>\n",
       "      <th>1469</th>\n",
       "      <td>1470</td>\n",
       "      <td>1.0</td>\n",
       "      <td>488.25</td>\n",
       "    </tr>\n",
       "  </tbody>\n",
       "</table>\n",
       "<p>1470 rows × 3 columns</p>\n",
       "</div>"
      ]
     },
     "execution_count": 114,
     "metadata": {},
     "output_type": "execute_result"
    }
   ],
   "execution_count": 114
  },
  {
   "metadata": {
    "ExecuteTime": {
     "end_time": "2024-11-26T06:52:06.382884Z",
     "start_time": "2024-11-26T06:52:06.335281Z"
    }
   },
   "cell_type": "code",
   "source": [
    "average_salary_growth = df_pre.groupby([\"Attrition\", \"SalaryGroup\"])[\"SalaryHike\"].mean().reset_index()\n",
    "average_salary_growth"
   ],
   "id": "c42e6c64403be6ee",
   "outputs": [
    {
     "data": {
      "text/plain": [
       "   Attrition    SalaryGroup   SalaryHike\n",
       "0        0.0    High Salary  2684.125196\n",
       "1        0.0     Low Salary   609.679488\n",
       "2        0.0  Medium Salary  1610.191297\n",
       "3        1.0    High Salary  2772.560968\n",
       "4        1.0     Low Salary   606.821707\n",
       "5        1.0  Medium Salary  1557.297527"
      ],
      "text/html": [
       "<div>\n",
       "<style scoped>\n",
       "    .dataframe tbody tr th:only-of-type {\n",
       "        vertical-align: middle;\n",
       "    }\n",
       "\n",
       "    .dataframe tbody tr th {\n",
       "        vertical-align: top;\n",
       "    }\n",
       "\n",
       "    .dataframe thead th {\n",
       "        text-align: right;\n",
       "    }\n",
       "</style>\n",
       "<table border=\"1\" class=\"dataframe\">\n",
       "  <thead>\n",
       "    <tr style=\"text-align: right;\">\n",
       "      <th></th>\n",
       "      <th>Attrition</th>\n",
       "      <th>SalaryGroup</th>\n",
       "      <th>SalaryHike</th>\n",
       "    </tr>\n",
       "  </thead>\n",
       "  <tbody>\n",
       "    <tr>\n",
       "      <th>0</th>\n",
       "      <td>0.0</td>\n",
       "      <td>High Salary</td>\n",
       "      <td>2684.125196</td>\n",
       "    </tr>\n",
       "    <tr>\n",
       "      <th>1</th>\n",
       "      <td>0.0</td>\n",
       "      <td>Low Salary</td>\n",
       "      <td>609.679488</td>\n",
       "    </tr>\n",
       "    <tr>\n",
       "      <th>2</th>\n",
       "      <td>0.0</td>\n",
       "      <td>Medium Salary</td>\n",
       "      <td>1610.191297</td>\n",
       "    </tr>\n",
       "    <tr>\n",
       "      <th>3</th>\n",
       "      <td>1.0</td>\n",
       "      <td>High Salary</td>\n",
       "      <td>2772.560968</td>\n",
       "    </tr>\n",
       "    <tr>\n",
       "      <th>4</th>\n",
       "      <td>1.0</td>\n",
       "      <td>Low Salary</td>\n",
       "      <td>606.821707</td>\n",
       "    </tr>\n",
       "    <tr>\n",
       "      <th>5</th>\n",
       "      <td>1.0</td>\n",
       "      <td>Medium Salary</td>\n",
       "      <td>1557.297527</td>\n",
       "    </tr>\n",
       "  </tbody>\n",
       "</table>\n",
       "</div>"
      ]
     },
     "execution_count": 115,
     "metadata": {},
     "output_type": "execute_result"
    }
   ],
   "execution_count": 115
  },
  {
   "metadata": {
    "ExecuteTime": {
     "end_time": "2024-11-26T06:52:16.722625Z",
     "start_time": "2024-11-26T06:52:16.215754Z"
    }
   },
   "cell_type": "code",
   "source": [
    "fig, ax = plt.subplots(figsize=(10, 10))\n",
    "sns.barplot(data=average_salary_growth, x=\"SalaryGroup\", y=\"SalaryHike\", hue=\"Attrition\", ax=ax)\n",
    "ax.set_title(\"Average Salary Growth\", fontsize=16)\n",
    "ax.set_xlabel(\"Attrition\", fontsize=14)\n",
    "ax.set_ylabel(\"Salary Growth\", fontsize=14)\n",
    "plt.show()"
   ],
   "id": "ed18d6e49dd53ba9",
   "outputs": [
    {
     "data": {
      "text/plain": [
       "<Figure size 1000x1000 with 1 Axes>"
      ],
      "image/png": "[encoded data removed]"
     },
     "metadata": {},
     "output_type": "display_data"
    }
   ],
   "execution_count": 116
  },
  {
   "metadata": {},
   "cell_type": "markdown",
   "source": [
    "#### Insight\n",
    "The data suggests that providing pay hikes alone may not be an effective strategy for reducing attrition"
   ],
   "id": "5becff24f96ef532"
  },
  {
   "metadata": {},
   "cell_type": "markdown",
   "source": "## Bagaimana tingkat attrition dipengaruhi oleh work life balance dan over time?",
   "id": "b65e2a51dc429b62"
  },
  {
   "metadata": {
    "ExecuteTime": {
     "end_time": "2024-11-26T07:36:16.361296Z",
     "start_time": "2024-11-26T07:36:16.312730Z"
    }
   },
   "cell_type": "code",
   "source": [
    "work_life_attrition = df_pre.groupby([\"WorkLifeBalance\", \"Attrition\"]).size().unstack().reset_index()\n",
    "work_life_attrition.replace({ \"WorkLifeBalance\": {\n",
    "    1 : \"Low\",\n",
    "    2 : \"Good\",\n",
    "    3 : \"Excellent\",\n",
    "    4 : \"Outstanding\"\n",
    "}}, inplace=True)\n",
    "\n",
    "# Distribusi Overtime\n",
    "overtime_attrition = df_pre.groupby([\"OverTime\", \"Attrition\"]).size().unstack().reset_index()\n",
    "overtime_attrition.replace({ \"OverTime\": {\n",
    "    0:\"No\",\n",
    "    1:\"Yes\"\n",
    "}}, inplace=True)\n"
   ],
   "id": "9f456db2598ac49e",
   "outputs": [],
   "execution_count": 150
  },
  {
   "metadata": {
    "ExecuteTime": {
     "end_time": "2024-11-26T07:39:46.455625Z",
     "start_time": "2024-11-26T07:39:46.413577Z"
    }
   },
   "cell_type": "code",
   "source": [
    "df_work_life_attrition_melt = work_life_attrition.melt(id_vars=\"WorkLifeBalance\",\n",
    "                                                       var_name=\"Attrition\",\n",
    "                                                       value_name=\"CountAttrition\")\n",
    "df_overtime_attrition_melt = overtime_attrition.melt(id_vars=\"OverTime\",\n",
    "                                                     var_name=\"Attrition\",\n",
    "                                                     value_name=\"CountAttrition\")"
   ],
   "id": "9bc3adb07b047eab",
   "outputs": [],
   "execution_count": 155
  },
  {
   "metadata": {
    "ExecuteTime": {
     "end_time": "2024-11-26T07:43:33.360489Z",
     "start_time": "2024-11-26T07:43:32.957340Z"
    }
   },
   "cell_type": "code",
   "source": [
    "fig, (ax1, ax2) = plt.subplots(figsize=(15, 10), ncols=2, nrows=1)\n",
    "sns.barplot(x=\"WorkLifeBalance\", y=\"CountAttrition\", hue=\"Attrition\", data=df_work_life_attrition_melt, ax=ax1)\n",
    "ax1.set_title(\"Work Life Balance\", fontsize=16)\n",
    "ax1.set_xlabel(\"Work Life Balance\", fontsize=14)\n",
    "ax1.set_ylabel(\"Attrition\", fontsize=14)\n",
    "\n",
    "sns.barplot(x=\"OverTime\", y=\"CountAttrition\", hue=\"Attrition\", data=df_overtime_attrition_melt, ax=ax2)\n",
    "ax2.set_title(\"Overtime\", fontsize=16)\n",
    "ax2.set_xlabel(\"Overtime Attrition\", fontsize=14)\n",
    "ax2.set_ylabel(\"Attrition\", fontsize=14)\n",
    "plt.show()\n"
   ],
   "id": "e5b7401cfda69d63",
   "outputs": [
    {
     "data": {
      "text/plain": [
       "<Figure size 1500x1000 with 2 Axes>"
      ],
      "image/png": "[encoded data removed]"
     },
     "metadata": {},
     "output_type": "display_data"
    }
   ],
   "execution_count": 160
  },
  {
   "metadata": {
    "ExecuteTime": {
     "end_time": "2024-11-26T07:55:06.298211Z",
     "start_time": "2024-11-26T07:55:04.247054Z"
    }
   },
   "cell_type": "code",
   "source": [
    "# count of work life balance and attrition base on work life balance\n",
    "df_work_life_ratio = work_life_attrition.copy()\n",
    "df_work_life_ratio[\"Total\"] = df_work_life_ratio[0] + df_work_life_ratio[1]\n",
    "df_work_life_ratio[\"Attrition_Ratio\"] = df_work_life_ratio[\"Total\"] / df_work_life_ratio[1]\n",
    "\n",
    "# count of overtime and attrition base on overtime\n",
    "df_overtime_ratio = overtime_attrition.copy()\n",
    "df_overtime_ratio[\"Total\"] = df_overtime_ratio[0] + df_overtime_ratio[1]\n",
    "df_overtime_ratio[\"Attrition_Ratio\"] = df_overtime_ratio[\"Total\"] / df_overtime_ratio[1]\n",
    "\n",
    "# Visualize\n",
    "work_life_labels = df_work_life_ratio[\"WorkLifeBalance\"]\n",
    "overtime_labels = df_overtime_ratio[\"OverTime\"]\n",
    "work_life_ratios = df_work_life_ratio[\"Attrition_Ratio\"]\n",
    "overtime_ratios = df_overtime_ratio[\"Attrition_Ratio\"]\n",
    "\n",
    "fig, (ax1, ax2) = plt.subplots(figsize=(15, 10), ncols=2, nrows=1)\n",
    "ax1.pie(work_life_ratios, labels=work_life_labels, autopct='%1.1f%%', startangle=90, colors=[\"lightblue\", \"lightblue\", \"salmon\"])\n",
    "ax1.set_title(\"Attrition Ratio by Work Life Balance\", fontsize=16)\n",
    "\n",
    "ax2.pie(overtime_ratios, labels=overtime_labels, autopct='%1.1f%%', startangle=90, colors=[ \"salmon\", \"lightblue\"])\n",
    "ax2.set_title(\"Attrition Ratio by Over Time\", fontsize=16)\n",
    "plt.show()\n"
   ],
   "id": "f044bcd237be04e6",
   "outputs": [
    {
     "data": {
      "text/plain": [
       "<Figure size 1500x1000 with 2 Axes>"
      ],
      "image/png": "[encoded data removed]"
     },
     "metadata": {},
     "output_type": "display_data"
    }
   ],
   "execution_count": 168
  },
  {
   "metadata": {},
   "cell_type": "markdown",
   "source": [
    "#### Insight\n",
    "The data indicates that employees with an excellent work-life balance who do not work overtime are more likely to leave compared to other groups."
   ],
   "id": "557c30eb6ae6e71e"
  },
  {
   "metadata": {},
   "cell_type": "markdown",
   "source": "# Data preprocessing",
   "id": "eec3c94a5eb07530"
  },
  {
   "metadata": {},
   "cell_type": "code",
   "outputs": [],
   "execution_count": null,
   "source": "",
   "id": "c78f2d5cfc578dbb"
  },
  {
   "metadata": {},
   "cell_type": "code",
   "source": [
    "data_corr = df_pre.corr(numeric_only=True)\n",
    "\n",
    "fig, ax = plt.subplots(figsize=(25, 20))\n",
    "sns.heatmap(data_corr, annot=True, cmap=\"coolwarm\")\n",
    "plt.show()"
   ],
   "id": "d0bf55877b62c8d4",
   "outputs": [],
   "execution_count": null
  },
  {
   "metadata": {},
   "cell_type": "code",
   "source": "",
   "id": "1735997b92f18215",
   "outputs": [],
   "execution_count": null
  },
  {
   "metadata": {},
   "cell_type": "markdown",
   "source": "# Modeling",
   "id": "523592ccf8479c55"
  },
  {
   "metadata": {},
   "cell_type": "code",
   "source": "",
   "id": "d462332b961452dc",
   "outputs": [],
   "execution_count": null
  },
  {
   "metadata": {},
   "cell_type": "markdown",
   "source": "# Evalution",
   "id": "db12113175c25654"
  },
  {
   "metadata": {},
   "cell_type": "code",
   "source": "",
   "id": "38e0d0a0b162a693",
   "outputs": [],
   "execution_count": null
  }
 ],
 "metadata": {
  "kernelspec": {
   "display_name": "Python 3",
   "language": "python",
   "name": "python3"
  },
  "language_info": {
   "codemirror_mode": {
    "name": "ipython",
    "version": 2
   },
   "file_extension": ".py",
   "mimetype": "text/x-python",
   "name": "python",
   "nbconvert_exporter": "python",
   "pygments_lexer": "ipython2",
   "version": "2.7.6"
  }
 },
 "nbformat": 4,
 "nbformat_minor": 5
}
