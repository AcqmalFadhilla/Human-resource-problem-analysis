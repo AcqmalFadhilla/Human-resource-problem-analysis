{
 "cells": [
  {
   "cell_type": "code",
   "id": "initial_id",
   "metadata": {
    "collapsed": true,
    "ExecuteTime": {
     "end_time": "2024-11-23T08:15:12.547008Z",
     "start_time": "2024-11-23T08:15:11.534957Z"
    }
   },
   "source": [
    "import pandas as pd\n",
    "import numpy as np\n",
    "import matplotlib.pyplot as plt\n",
    "import seaborn as sns\n",
    "import urllib\n",
    "from sklearn.neighbors import  KNeighborsClassifier\n",
    "from sklearn.model_selection import cross_val_score\n",
    "from sklearn.ensemble import RandomForestClassifier\n",
    "from sklearn.preprocessing import  StandardScaler\n",
    "from wandb import sklearn"
   ],
   "outputs": [],
   "execution_count": 1
  },
  {
   "metadata": {},
   "cell_type": "markdown",
   "source": "# Data understanding",
   "id": "688a52c5fc7495c5"
  },
  {
   "metadata": {},
   "cell_type": "markdown",
   "source": "## Gathering data",
   "id": "699cf0af76277c78"
  },
  {
   "metadata": {
    "ExecuteTime": {
     "end_time": "2024-11-23T08:15:16.247269Z",
     "start_time": "2024-11-23T08:15:12.567541Z"
    }
   },
   "cell_type": "code",
   "source": [
    "url = \"https://github.com/dicodingacademy/dicoding_dataset/blob/main/employee/employee_data.csv?raw=true\"\n",
    "df = pd.read_csv(url)\n",
    "df.head()"
   ],
   "id": "83e4625f4fdd56da",
   "outputs": [
    {
     "data": {
      "text/plain": [
       "   EmployeeId  Age  Attrition     BusinessTravel  DailyRate  \\\n",
       "0           1   38        NaN  Travel_Frequently       1444   \n",
       "1           2   37        1.0      Travel_Rarely       1141   \n",
       "2           3   51        1.0      Travel_Rarely       1323   \n",
       "3           4   42        0.0  Travel_Frequently        555   \n",
       "4           5   40        NaN      Travel_Rarely       1194   \n",
       "\n",
       "               Department  DistanceFromHome  Education EducationField  \\\n",
       "0         Human Resources                 1          4          Other   \n",
       "1  Research & Development                11          2        Medical   \n",
       "2  Research & Development                 4          4  Life Sciences   \n",
       "3                   Sales                26          3      Marketing   \n",
       "4  Research & Development                 2          4        Medical   \n",
       "\n",
       "   EmployeeCount  ...  RelationshipSatisfaction StandardHours  \\\n",
       "0              1  ...                         2            80   \n",
       "1              1  ...                         1            80   \n",
       "2              1  ...                         3            80   \n",
       "3              1  ...                         4            80   \n",
       "4              1  ...                         2            80   \n",
       "\n",
       "   StockOptionLevel  TotalWorkingYears  TrainingTimesLastYear WorkLifeBalance  \\\n",
       "0                 1                  7                      2               3   \n",
       "1                 0                 15                      2               1   \n",
       "2                 3                 18                      2               4   \n",
       "3                 1                 23                      2               4   \n",
       "4                 3                 20                      2               3   \n",
       "\n",
       "   YearsAtCompany YearsInCurrentRole  YearsSinceLastPromotion  \\\n",
       "0               6                  2                        1   \n",
       "1               1                  0                        0   \n",
       "2              10                  0                        2   \n",
       "3              20                  4                        4   \n",
       "4               5                  3                        0   \n",
       "\n",
       "   YearsWithCurrManager  \n",
       "0                     2  \n",
       "1                     0  \n",
       "2                     7  \n",
       "3                     8  \n",
       "4                     2  \n",
       "\n",
       "[5 rows x 35 columns]"
      ],
      "text/html": [
       "<div>\n",
       "<style scoped>\n",
       "    .dataframe tbody tr th:only-of-type {\n",
       "        vertical-align: middle;\n",
       "    }\n",
       "\n",
       "    .dataframe tbody tr th {\n",
       "        vertical-align: top;\n",
       "    }\n",
       "\n",
       "    .dataframe thead th {\n",
       "        text-align: right;\n",
       "    }\n",
       "</style>\n",
       "<table border=\"1\" class=\"dataframe\">\n",
       "  <thead>\n",
       "    <tr style=\"text-align: right;\">\n",
       "      <th></th>\n",
       "      <th>EmployeeId</th>\n",
       "      <th>Age</th>\n",
       "      <th>Attrition</th>\n",
       "      <th>BusinessTravel</th>\n",
       "      <th>DailyRate</th>\n",
       "      <th>Department</th>\n",
       "      <th>DistanceFromHome</th>\n",
       "      <th>Education</th>\n",
       "      <th>EducationField</th>\n",
       "      <th>EmployeeCount</th>\n",
       "      <th>...</th>\n",
       "      <th>RelationshipSatisfaction</th>\n",
       "      <th>StandardHours</th>\n",
       "      <th>StockOptionLevel</th>\n",
       "      <th>TotalWorkingYears</th>\n",
       "      <th>TrainingTimesLastYear</th>\n",
       "      <th>WorkLifeBalance</th>\n",
       "      <th>YearsAtCompany</th>\n",
       "      <th>YearsInCurrentRole</th>\n",
       "      <th>YearsSinceLastPromotion</th>\n",
       "      <th>YearsWithCurrManager</th>\n",
       "    </tr>\n",
       "  </thead>\n",
       "  <tbody>\n",
       "    <tr>\n",
       "      <th>0</th>\n",
       "      <td>1</td>\n",
       "      <td>38</td>\n",
       "      <td>NaN</td>\n",
       "      <td>Travel_Frequently</td>\n",
       "      <td>1444</td>\n",
       "      <td>Human Resources</td>\n",
       "      <td>1</td>\n",
       "      <td>4</td>\n",
       "      <td>Other</td>\n",
       "      <td>1</td>\n",
       "      <td>...</td>\n",
       "      <td>2</td>\n",
       "      <td>80</td>\n",
       "      <td>1</td>\n",
       "      <td>7</td>\n",
       "      <td>2</td>\n",
       "      <td>3</td>\n",
       "      <td>6</td>\n",
       "      <td>2</td>\n",
       "      <td>1</td>\n",
       "      <td>2</td>\n",
       "    </tr>\n",
       "    <tr>\n",
       "      <th>1</th>\n",
       "      <td>2</td>\n",
       "      <td>37</td>\n",
       "      <td>1.0</td>\n",
       "      <td>Travel_Rarely</td>\n",
       "      <td>1141</td>\n",
       "      <td>Research &amp; Development</td>\n",
       "      <td>11</td>\n",
       "      <td>2</td>\n",
       "      <td>Medical</td>\n",
       "      <td>1</td>\n",
       "      <td>...</td>\n",
       "      <td>1</td>\n",
       "      <td>80</td>\n",
       "      <td>0</td>\n",
       "      <td>15</td>\n",
       "      <td>2</td>\n",
       "      <td>1</td>\n",
       "      <td>1</td>\n",
       "      <td>0</td>\n",
       "      <td>0</td>\n",
       "      <td>0</td>\n",
       "    </tr>\n",
       "    <tr>\n",
       "      <th>2</th>\n",
       "      <td>3</td>\n",
       "      <td>51</td>\n",
       "      <td>1.0</td>\n",
       "      <td>Travel_Rarely</td>\n",
       "      <td>1323</td>\n",
       "      <td>Research &amp; Development</td>\n",
       "      <td>4</td>\n",
       "      <td>4</td>\n",
       "      <td>Life Sciences</td>\n",
       "      <td>1</td>\n",
       "      <td>...</td>\n",
       "      <td>3</td>\n",
       "      <td>80</td>\n",
       "      <td>3</td>\n",
       "      <td>18</td>\n",
       "      <td>2</td>\n",
       "      <td>4</td>\n",
       "      <td>10</td>\n",
       "      <td>0</td>\n",
       "      <td>2</td>\n",
       "      <td>7</td>\n",
       "    </tr>\n",
       "    <tr>\n",
       "      <th>3</th>\n",
       "      <td>4</td>\n",
       "      <td>42</td>\n",
       "      <td>0.0</td>\n",
       "      <td>Travel_Frequently</td>\n",
       "      <td>555</td>\n",
       "      <td>Sales</td>\n",
       "      <td>26</td>\n",
       "      <td>3</td>\n",
       "      <td>Marketing</td>\n",
       "      <td>1</td>\n",
       "      <td>...</td>\n",
       "      <td>4</td>\n",
       "      <td>80</td>\n",
       "      <td>1</td>\n",
       "      <td>23</td>\n",
       "      <td>2</td>\n",
       "      <td>4</td>\n",
       "      <td>20</td>\n",
       "      <td>4</td>\n",
       "      <td>4</td>\n",
       "      <td>8</td>\n",
       "    </tr>\n",
       "    <tr>\n",
       "      <th>4</th>\n",
       "      <td>5</td>\n",
       "      <td>40</td>\n",
       "      <td>NaN</td>\n",
       "      <td>Travel_Rarely</td>\n",
       "      <td>1194</td>\n",
       "      <td>Research &amp; Development</td>\n",
       "      <td>2</td>\n",
       "      <td>4</td>\n",
       "      <td>Medical</td>\n",
       "      <td>1</td>\n",
       "      <td>...</td>\n",
       "      <td>2</td>\n",
       "      <td>80</td>\n",
       "      <td>3</td>\n",
       "      <td>20</td>\n",
       "      <td>2</td>\n",
       "      <td>3</td>\n",
       "      <td>5</td>\n",
       "      <td>3</td>\n",
       "      <td>0</td>\n",
       "      <td>2</td>\n",
       "    </tr>\n",
       "  </tbody>\n",
       "</table>\n",
       "<p>5 rows × 35 columns</p>\n",
       "</div>"
      ]
     },
     "execution_count": 2,
     "metadata": {},
     "output_type": "execute_result"
    }
   ],
   "execution_count": 2
  },
  {
   "metadata": {},
   "cell_type": "markdown",
   "source": [
    "#### Insight data\n",
    "\n",
    "is got 34 columns as follows:\n",
    "\n",
    "* **EmployeeId** - Employee Identifier\n",
    "* **Attrition** - Did the employee attrition? (0=no, 1=yes)\n",
    "* **Age** - Age of the employee\n",
    "* **BusinessTravel** - Travel commitments for the job\n",
    "* **DailyRate** - Daily salary\n",
    "* **Department** - Employee Department\n",
    "* **DistanceFromHome** - Distance from work to home (in km)\n",
    "* **Education** - 1-Below College, 2-College, 3-Bachelor, 4-Master,5-Doctor\n",
    "* **EducationField** - Field of Education\n",
    "* **EnvironmentSatisfaction** - 1-Low, 2-Medium, 3-High, 4-Very High\n",
    "* **Gender** - Employee's gender\n",
    "* **HourlyRate** - Hourly salary\n",
    "* **JobInvolvement** - 1-Low, 2-Medium, 3-High, 4-Very High\n",
    "* **JobLevel** - Level of job (1 to 5)\n",
    "* **JobRole** - Job Roles\n",
    "* **JobSatisfaction** - 1-Low, 2-Medium, 3-High, 4-Very High\n",
    "* **MaritalStatus** - Marital Status\n",
    "* **MonthlyIncome** - Monthly salary\n",
    "* **MonthlyRate** - Mounthly rate\n",
    "* **NumCompaniesWorked** - Number of companies worked at\n",
    "* **Over18** - Over 18 years of age?\n",
    "* **OverTime** - Overtime?\n",
    "* **PercentSalaryHike** - The percentage increase in salary last year\n",
    "* **PerformanceRating** - 1-Low, 2-Good, 3-Excellent, 4-Outstanding\n",
    "* **RelationshipSatisfaction** - 1-Low, 2-Medium, 3-High, 4-Very High\n",
    "* **StandardHours** - Standard Hours\n",
    "* **StockOptionLevel** - Stock Option Level\n",
    "* **TotalWorkingYears** - Total years worked\n",
    "* **TrainingTimesLastYear** - Number of training attended last year\n",
    "* **WorkLifeBalance** - 1-Low, 2-Good, 3-Excellent, 4-Outstanding\n",
    "* **YearsAtCompany** - Years at Company\n",
    "* **YearsInCurrentRole** - Years in the current role\n",
    "* **YearsSinceLastPromotion** - Years since the last promotion\n",
    "* **YearsWithCurrManager** - Years with the current manager"
   ],
   "id": "6e087e4876935d99"
  },
  {
   "metadata": {},
   "cell_type": "markdown",
   "source": "## Assessing data",
   "id": "4490940648673df4"
  },
  {
   "metadata": {},
   "cell_type": "markdown",
   "source": "### Check many data",
   "id": "e39038ceae9d1d1b"
  },
  {
   "metadata": {
    "ExecuteTime": {
     "end_time": "2024-11-23T08:15:16.447957Z",
     "start_time": "2024-11-23T08:15:16.445074Z"
    }
   },
   "cell_type": "code",
   "source": "print(f\"many data:{len(df)}\")",
   "id": "6c2f1c36565824a7",
   "outputs": [
    {
     "name": "stdout",
     "output_type": "stream",
     "text": [
      "many data:1470\n"
     ]
    }
   ],
   "execution_count": 3
  },
  {
   "metadata": {},
   "cell_type": "markdown",
   "source": "### Check type data",
   "id": "2a44cbfc3bdecfc4"
  },
  {
   "metadata": {
    "ExecuteTime": {
     "end_time": "2024-11-23T08:15:16.553368Z",
     "start_time": "2024-11-23T08:15:16.538373Z"
    }
   },
   "cell_type": "code",
   "source": "df.info()",
   "id": "fc7e25ba3afc1ed6",
   "outputs": [
    {
     "name": "stdout",
     "output_type": "stream",
     "text": [
      "<class 'pandas.core.frame.DataFrame'>\n",
      "RangeIndex: 1470 entries, 0 to 1469\n",
      "Data columns (total 35 columns):\n",
      " #   Column                    Non-Null Count  Dtype  \n",
      "---  ------                    --------------  -----  \n",
      " 0   EmployeeId                1470 non-null   int64  \n",
      " 1   Age                       1470 non-null   int64  \n",
      " 2   Attrition                 1058 non-null   float64\n",
      " 3   BusinessTravel            1470 non-null   object \n",
      " 4   DailyRate                 1470 non-null   int64  \n",
      " 5   Department                1470 non-null   object \n",
      " 6   DistanceFromHome          1470 non-null   int64  \n",
      " 7   Education                 1470 non-null   int64  \n",
      " 8   EducationField            1470 non-null   object \n",
      " 9   EmployeeCount             1470 non-null   int64  \n",
      " 10  EnvironmentSatisfaction   1470 non-null   int64  \n",
      " 11  Gender                    1470 non-null   object \n",
      " 12  HourlyRate                1470 non-null   int64  \n",
      " 13  JobInvolvement            1470 non-null   int64  \n",
      " 14  JobLevel                  1470 non-null   int64  \n",
      " 15  JobRole                   1470 non-null   object \n",
      " 16  JobSatisfaction           1470 non-null   int64  \n",
      " 17  MaritalStatus             1470 non-null   object \n",
      " 18  MonthlyIncome             1470 non-null   int64  \n",
      " 19  MonthlyRate               1470 non-null   int64  \n",
      " 20  NumCompaniesWorked        1470 non-null   int64  \n",
      " 21  Over18                    1470 non-null   object \n",
      " 22  OverTime                  1470 non-null   object \n",
      " 23  PercentSalaryHike         1470 non-null   int64  \n",
      " 24  PerformanceRating         1470 non-null   int64  \n",
      " 25  RelationshipSatisfaction  1470 non-null   int64  \n",
      " 26  StandardHours             1470 non-null   int64  \n",
      " 27  StockOptionLevel          1470 non-null   int64  \n",
      " 28  TotalWorkingYears         1470 non-null   int64  \n",
      " 29  TrainingTimesLastYear     1470 non-null   int64  \n",
      " 30  WorkLifeBalance           1470 non-null   int64  \n",
      " 31  YearsAtCompany            1470 non-null   int64  \n",
      " 32  YearsInCurrentRole        1470 non-null   int64  \n",
      " 33  YearsSinceLastPromotion   1470 non-null   int64  \n",
      " 34  YearsWithCurrManager      1470 non-null   int64  \n",
      "dtypes: float64(1), int64(26), object(8)\n",
      "memory usage: 402.1+ KB\n"
     ]
    }
   ],
   "execution_count": 4
  },
  {
   "metadata": {},
   "cell_type": "markdown",
   "source": [
    "#### Insight\n",
    "Is got anomalie data type which must isn't happened\n",
    "* **EmployeeID** - string\n"
   ],
   "id": "1b8084ba908843c9"
  },
  {
   "metadata": {},
   "cell_type": "markdown",
   "source": "### Check missing value",
   "id": "a74c6d85c192cbd0"
  },
  {
   "metadata": {
    "ExecuteTime": {
     "end_time": "2024-11-23T08:15:16.648031Z",
     "start_time": "2024-11-23T08:15:16.641255Z"
    }
   },
   "cell_type": "code",
   "source": "df.isnull().sum()",
   "id": "38d378506142a94e",
   "outputs": [
    {
     "data": {
      "text/plain": [
       "EmployeeId                    0\n",
       "Age                           0\n",
       "Attrition                   412\n",
       "BusinessTravel                0\n",
       "DailyRate                     0\n",
       "Department                    0\n",
       "DistanceFromHome              0\n",
       "Education                     0\n",
       "EducationField                0\n",
       "EmployeeCount                 0\n",
       "EnvironmentSatisfaction       0\n",
       "Gender                        0\n",
       "HourlyRate                    0\n",
       "JobInvolvement                0\n",
       "JobLevel                      0\n",
       "JobRole                       0\n",
       "JobSatisfaction               0\n",
       "MaritalStatus                 0\n",
       "MonthlyIncome                 0\n",
       "MonthlyRate                   0\n",
       "NumCompaniesWorked            0\n",
       "Over18                        0\n",
       "OverTime                      0\n",
       "PercentSalaryHike             0\n",
       "PerformanceRating             0\n",
       "RelationshipSatisfaction      0\n",
       "StandardHours                 0\n",
       "StockOptionLevel              0\n",
       "TotalWorkingYears             0\n",
       "TrainingTimesLastYear         0\n",
       "WorkLifeBalance               0\n",
       "YearsAtCompany                0\n",
       "YearsInCurrentRole            0\n",
       "YearsSinceLastPromotion       0\n",
       "YearsWithCurrManager          0\n",
       "dtype: int64"
      ]
     },
     "execution_count": 5,
     "metadata": {},
     "output_type": "execute_result"
    }
   ],
   "execution_count": 5
  },
  {
   "metadata": {},
   "cell_type": "markdown",
   "source": [
    "#### Insight\n",
    "Obtained 412 null data in the Attrition column"
   ],
   "id": "c4f7cb8766ef90ed"
  },
  {
   "metadata": {},
   "cell_type": "markdown",
   "source": "### Check duplicate data",
   "id": "6e811ad223458d81"
  },
  {
   "metadata": {
    "ExecuteTime": {
     "end_time": "2024-11-23T08:15:16.923935Z",
     "start_time": "2024-11-23T08:15:16.907090Z"
    }
   },
   "cell_type": "code",
   "source": "df.duplicated().sum()",
   "id": "b4db44e0f6d98618",
   "outputs": [
    {
     "data": {
      "text/plain": [
       "0"
      ]
     },
     "execution_count": 6,
     "metadata": {},
     "output_type": "execute_result"
    }
   ],
   "execution_count": 6
  },
  {
   "metadata": {},
   "cell_type": "markdown",
   "source": [
    "#### Insight\n",
    "Is not got duplicate data"
   ],
   "id": "bdddcb8dd47a8c63"
  },
  {
   "metadata": {},
   "cell_type": "markdown",
   "source": "### Check value unique",
   "id": "af805a5ba6162a27"
  },
  {
   "metadata": {
    "ExecuteTime": {
     "end_time": "2024-11-23T08:15:17.165533Z",
     "start_time": "2024-11-23T08:15:17.159752Z"
    }
   },
   "cell_type": "code",
   "source": "df[\"BusinessTravel\"].value_counts()",
   "id": "ee5efc5958b83bb1",
   "outputs": [
    {
     "data": {
      "text/plain": [
       "BusinessTravel\n",
       "Travel_Rarely        1043\n",
       "Travel_Frequently     277\n",
       "Non-Travel            150\n",
       "Name: count, dtype: int64"
      ]
     },
     "execution_count": 7,
     "metadata": {},
     "output_type": "execute_result"
    }
   ],
   "execution_count": 7
  },
  {
   "metadata": {
    "ExecuteTime": {
     "end_time": "2024-11-23T08:15:17.335744Z",
     "start_time": "2024-11-23T08:15:17.329574Z"
    }
   },
   "cell_type": "code",
   "source": "df[\"Department\"].value_counts()",
   "id": "f4a5ae2767162a05",
   "outputs": [
    {
     "data": {
      "text/plain": [
       "Department\n",
       "Research & Development    961\n",
       "Sales                     446\n",
       "Human Resources            63\n",
       "Name: count, dtype: int64"
      ]
     },
     "execution_count": 8,
     "metadata": {},
     "output_type": "execute_result"
    }
   ],
   "execution_count": 8
  },
  {
   "metadata": {
    "ExecuteTime": {
     "end_time": "2024-11-23T08:15:17.512480Z",
     "start_time": "2024-11-23T08:15:17.506197Z"
    }
   },
   "cell_type": "code",
   "source": "df[\"EducationField\"].value_counts()",
   "id": "666bc9cdbc0f9806",
   "outputs": [
    {
     "data": {
      "text/plain": [
       "EducationField\n",
       "Life Sciences       606\n",
       "Medical             464\n",
       "Marketing           159\n",
       "Technical Degree    132\n",
       "Other                82\n",
       "Human Resources      27\n",
       "Name: count, dtype: int64"
      ]
     },
     "execution_count": 9,
     "metadata": {},
     "output_type": "execute_result"
    }
   ],
   "execution_count": 9
  },
  {
   "metadata": {
    "ExecuteTime": {
     "end_time": "2024-11-23T08:15:17.921890Z",
     "start_time": "2024-11-23T08:15:17.914929Z"
    }
   },
   "cell_type": "code",
   "source": "df[\"Gender\"].value_counts()",
   "id": "88815bee896c9e89",
   "outputs": [
    {
     "data": {
      "text/plain": [
       "Gender\n",
       "Male      882\n",
       "Female    588\n",
       "Name: count, dtype: int64"
      ]
     },
     "execution_count": 10,
     "metadata": {},
     "output_type": "execute_result"
    }
   ],
   "execution_count": 10
  },
  {
   "metadata": {
    "ExecuteTime": {
     "end_time": "2024-11-23T08:15:18.126891Z",
     "start_time": "2024-11-23T08:15:18.121138Z"
    }
   },
   "cell_type": "code",
   "source": "df[\"JobRole\"].value_counts()",
   "id": "1a4b3ff62f6093aa",
   "outputs": [
    {
     "data": {
      "text/plain": [
       "JobRole\n",
       "Sales Executive              326\n",
       "Research Scientist           292\n",
       "Laboratory Technician        259\n",
       "Manufacturing Director       145\n",
       "Healthcare Representative    131\n",
       "Manager                      102\n",
       "Sales Representative          83\n",
       "Research Director             80\n",
       "Human Resources               52\n",
       "Name: count, dtype: int64"
      ]
     },
     "execution_count": 11,
     "metadata": {},
     "output_type": "execute_result"
    }
   ],
   "execution_count": 11
  },
  {
   "metadata": {
    "ExecuteTime": {
     "end_time": "2024-11-23T08:15:18.582034Z",
     "start_time": "2024-11-23T08:15:18.575862Z"
    }
   },
   "cell_type": "code",
   "source": "df[\"MaritalStatus\"].value_counts()",
   "id": "c44c41a37201c983",
   "outputs": [
    {
     "data": {
      "text/plain": [
       "MaritalStatus\n",
       "Married     673\n",
       "Single      470\n",
       "Divorced    327\n",
       "Name: count, dtype: int64"
      ]
     },
     "execution_count": 12,
     "metadata": {},
     "output_type": "execute_result"
    }
   ],
   "execution_count": 12
  },
  {
   "metadata": {
    "ExecuteTime": {
     "end_time": "2024-11-23T08:15:18.777695Z",
     "start_time": "2024-11-23T08:15:18.771789Z"
    }
   },
   "cell_type": "code",
   "source": "df[\"Over18\"].value_counts()",
   "id": "d799fd1dd8f17521",
   "outputs": [
    {
     "data": {
      "text/plain": [
       "Over18\n",
       "Y    1470\n",
       "Name: count, dtype: int64"
      ]
     },
     "execution_count": 13,
     "metadata": {},
     "output_type": "execute_result"
    }
   ],
   "execution_count": 13
  },
  {
   "metadata": {
    "ExecuteTime": {
     "end_time": "2024-11-23T08:15:19.053447Z",
     "start_time": "2024-11-23T08:15:19.047199Z"
    }
   },
   "cell_type": "code",
   "source": "df[\"OverTime\"].value_counts()",
   "id": "8bac8d64238f1580",
   "outputs": [
    {
     "data": {
      "text/plain": [
       "OverTime\n",
       "No     1054\n",
       "Yes     416\n",
       "Name: count, dtype: int64"
      ]
     },
     "execution_count": 14,
     "metadata": {},
     "output_type": "execute_result"
    }
   ],
   "execution_count": 14
  },
  {
   "metadata": {},
   "cell_type": "markdown",
   "source": [
    "#### Insight\n",
    "all columns categorical will be changed into numerical\n",
    "* **BusinessTravel**\n",
    "* **Departement**\n",
    "* **EducationField**\n",
    "* **Gender**\n",
    "* **JobRole**\n",
    "* **MaritalStatus**\n",
    "* **Over18**\n",
    "* **OverTime**"
   ],
   "id": "779dde71f4d948b2"
  },
  {
   "metadata": {},
   "cell_type": "markdown",
   "source": "## Cleaning data",
   "id": "978f16f63d95eea4"
  },
  {
   "metadata": {},
   "cell_type": "markdown",
   "source": [
    "### To change type date\n",
    "change type data to column which has been done assessing data"
   ],
   "id": "9c69fd488cba5652"
  },
  {
   "metadata": {},
   "cell_type": "markdown",
   "source": "",
   "id": "8caf609a4195058c"
  },
  {
   "metadata": {
    "ExecuteTime": {
     "end_time": "2024-11-23T08:15:19.237558Z",
     "start_time": "2024-11-23T08:15:19.231923Z"
    }
   },
   "cell_type": "code",
   "source": [
    "df.rename(columns={\"EmployeeId\" : \"EmployeId\"}, inplace=True)\n",
    "df[\"EmployeId\"] = df[\"EmployeId\"].astype(str)\n"
   ],
   "id": "684356c2f46ea22b",
   "outputs": [],
   "execution_count": 15
  },
  {
   "metadata": {
    "ExecuteTime": {
     "end_time": "2024-11-23T08:15:19.461634Z",
     "start_time": "2024-11-23T08:15:19.447862Z"
    }
   },
   "cell_type": "code",
   "source": "df.head()",
   "id": "8d1c60d711b992ae",
   "outputs": [
    {
     "data": {
      "text/plain": [
       "  EmployeId  Age  Attrition     BusinessTravel  DailyRate  \\\n",
       "0         1   38        NaN  Travel_Frequently       1444   \n",
       "1         2   37        1.0      Travel_Rarely       1141   \n",
       "2         3   51        1.0      Travel_Rarely       1323   \n",
       "3         4   42        0.0  Travel_Frequently        555   \n",
       "4         5   40        NaN      Travel_Rarely       1194   \n",
       "\n",
       "               Department  DistanceFromHome  Education EducationField  \\\n",
       "0         Human Resources                 1          4          Other   \n",
       "1  Research & Development                11          2        Medical   \n",
       "2  Research & Development                 4          4  Life Sciences   \n",
       "3                   Sales                26          3      Marketing   \n",
       "4  Research & Development                 2          4        Medical   \n",
       "\n",
       "   EmployeeCount  ...  RelationshipSatisfaction StandardHours  \\\n",
       "0              1  ...                         2            80   \n",
       "1              1  ...                         1            80   \n",
       "2              1  ...                         3            80   \n",
       "3              1  ...                         4            80   \n",
       "4              1  ...                         2            80   \n",
       "\n",
       "   StockOptionLevel  TotalWorkingYears  TrainingTimesLastYear WorkLifeBalance  \\\n",
       "0                 1                  7                      2               3   \n",
       "1                 0                 15                      2               1   \n",
       "2                 3                 18                      2               4   \n",
       "3                 1                 23                      2               4   \n",
       "4                 3                 20                      2               3   \n",
       "\n",
       "   YearsAtCompany YearsInCurrentRole  YearsSinceLastPromotion  \\\n",
       "0               6                  2                        1   \n",
       "1               1                  0                        0   \n",
       "2              10                  0                        2   \n",
       "3              20                  4                        4   \n",
       "4               5                  3                        0   \n",
       "\n",
       "   YearsWithCurrManager  \n",
       "0                     2  \n",
       "1                     0  \n",
       "2                     7  \n",
       "3                     8  \n",
       "4                     2  \n",
       "\n",
       "[5 rows x 35 columns]"
      ],
      "text/html": [
       "<div>\n",
       "<style scoped>\n",
       "    .dataframe tbody tr th:only-of-type {\n",
       "        vertical-align: middle;\n",
       "    }\n",
       "\n",
       "    .dataframe tbody tr th {\n",
       "        vertical-align: top;\n",
       "    }\n",
       "\n",
       "    .dataframe thead th {\n",
       "        text-align: right;\n",
       "    }\n",
       "</style>\n",
       "<table border=\"1\" class=\"dataframe\">\n",
       "  <thead>\n",
       "    <tr style=\"text-align: right;\">\n",
       "      <th></th>\n",
       "      <th>EmployeId</th>\n",
       "      <th>Age</th>\n",
       "      <th>Attrition</th>\n",
       "      <th>BusinessTravel</th>\n",
       "      <th>DailyRate</th>\n",
       "      <th>Department</th>\n",
       "      <th>DistanceFromHome</th>\n",
       "      <th>Education</th>\n",
       "      <th>EducationField</th>\n",
       "      <th>EmployeeCount</th>\n",
       "      <th>...</th>\n",
       "      <th>RelationshipSatisfaction</th>\n",
       "      <th>StandardHours</th>\n",
       "      <th>StockOptionLevel</th>\n",
       "      <th>TotalWorkingYears</th>\n",
       "      <th>TrainingTimesLastYear</th>\n",
       "      <th>WorkLifeBalance</th>\n",
       "      <th>YearsAtCompany</th>\n",
       "      <th>YearsInCurrentRole</th>\n",
       "      <th>YearsSinceLastPromotion</th>\n",
       "      <th>YearsWithCurrManager</th>\n",
       "    </tr>\n",
       "  </thead>\n",
       "  <tbody>\n",
       "    <tr>\n",
       "      <th>0</th>\n",
       "      <td>1</td>\n",
       "      <td>38</td>\n",
       "      <td>NaN</td>\n",
       "      <td>Travel_Frequently</td>\n",
       "      <td>1444</td>\n",
       "      <td>Human Resources</td>\n",
       "      <td>1</td>\n",
       "      <td>4</td>\n",
       "      <td>Other</td>\n",
       "      <td>1</td>\n",
       "      <td>...</td>\n",
       "      <td>2</td>\n",
       "      <td>80</td>\n",
       "      <td>1</td>\n",
       "      <td>7</td>\n",
       "      <td>2</td>\n",
       "      <td>3</td>\n",
       "      <td>6</td>\n",
       "      <td>2</td>\n",
       "      <td>1</td>\n",
       "      <td>2</td>\n",
       "    </tr>\n",
       "    <tr>\n",
       "      <th>1</th>\n",
       "      <td>2</td>\n",
       "      <td>37</td>\n",
       "      <td>1.0</td>\n",
       "      <td>Travel_Rarely</td>\n",
       "      <td>1141</td>\n",
       "      <td>Research &amp; Development</td>\n",
       "      <td>11</td>\n",
       "      <td>2</td>\n",
       "      <td>Medical</td>\n",
       "      <td>1</td>\n",
       "      <td>...</td>\n",
       "      <td>1</td>\n",
       "      <td>80</td>\n",
       "      <td>0</td>\n",
       "      <td>15</td>\n",
       "      <td>2</td>\n",
       "      <td>1</td>\n",
       "      <td>1</td>\n",
       "      <td>0</td>\n",
       "      <td>0</td>\n",
       "      <td>0</td>\n",
       "    </tr>\n",
       "    <tr>\n",
       "      <th>2</th>\n",
       "      <td>3</td>\n",
       "      <td>51</td>\n",
       "      <td>1.0</td>\n",
       "      <td>Travel_Rarely</td>\n",
       "      <td>1323</td>\n",
       "      <td>Research &amp; Development</td>\n",
       "      <td>4</td>\n",
       "      <td>4</td>\n",
       "      <td>Life Sciences</td>\n",
       "      <td>1</td>\n",
       "      <td>...</td>\n",
       "      <td>3</td>\n",
       "      <td>80</td>\n",
       "      <td>3</td>\n",
       "      <td>18</td>\n",
       "      <td>2</td>\n",
       "      <td>4</td>\n",
       "      <td>10</td>\n",
       "      <td>0</td>\n",
       "      <td>2</td>\n",
       "      <td>7</td>\n",
       "    </tr>\n",
       "    <tr>\n",
       "      <th>3</th>\n",
       "      <td>4</td>\n",
       "      <td>42</td>\n",
       "      <td>0.0</td>\n",
       "      <td>Travel_Frequently</td>\n",
       "      <td>555</td>\n",
       "      <td>Sales</td>\n",
       "      <td>26</td>\n",
       "      <td>3</td>\n",
       "      <td>Marketing</td>\n",
       "      <td>1</td>\n",
       "      <td>...</td>\n",
       "      <td>4</td>\n",
       "      <td>80</td>\n",
       "      <td>1</td>\n",
       "      <td>23</td>\n",
       "      <td>2</td>\n",
       "      <td>4</td>\n",
       "      <td>20</td>\n",
       "      <td>4</td>\n",
       "      <td>4</td>\n",
       "      <td>8</td>\n",
       "    </tr>\n",
       "    <tr>\n",
       "      <th>4</th>\n",
       "      <td>5</td>\n",
       "      <td>40</td>\n",
       "      <td>NaN</td>\n",
       "      <td>Travel_Rarely</td>\n",
       "      <td>1194</td>\n",
       "      <td>Research &amp; Development</td>\n",
       "      <td>2</td>\n",
       "      <td>4</td>\n",
       "      <td>Medical</td>\n",
       "      <td>1</td>\n",
       "      <td>...</td>\n",
       "      <td>2</td>\n",
       "      <td>80</td>\n",
       "      <td>3</td>\n",
       "      <td>20</td>\n",
       "      <td>2</td>\n",
       "      <td>3</td>\n",
       "      <td>5</td>\n",
       "      <td>3</td>\n",
       "      <td>0</td>\n",
       "      <td>2</td>\n",
       "    </tr>\n",
       "  </tbody>\n",
       "</table>\n",
       "<p>5 rows × 35 columns</p>\n",
       "</div>"
      ]
     },
     "execution_count": 16,
     "metadata": {},
     "output_type": "execute_result"
    }
   ],
   "execution_count": 16
  },
  {
   "metadata": {},
   "cell_type": "markdown",
   "source": [
    "### To change columns categorical to numeric\n",
    "changing columns categorical faceilitate for getting feature"
   ],
   "id": "e99f051d1d1a6179"
  },
  {
   "metadata": {
    "ExecuteTime": {
     "end_time": "2024-11-23T08:15:19.598772Z",
     "start_time": "2024-11-23T08:15:19.585400Z"
    }
   },
   "cell_type": "code",
   "source": [
    "df_pre = df.copy()\n",
    "df_pre.drop(\"EmployeId\", axis=1, inplace=True)\n",
    "\n",
    "for column in df_pre.columns:\n",
    "    if df_pre[column].dtype == \"object\":\n",
    "        df_pre[column] = df_pre[column].astype(\"category\")\n",
    "        df_pre[column] = df_pre[column].cat.codes"
   ],
   "id": "4b0f505e367a69ce",
   "outputs": [],
   "execution_count": 17
  },
  {
   "metadata": {
    "ExecuteTime": {
     "end_time": "2024-11-23T08:15:19.836897Z",
     "start_time": "2024-11-23T08:15:19.821797Z"
    }
   },
   "cell_type": "code",
   "source": "df_pre.head()",
   "id": "3cbf80c5ab54996f",
   "outputs": [
    {
     "data": {
      "text/plain": [
       "   Age  Attrition  BusinessTravel  DailyRate  Department  DistanceFromHome  \\\n",
       "0   38        NaN               1       1444           0                 1   \n",
       "1   37        1.0               2       1141           1                11   \n",
       "2   51        1.0               2       1323           1                 4   \n",
       "3   42        0.0               1        555           2                26   \n",
       "4   40        NaN               2       1194           1                 2   \n",
       "\n",
       "   Education  EducationField  EmployeeCount  EnvironmentSatisfaction  ...  \\\n",
       "0          4               4              1                        4  ...   \n",
       "1          2               3              1                        1  ...   \n",
       "2          4               1              1                        1  ...   \n",
       "3          3               2              1                        3  ...   \n",
       "4          4               3              1                        3  ...   \n",
       "\n",
       "   RelationshipSatisfaction  StandardHours  StockOptionLevel  \\\n",
       "0                         2             80                 1   \n",
       "1                         1             80                 0   \n",
       "2                         3             80                 3   \n",
       "3                         4             80                 1   \n",
       "4                         2             80                 3   \n",
       "\n",
       "   TotalWorkingYears  TrainingTimesLastYear  WorkLifeBalance  YearsAtCompany  \\\n",
       "0                  7                      2                3               6   \n",
       "1                 15                      2                1               1   \n",
       "2                 18                      2                4              10   \n",
       "3                 23                      2                4              20   \n",
       "4                 20                      2                3               5   \n",
       "\n",
       "   YearsInCurrentRole  YearsSinceLastPromotion  YearsWithCurrManager  \n",
       "0                   2                        1                     2  \n",
       "1                   0                        0                     0  \n",
       "2                   0                        2                     7  \n",
       "3                   4                        4                     8  \n",
       "4                   3                        0                     2  \n",
       "\n",
       "[5 rows x 34 columns]"
      ],
      "text/html": [
       "<div>\n",
       "<style scoped>\n",
       "    .dataframe tbody tr th:only-of-type {\n",
       "        vertical-align: middle;\n",
       "    }\n",
       "\n",
       "    .dataframe tbody tr th {\n",
       "        vertical-align: top;\n",
       "    }\n",
       "\n",
       "    .dataframe thead th {\n",
       "        text-align: right;\n",
       "    }\n",
       "</style>\n",
       "<table border=\"1\" class=\"dataframe\">\n",
       "  <thead>\n",
       "    <tr style=\"text-align: right;\">\n",
       "      <th></th>\n",
       "      <th>Age</th>\n",
       "      <th>Attrition</th>\n",
       "      <th>BusinessTravel</th>\n",
       "      <th>DailyRate</th>\n",
       "      <th>Department</th>\n",
       "      <th>DistanceFromHome</th>\n",
       "      <th>Education</th>\n",
       "      <th>EducationField</th>\n",
       "      <th>EmployeeCount</th>\n",
       "      <th>EnvironmentSatisfaction</th>\n",
       "      <th>...</th>\n",
       "      <th>RelationshipSatisfaction</th>\n",
       "      <th>StandardHours</th>\n",
       "      <th>StockOptionLevel</th>\n",
       "      <th>TotalWorkingYears</th>\n",
       "      <th>TrainingTimesLastYear</th>\n",
       "      <th>WorkLifeBalance</th>\n",
       "      <th>YearsAtCompany</th>\n",
       "      <th>YearsInCurrentRole</th>\n",
       "      <th>YearsSinceLastPromotion</th>\n",
       "      <th>YearsWithCurrManager</th>\n",
       "    </tr>\n",
       "  </thead>\n",
       "  <tbody>\n",
       "    <tr>\n",
       "      <th>0</th>\n",
       "      <td>38</td>\n",
       "      <td>NaN</td>\n",
       "      <td>1</td>\n",
       "      <td>1444</td>\n",
       "      <td>0</td>\n",
       "      <td>1</td>\n",
       "      <td>4</td>\n",
       "      <td>4</td>\n",
       "      <td>1</td>\n",
       "      <td>4</td>\n",
       "      <td>...</td>\n",
       "      <td>2</td>\n",
       "      <td>80</td>\n",
       "      <td>1</td>\n",
       "      <td>7</td>\n",
       "      <td>2</td>\n",
       "      <td>3</td>\n",
       "      <td>6</td>\n",
       "      <td>2</td>\n",
       "      <td>1</td>\n",
       "      <td>2</td>\n",
       "    </tr>\n",
       "    <tr>\n",
       "      <th>1</th>\n",
       "      <td>37</td>\n",
       "      <td>1.0</td>\n",
       "      <td>2</td>\n",
       "      <td>1141</td>\n",
       "      <td>1</td>\n",
       "      <td>11</td>\n",
       "      <td>2</td>\n",
       "      <td>3</td>\n",
       "      <td>1</td>\n",
       "      <td>1</td>\n",
       "      <td>...</td>\n",
       "      <td>1</td>\n",
       "      <td>80</td>\n",
       "      <td>0</td>\n",
       "      <td>15</td>\n",
       "      <td>2</td>\n",
       "      <td>1</td>\n",
       "      <td>1</td>\n",
       "      <td>0</td>\n",
       "      <td>0</td>\n",
       "      <td>0</td>\n",
       "    </tr>\n",
       "    <tr>\n",
       "      <th>2</th>\n",
       "      <td>51</td>\n",
       "      <td>1.0</td>\n",
       "      <td>2</td>\n",
       "      <td>1323</td>\n",
       "      <td>1</td>\n",
       "      <td>4</td>\n",
       "      <td>4</td>\n",
       "      <td>1</td>\n",
       "      <td>1</td>\n",
       "      <td>1</td>\n",
       "      <td>...</td>\n",
       "      <td>3</td>\n",
       "      <td>80</td>\n",
       "      <td>3</td>\n",
       "      <td>18</td>\n",
       "      <td>2</td>\n",
       "      <td>4</td>\n",
       "      <td>10</td>\n",
       "      <td>0</td>\n",
       "      <td>2</td>\n",
       "      <td>7</td>\n",
       "    </tr>\n",
       "    <tr>\n",
       "      <th>3</th>\n",
       "      <td>42</td>\n",
       "      <td>0.0</td>\n",
       "      <td>1</td>\n",
       "      <td>555</td>\n",
       "      <td>2</td>\n",
       "      <td>26</td>\n",
       "      <td>3</td>\n",
       "      <td>2</td>\n",
       "      <td>1</td>\n",
       "      <td>3</td>\n",
       "      <td>...</td>\n",
       "      <td>4</td>\n",
       "      <td>80</td>\n",
       "      <td>1</td>\n",
       "      <td>23</td>\n",
       "      <td>2</td>\n",
       "      <td>4</td>\n",
       "      <td>20</td>\n",
       "      <td>4</td>\n",
       "      <td>4</td>\n",
       "      <td>8</td>\n",
       "    </tr>\n",
       "    <tr>\n",
       "      <th>4</th>\n",
       "      <td>40</td>\n",
       "      <td>NaN</td>\n",
       "      <td>2</td>\n",
       "      <td>1194</td>\n",
       "      <td>1</td>\n",
       "      <td>2</td>\n",
       "      <td>4</td>\n",
       "      <td>3</td>\n",
       "      <td>1</td>\n",
       "      <td>3</td>\n",
       "      <td>...</td>\n",
       "      <td>2</td>\n",
       "      <td>80</td>\n",
       "      <td>3</td>\n",
       "      <td>20</td>\n",
       "      <td>2</td>\n",
       "      <td>3</td>\n",
       "      <td>5</td>\n",
       "      <td>3</td>\n",
       "      <td>0</td>\n",
       "      <td>2</td>\n",
       "    </tr>\n",
       "  </tbody>\n",
       "</table>\n",
       "<p>5 rows × 34 columns</p>\n",
       "</div>"
      ]
     },
     "execution_count": 18,
     "metadata": {},
     "output_type": "execute_result"
    }
   ],
   "execution_count": 18
  },
  {
   "metadata": {
    "ExecuteTime": {
     "end_time": "2024-11-23T08:15:19.967553Z",
     "start_time": "2024-11-23T08:15:19.960311Z"
    }
   },
   "cell_type": "code",
   "source": "df_pre[\"BusinessTravel\"].value_counts()",
   "id": "93351ecab9511aed",
   "outputs": [
    {
     "data": {
      "text/plain": [
       "BusinessTravel\n",
       "2    1043\n",
       "1     277\n",
       "0     150\n",
       "Name: count, dtype: int64"
      ]
     },
     "execution_count": 19,
     "metadata": {},
     "output_type": "execute_result"
    }
   ],
   "execution_count": 19
  },
  {
   "metadata": {
    "ExecuteTime": {
     "end_time": "2024-11-23T08:15:20.446868Z",
     "start_time": "2024-11-23T08:15:20.440551Z"
    }
   },
   "cell_type": "code",
   "source": "df_pre[\"Department\"].value_counts()",
   "id": "4ce81852b620debf",
   "outputs": [
    {
     "data": {
      "text/plain": [
       "Department\n",
       "1    961\n",
       "2    446\n",
       "0     63\n",
       "Name: count, dtype: int64"
      ]
     },
     "execution_count": 20,
     "metadata": {},
     "output_type": "execute_result"
    }
   ],
   "execution_count": 20
  },
  {
   "metadata": {
    "ExecuteTime": {
     "end_time": "2024-11-23T08:15:20.648411Z",
     "start_time": "2024-11-23T08:15:20.641433Z"
    }
   },
   "cell_type": "code",
   "source": "df_pre[\"EducationField\"].value_counts()",
   "id": "20591333dbc02f7d",
   "outputs": [
    {
     "data": {
      "text/plain": [
       "EducationField\n",
       "1    606\n",
       "3    464\n",
       "2    159\n",
       "5    132\n",
       "4     82\n",
       "0     27\n",
       "Name: count, dtype: int64"
      ]
     },
     "execution_count": 21,
     "metadata": {},
     "output_type": "execute_result"
    }
   ],
   "execution_count": 21
  },
  {
   "metadata": {
    "ExecuteTime": {
     "end_time": "2024-11-23T08:15:20.929619Z",
     "start_time": "2024-11-23T08:15:20.924307Z"
    }
   },
   "cell_type": "code",
   "source": "df_pre[\"Gender\"].value_counts()",
   "id": "f5d0ae98fe9e6017",
   "outputs": [
    {
     "data": {
      "text/plain": [
       "Gender\n",
       "1    882\n",
       "0    588\n",
       "Name: count, dtype: int64"
      ]
     },
     "execution_count": 22,
     "metadata": {},
     "output_type": "execute_result"
    }
   ],
   "execution_count": 22
  },
  {
   "metadata": {
    "ExecuteTime": {
     "end_time": "2024-11-23T08:15:21.342717Z",
     "start_time": "2024-11-23T08:15:21.334728Z"
    }
   },
   "cell_type": "code",
   "source": "df_pre[\"JobRole\"].value_counts()",
   "id": "16e5f76b1205fd69",
   "outputs": [
    {
     "data": {
      "text/plain": [
       "JobRole\n",
       "7    326\n",
       "6    292\n",
       "2    259\n",
       "4    145\n",
       "0    131\n",
       "3    102\n",
       "8     83\n",
       "5     80\n",
       "1     52\n",
       "Name: count, dtype: int64"
      ]
     },
     "execution_count": 23,
     "metadata": {},
     "output_type": "execute_result"
    }
   ],
   "execution_count": 23
  },
  {
   "metadata": {
    "ExecuteTime": {
     "end_time": "2024-11-23T08:15:21.718621Z",
     "start_time": "2024-11-23T08:15:21.713169Z"
    }
   },
   "cell_type": "code",
   "source": "df_pre[\"MaritalStatus\"].value_counts()",
   "id": "d3ab5abd1f185e87",
   "outputs": [
    {
     "data": {
      "text/plain": [
       "MaritalStatus\n",
       "1    673\n",
       "2    470\n",
       "0    327\n",
       "Name: count, dtype: int64"
      ]
     },
     "execution_count": 24,
     "metadata": {},
     "output_type": "execute_result"
    }
   ],
   "execution_count": 24
  },
  {
   "metadata": {
    "ExecuteTime": {
     "end_time": "2024-11-23T08:15:21.948439Z",
     "start_time": "2024-11-23T08:15:21.941447Z"
    }
   },
   "cell_type": "code",
   "source": "df_pre[\"Over18\"].value_counts()",
   "id": "339cb0c967dbf0f1",
   "outputs": [
    {
     "data": {
      "text/plain": [
       "Over18\n",
       "0    1470\n",
       "Name: count, dtype: int64"
      ]
     },
     "execution_count": 25,
     "metadata": {},
     "output_type": "execute_result"
    }
   ],
   "execution_count": 25
  },
  {
   "metadata": {
    "ExecuteTime": {
     "end_time": "2024-11-23T08:15:22.522809Z",
     "start_time": "2024-11-23T08:15:22.510401Z"
    }
   },
   "cell_type": "code",
   "source": "df_pre[\"OverTime\"].value_counts()",
   "id": "e9cc7ac77643fc0a",
   "outputs": [
    {
     "data": {
      "text/plain": [
       "OverTime\n",
       "0    1054\n",
       "1     416\n",
       "Name: count, dtype: int64"
      ]
     },
     "execution_count": 26,
     "metadata": {},
     "output_type": "execute_result"
    }
   ],
   "execution_count": 26
  },
  {
   "metadata": {},
   "cell_type": "markdown",
   "source": [
    "#### Insight\n",
    "explaining columns which are done changing:\n",
    "1. BusinessTravel - 0-Non-Travel, 1-Travel_Frequently, 2-Travel_Rarely\n",
    "2. Department - 0-Human Resources, 1-Research & Development, 2-sales\n",
    "3. EducationField - 0-Human Resources, 1-Life Sciences, 2-Marketing, 3-Medical, 4-Other, 5-Technical Degree\n",
    "4. Gender - 0-Female, 1-Male\n",
    "5. JobRole - 0-Healthcare Representative, 1-Human Resource, 2-Laboratory Technician, 3-Manager, 4-Manufacuring Director,5-Research Director, 6-Research Scientist, 7-Sales Excutive, 8-Sales Representative\n",
    "6. MaritalStatus - 0-Divorced, 1-Married, 2-single\n",
    "7. Over18 - 0-Y, 1-N\n",
    "8. OverTime - 0-No, 1-Yes\n",
    "\n"
   ],
   "id": "c5d17e67bc38a178"
  },
  {
   "metadata": {},
   "cell_type": "markdown",
   "source": [
    "### To handle Missing values\n",
    "because missing values is big which is not possible for dropping data, but there are many method for handling missing values which we will use one of method for it"
   ],
   "id": "22475e6f99ca699d"
  },
  {
   "metadata": {
    "ExecuteTime": {
     "end_time": "2024-11-23T08:15:22.965105Z",
     "start_time": "2024-11-23T08:15:22.949832Z"
    }
   },
   "cell_type": "code",
   "source": [
    "not_missing = df_pre[df_pre[\"Attrition\"].notnull()]\n",
    "missing = df_pre[df_pre[\"Attrition\"].isnull()]\n",
    "\n",
    "# drop columns over because we don't need\n",
    "not_missing = not_missing.drop(columns=[\"Over18\"], axis=1)\n",
    "missing = missing.drop(columns=[\"Over18\"], axis=1)"
   ],
   "id": "3829089a4be570b5",
   "outputs": [],
   "execution_count": 27
  },
  {
   "metadata": {
    "ExecuteTime": {
     "end_time": "2024-11-23T08:15:23.200208Z",
     "start_time": "2024-11-23T08:15:23.188910Z"
    }
   },
   "cell_type": "code",
   "source": "not_missing[\"Attrition\"].value_counts()",
   "id": "5cabf7c15e86140d",
   "outputs": [
    {
     "data": {
      "text/plain": [
       "Attrition\n",
       "0.0    879\n",
       "1.0    179\n",
       "Name: count, dtype: int64"
      ]
     },
     "execution_count": 28,
     "metadata": {},
     "output_type": "execute_result"
    }
   ],
   "execution_count": 28
  },
  {
   "metadata": {
    "ExecuteTime": {
     "end_time": "2024-11-23T08:15:23.438034Z",
     "start_time": "2024-11-23T08:15:23.427909Z"
    }
   },
   "cell_type": "code",
   "source": [
    "attrition_zero_df = not_missing[not_missing[\"Attrition\"] == 0].sample(n=179, random_state=42)\n",
    "attrition_one_df = not_missing[not_missing[\"Attrition\"] == 1].sample(n=179, random_state=42)\n",
    "\n",
    "df_missing = pd.concat([attrition_zero_df, attrition_one_df])"
   ],
   "id": "c5eb9bc92910267f",
   "outputs": [],
   "execution_count": 29
  },
  {
   "metadata": {
    "ExecuteTime": {
     "end_time": "2024-11-23T08:15:23.712443Z",
     "start_time": "2024-11-23T08:15:23.700251Z"
    }
   },
   "cell_type": "code",
   "source": "df_missing[\"Attrition\"].value_counts()",
   "id": "c80325c486354588",
   "outputs": [
    {
     "data": {
      "text/plain": [
       "Attrition\n",
       "0.0    179\n",
       "1.0    179\n",
       "Name: count, dtype: int64"
      ]
     },
     "execution_count": 30,
     "metadata": {},
     "output_type": "execute_result"
    }
   ],
   "execution_count": 30
  },
  {
   "metadata": {
    "ExecuteTime": {
     "end_time": "2024-11-23T08:17:26.666847Z",
     "start_time": "2024-11-23T08:17:26.509340Z"
    }
   },
   "cell_type": "code",
   "source": [
    "# initialize\n",
    "scaler = StandardScaler()\n",
    "x = df_missing.drop(\"Attrition\", axis=1)\n",
    "y = df_missing[\"Attrition\"]\n",
    "\n",
    "# Standarization feature\n",
    "X = scaler.fit_transform(x)\n",
    "\n",
    "model_random = RandomForestClassifier()\n",
    "model_random.fit(X, y)\n",
    "print(f\"score accuracy:{model_random.score(X, y) * 100:.2f}%\")\n"
   ],
   "id": "629d7b30360122f9",
   "outputs": [
    {
     "name": "stdout",
     "output_type": "stream",
     "text": [
      "score accuracy:100.00%\n"
     ]
    }
   ],
   "execution_count": 38
  },
  {
   "metadata": {
    "ExecuteTime": {
     "end_time": "2024-11-23T08:15:34.417085Z",
     "start_time": "2024-11-23T08:15:34.386959Z"
    }
   },
   "cell_type": "code",
   "source": [
    "# predict missing value\n",
    "predicted = model_random.predict(missing.drop(\"Attrition\", axis=1))\n",
    "\n",
    "# fill in missing value\n",
    "df_pre.loc[df_pre['Attrition'].isnull(), 'Attrition'] = predicted"
   ],
   "id": "2217a41fe542c5e5",
   "outputs": [
    {
     "name": "stderr",
     "output_type": "stream",
     "text": [
      "/Users/acqmallatief/opt/anaconda3/envs/myenv/lib/python3.10/site-packages/sklearn/base.py:486: UserWarning: X has feature names, but RandomForestClassifier was fitted without feature names\n",
      "  warnings.warn(\n"
     ]
    }
   ],
   "execution_count": 35
  },
  {
   "metadata": {
    "ExecuteTime": {
     "end_time": "2024-11-23T08:15:38.059350Z",
     "start_time": "2024-11-23T08:15:38.053933Z"
    }
   },
   "cell_type": "code",
   "source": "df_pre[\"Attrition\"].value_counts()",
   "id": "b1e8217bb3301d02",
   "outputs": [
    {
     "data": {
      "text/plain": [
       "Attrition\n",
       "0.0    941\n",
       "1.0    529\n",
       "Name: count, dtype: int64"
      ]
     },
     "execution_count": 36,
     "metadata": {},
     "output_type": "execute_result"
    }
   ],
   "execution_count": 36
  },
  {
   "metadata": {
    "ExecuteTime": {
     "end_time": "2024-11-23T08:15:44.289098Z",
     "start_time": "2024-11-23T08:15:44.279933Z"
    }
   },
   "cell_type": "code",
   "source": "df_pre.isnull().sum()",
   "id": "289351ee9f6de7bb",
   "outputs": [
    {
     "data": {
      "text/plain": [
       "Age                         0\n",
       "Attrition                   0\n",
       "BusinessTravel              0\n",
       "DailyRate                   0\n",
       "Department                  0\n",
       "DistanceFromHome            0\n",
       "Education                   0\n",
       "EducationField              0\n",
       "EmployeeCount               0\n",
       "EnvironmentSatisfaction     0\n",
       "Gender                      0\n",
       "HourlyRate                  0\n",
       "JobInvolvement              0\n",
       "JobLevel                    0\n",
       "JobRole                     0\n",
       "JobSatisfaction             0\n",
       "MaritalStatus               0\n",
       "MonthlyIncome               0\n",
       "MonthlyRate                 0\n",
       "NumCompaniesWorked          0\n",
       "Over18                      0\n",
       "OverTime                    0\n",
       "PercentSalaryHike           0\n",
       "PerformanceRating           0\n",
       "RelationshipSatisfaction    0\n",
       "StandardHours               0\n",
       "StockOptionLevel            0\n",
       "TotalWorkingYears           0\n",
       "TrainingTimesLastYear       0\n",
       "WorkLifeBalance             0\n",
       "YearsAtCompany              0\n",
       "YearsInCurrentRole          0\n",
       "YearsSinceLastPromotion     0\n",
       "YearsWithCurrManager        0\n",
       "dtype: int64"
      ]
     },
     "execution_count": 37,
     "metadata": {},
     "output_type": "execute_result"
    }
   ],
   "execution_count": 37
  },
  {
   "metadata": {},
   "cell_type": "markdown",
   "source": "# Data preprocessing",
   "id": "eec3c94a5eb07530"
  },
  {
   "metadata": {
    "ExecuteTime": {
     "end_time": "2024-11-23T08:15:24.782686Z",
     "start_time": "2024-11-23T06:10:10.118259Z"
    }
   },
   "cell_type": "code",
   "source": "",
   "id": "fe9d1b053c38ae",
   "outputs": [],
   "execution_count": null
  },
  {
   "metadata": {},
   "cell_type": "markdown",
   "source": "# Modeling",
   "id": "523592ccf8479c55"
  },
  {
   "metadata": {
    "ExecuteTime": {
     "end_time": "2024-11-23T08:15:24.782977Z",
     "start_time": "2024-11-23T06:10:10.273377Z"
    }
   },
   "cell_type": "code",
   "source": "",
   "id": "d462332b961452dc",
   "outputs": [],
   "execution_count": null
  },
  {
   "metadata": {},
   "cell_type": "markdown",
   "source": "# Evalution",
   "id": "db12113175c25654"
  },
  {
   "metadata": {
    "ExecuteTime": {
     "end_time": "2024-11-23T08:15:24.783137Z",
     "start_time": "2024-11-23T06:10:10.344768Z"
    }
   },
   "cell_type": "code",
   "source": "",
   "id": "38e0d0a0b162a693",
   "outputs": [],
   "execution_count": null
  }
 ],
 "metadata": {
  "kernelspec": {
   "display_name": "Python 3",
   "language": "python",
   "name": "python3"
  },
  "language_info": {
   "codemirror_mode": {
    "name": "ipython",
    "version": 2
   },
   "file_extension": ".py",
   "mimetype": "text/x-python",
   "name": "python",
   "nbconvert_exporter": "python",
   "pygments_lexer": "ipython2",
   "version": "2.7.6"
  }
 },
 "nbformat": 4,
 "nbformat_minor": 5
}
